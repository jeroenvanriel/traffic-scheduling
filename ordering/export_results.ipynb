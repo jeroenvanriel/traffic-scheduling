{
 "cells": [
  {
   "cell_type": "code",
   "execution_count": 3,
   "id": "e73cc64a-f412-421d-94e7-a3e6bc8b0e93",
   "metadata": {},
   "outputs": [],
   "source": [
    "import pandas as pd\n",
    "import re"
   ]
  },
  {
   "cell_type": "markdown",
   "id": "dd83aaf2-a303-44e1-ad4d-fb07529437c7",
   "metadata": {},
   "source": [
    "Save the results to `results.csv` for report."
   ]
  },
  {
   "cell_type": "code",
   "execution_count": 4,
   "id": "1be7dc46-ecfa-48f6-bda8-cb298852922f",
   "metadata": {},
   "outputs": [],
   "source": [
    "sets = [1,2,3,4,5,6]\n",
    "test_files = [f\"data/test_{i}.pkl\" for i in sets]\n",
    "\n",
    "total = pd.DataFrame()\n",
    "for test_file in test_files:\n",
    "    i = int(re.findall(r'\\d+', test_file)[0])\n",
    "    data_set = pd.read_pickle(test_file)\n",
    "    data_set['set_id'] = i\n",
    "    total = pd.concat([total, data_set])\n",
    "\n",
    "total = total[['set_id', 'opt_obj', 'threshold_obj', 'neural_obj', 'neural_rnn_obj', 'running_time_0', 'running_time_1', 'running_time_2']]\n",
    "total.to_csv('../report/data/results.csv', index=False)"
   ]
  },
  {
   "cell_type": "code",
   "execution_count": null,
   "id": "5dea67be-6c1c-47c9-8d45-922ed1094f44",
   "metadata": {},
   "outputs": [],
   "source": []
  }
 ],
 "metadata": {
  "kernelspec": {
   "display_name": "Python 3 (ipykernel)",
   "language": "python",
   "name": "python3"
  },
  "language_info": {
   "codemirror_mode": {
    "name": "ipython",
    "version": 3
   },
   "file_extension": ".py",
   "mimetype": "text/x-python",
   "name": "python",
   "nbconvert_exporter": "python",
   "pygments_lexer": "ipython3",
   "version": "3.12.3"
  }
 },
 "nbformat": 4,
 "nbformat_minor": 5
}
