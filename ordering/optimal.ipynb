{
 "cells": [
  {
   "cell_type": "code",
   "execution_count": 4,
   "id": "cbfa66ff-283e-42c6-a412-cdd4ba1b9183",
   "metadata": {},
   "outputs": [],
   "source": [
    "import pandas as pd\n",
    "import numpy as np\n",
    "import time\n",
    "import re\n",
    "import csv\n",
    "import math\n",
    "from tqdm.notebook import tqdm\n",
    "tqdm.pandas()\n",
    "\n",
    "from exact import solve\n",
    "from automaton import evaluate\n",
    "from util import lane_order"
   ]
  },
  {
   "cell_type": "markdown",
   "id": "7e98e08f-b0f2-403e-b4b5-fc6846d6a0fb",
   "metadata": {},
   "source": [
    "Solving with each setting of cutting planes."
   ]
  },
  {
   "cell_type": "code",
   "execution_count": 11,
   "id": "e95fc252-d24b-49ef-8641-057fca8642b8",
   "metadata": {},
   "outputs": [],
   "source": [
    "def eval_exact(data):\n",
    "    def solve_instance(x, cut):\n",
    "        start = time.time()\n",
    "        y = solve(x['instance'], cutting_planes=cut)\n",
    "        return y['y'], y['obj'], time.time() - start\n",
    "\n",
    "    for cut in [0,1,2]:\n",
    "        # apply branch-and-bound with different cutting planes active\n",
    "        data[[f'opt_y_{cut}', f'opt_obj_{cut}', f'running_time_{cut}']] = \\\n",
    "            data.progress_apply(lambda x: solve_instance(x, cut), axis=1, result_type='expand')\n",
    "\n",
    "    # we verify the cutting planes by comparing objectives\n",
    "    data['matching1'] = data.apply(\n",
    "        lambda x: math.isclose(x['opt_obj_0'], x['opt_obj_1'], rel_tol=1e-04), axis=1)\n",
    "    data['matching2'] = data.apply(\n",
    "        lambda x: math.isclose(x['opt_obj_0'], x['opt_obj_2'], rel_tol=1e-04), axis=1)\n",
    "    assert data['matching1'].all() and data['matching2'].all()\n",
    "\n",
    "    # rename and remove columns\n",
    "    data['opt_y'] = data['opt_y_1']\n",
    "    data['opt_obj'] = data['opt_obj_1']\n",
    "    data = data.drop([\n",
    "            'opt_y_0', 'opt_obj_0',\n",
    "            'opt_y_1', 'opt_obj_1',\n",
    "            'opt_y_2', 'opt_obj_2',\n",
    "            'matching1', 'matching2'\n",
    "       ], axis=1, errors='ignore')\n",
    "\n",
    "    # store schedules with their lane order\n",
    "    data['opt_eta'] = data.apply(lambda x: lane_order(x['opt_y']), axis=1)\n",
    "\n",
    "    return data"
   ]
  },
  {
   "cell_type": "markdown",
   "id": "43cc7bdf-b3b8-44cf-b3a9-1fa6abeae376",
   "metadata": {},
   "source": [
    "Solve optimally for the given instances."
   ]
  },
  {
   "cell_type": "code",
   "execution_count": 12,
   "id": "ca27900e-cbf5-4b2a-9e9f-f54aa9a056f7",
   "metadata": {},
   "outputs": [
    {
     "name": "stdout",
     "output_type": "stream",
     "text": [
      "processing data/test_5.pkl\n",
      "branch-and-bound\n"
     ]
    },
    {
     "data": {
      "application/vnd.jupyter.widget-view+json": {
       "model_id": "9d6229a45c064a8fb87648179ed6a065",
       "version_major": 2,
       "version_minor": 0
      },
      "text/plain": [
       "  0%|          | 0/100 [00:00<?, ?it/s]"
      ]
     },
     "metadata": {},
     "output_type": "display_data"
    },
    {
     "data": {
      "application/vnd.jupyter.widget-view+json": {
       "model_id": "b735e2075b004dfb87475b308e2d919f",
       "version_major": 2,
       "version_minor": 0
      },
      "text/plain": [
       "  0%|          | 0/100 [00:00<?, ?it/s]"
      ]
     },
     "metadata": {},
     "output_type": "display_data"
    },
    {
     "data": {
      "application/vnd.jupyter.widget-view+json": {
       "model_id": "f854114cb67d4abab638565896e8fb3c",
       "version_major": 2,
       "version_minor": 0
      },
      "text/plain": [
       "  0%|          | 0/100 [00:00<?, ?it/s]"
      ]
     },
     "metadata": {},
     "output_type": "display_data"
    },
    {
     "name": "stdout",
     "output_type": "stream",
     "text": [
      "processing data/test_6.pkl\n",
      "branch-and-bound\n"
     ]
    },
    {
     "data": {
      "application/vnd.jupyter.widget-view+json": {
       "model_id": "e3abe1c6bcd9468eab4880dc32ce3bfe",
       "version_major": 2,
       "version_minor": 0
      },
      "text/plain": [
       "  0%|          | 0/100 [00:00<?, ?it/s]"
      ]
     },
     "metadata": {},
     "output_type": "display_data"
    },
    {
     "data": {
      "application/vnd.jupyter.widget-view+json": {
       "model_id": "55c75bf22b584fef897b3771aa4f889c",
       "version_major": 2,
       "version_minor": 0
      },
      "text/plain": [
       "  0%|          | 0/100 [00:00<?, ?it/s]"
      ]
     },
     "metadata": {},
     "output_type": "display_data"
    },
    {
     "data": {
      "application/vnd.jupyter.widget-view+json": {
       "model_id": "6d71e388c2934c269479dc8496599624",
       "version_major": 2,
       "version_minor": 0
      },
      "text/plain": [
       "  0%|          | 0/100 [00:00<?, ?it/s]"
      ]
     },
     "metadata": {},
     "output_type": "display_data"
    }
   ],
   "source": [
    "sets = [1,2,3,4,5,6]\n",
    "files = [f\"data/test_{i}.pkl\" for i in sets]\n",
    "\n",
    "for file in files:\n",
    "    print(f\"processing {file}\")\n",
    "    data = pd.read_pickle(file)\n",
    "\n",
    "    print('branch-and-bound')\n",
    "    data = eval_exact(data)\n",
    "\n",
    "    # save everything with pickle\n",
    "    data.to_pickle(file)"
   ]
  },
  {
   "cell_type": "markdown",
   "id": "d58d34e0-b7b8-45e3-959a-b2819167e47a",
   "metadata": {},
   "source": [
    "Save the results to `running_times.csv` for report."
   ]
  },
  {
   "cell_type": "code",
   "execution_count": 13,
   "id": "19789d79-80da-4d45-b6b9-756d52baf006",
   "metadata": {},
   "outputs": [
    {
     "name": "stdout",
     "output_type": "stream",
     "text": [
      "                                             instance  threshold_obj  \\\n",
      "0   {'release': [[2.1825253396400552, 9.8624692089...     373.726948   \n",
      "1   {'release': [[1.3741147147927595, 4.8811769587...     349.482294   \n",
      "2   {'release': [[2.9523270629583163, 6.0075320385...     341.560127   \n",
      "3   {'release': [[4.3732550121114455, 7.3339977972...     344.306399   \n",
      "4   {'release': [[1.0285181116826017, 3.5748770271...     312.384719   \n",
      "..                                                ...            ...   \n",
      "95  {'release': [[10.50897870604066, 12.0523213983...    1031.480453   \n",
      "96  {'release': [[5.637586675461332, 10.4871323435...     938.006767   \n",
      "97  {'release': [[5.619585354306989, 9.33486682095...     872.102500   \n",
      "98  {'release': [[0.49492085463299007, 6.048997660...     804.278330   \n",
      "99  {'release': [[3.0317342218802037, 4.4865882437...     779.789558   \n",
      "\n",
      "    neural_obj  running_time_1  \\\n",
      "0   357.923812        0.039579   \n",
      "1   340.559329        0.065648   \n",
      "2   329.047824        0.035969   \n",
      "3   327.755097        0.040145   \n",
      "4   312.384719        0.109128   \n",
      "..         ...             ...   \n",
      "95  970.500746        0.182313   \n",
      "96  932.001674        0.123021   \n",
      "97  853.501889        0.103829   \n",
      "98  780.892541        0.207786   \n",
      "99  748.082454        0.288994   \n",
      "\n",
      "                                                opt_y     opt_obj  \\\n",
      "0   [[6.756208311679984, 15.20883643242314, 16.208...  357.923812   \n",
      "1   [[6.855134129895024, 7.855134129895001, 8.8551...  338.466948   \n",
      "2   [[7.130208329892454, 8.130208329891786, 9.1302...  329.047824   \n",
      "3   [[4.3732550121114455, 16.778564572693895, 17.7...  327.538536   \n",
      "4   [[1.0285181116826017, 9.028518111682365, 10.02...  312.384719   \n",
      "..                                                ...         ...   \n",
      "95  [[10.50897870604066, 16.50897870604065, 17.508...  969.278014   \n",
      "96  [[6.073703220899233, 17.691914232152413, 18.69...  929.465491   \n",
      "97  [[9.56423713601173, 10.56423713601171, 11.5642...  835.825751   \n",
      "98  [[0.49492085463299007, 8.635192485985531, 9.63...  777.264921   \n",
      "99  [[11.966308875691784, 12.96630887569176, 13.96...  746.868980   \n",
      "\n",
      "    running_time_0  running_time_2  \\\n",
      "0         0.063164        0.059999   \n",
      "1         0.086074        0.075094   \n",
      "2         0.045604        0.031841   \n",
      "3         0.172722        0.037142   \n",
      "4         0.163858        0.052379   \n",
      "..             ...             ...   \n",
      "95        0.222905        0.198650   \n",
      "96        0.207380        0.148102   \n",
      "97        0.076865        0.119673   \n",
      "98        0.202628        0.180428   \n",
      "99        0.250479        0.197279   \n",
      "\n",
      "                                              opt_eta  set_id  \n",
      "0   [1, 1, 1, 0, 1, 1, 1, 0, 0, 0, 0, 0, 0, 1, 1, ...       5  \n",
      "1   [1, 1, 1, 0, 0, 0, 0, 1, 1, 1, 1, 0, 1, 1, 1, ...       5  \n",
      "2   [1, 1, 0, 0, 0, 0, 0, 0, 0, 0, 0, 0, 1, 1, 1, ...       5  \n",
      "3   [1, 0, 1, 1, 1, 1, 1, 1, 1, 0, 0, 0, 0, 0, 0, ...       5  \n",
      "4   [0, 1, 1, 1, 0, 0, 0, 0, 0, 0, 1, 1, 1, 1, 1, ...       5  \n",
      "..                                                ...     ...  \n",
      "95  [1, 1, 0, 1, 0, 0, 0, 0, 1, 1, 1, 1, 1, 0, 0, ...       6  \n",
      "96  [1, 0, 1, 1, 1, 1, 1, 0, 0, 0, 0, 1, 0, 1, 1, ...       6  \n",
      "97  [1, 1, 1, 0, 0, 0, 0, 0, 0, 1, 1, 1, 1, 1, 1, ...       6  \n",
      "98  [0, 1, 1, 0, 0, 0, 1, 1, 1, 1, 1, 1, 0, 0, 0, ...       6  \n",
      "99  [1, 1, 1, 1, 1, 1, 0, 0, 0, 0, 1, 1, 1, 0, 0, ...       6  \n",
      "\n",
      "[200 rows x 10 columns]\n"
     ]
    }
   ],
   "source": [
    "total = pd.DataFrame()\n",
    "for test_file in files:\n",
    "    i = int(re.findall(r'\\d+', test_file)[0])\n",
    "    data_set = pd.read_pickle(test_file)\n",
    "    data_set['set_id'] = i\n",
    "    total = pd.concat([total, data_set])\n",
    "\n",
    "\n",
    "total = total[['set_id', 'opt_obj', 'threshold_obj', 'neural_obj']]\n",
    "print(total)\n",
    "#total.to_csv('../report/data/results.csv', index=False)"
   ]
  },
  {
   "cell_type": "code",
   "execution_count": null,
   "id": "92a6c331-448e-4e72-bba0-eeea298e1923",
   "metadata": {},
   "outputs": [],
   "source": []
  }
 ],
 "metadata": {
  "kernelspec": {
   "display_name": "Python 3 (ipykernel)",
   "language": "python",
   "name": "python3"
  },
  "language_info": {
   "codemirror_mode": {
    "name": "ipython",
    "version": 3
   },
   "file_extension": ".py",
   "mimetype": "text/x-python",
   "name": "python",
   "nbconvert_exporter": "python",
   "pygments_lexer": "ipython3",
   "version": "3.12.3"
  }
 },
 "nbformat": 4,
 "nbformat_minor": 5
}
