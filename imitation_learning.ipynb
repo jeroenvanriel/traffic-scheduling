{
 "cells": [
  {
   "cell_type": "code",
   "execution_count": 1,
   "id": "2d82cbba-7986-4a0f-b63f-8900776794a8",
   "metadata": {},
   "outputs": [
    {
     "name": "stdout",
     "output_type": "stream",
     "text": [
      "/home/jeroen/repos/traffic-scheduling/network\n"
     ]
    }
   ],
   "source": [
    "%cd /home/jeroen/repos/traffic-scheduling/network/\n",
    "from generate_network import generate_simple_instance\n",
    "from automaton import Automaton"
   ]
  },
  {
   "cell_type": "code",
   "execution_count": 2,
   "id": "064ebb59-e44d-40e4-9ba8-f4c04985d39b",
   "metadata": {},
   "outputs": [],
   "source": [
    "instance = generate_simple_instance()"
   ]
  },
  {
   "cell_type": "markdown",
   "id": "c5f37d78-f88d-4c82-8800-599bdb39dadc",
   "metadata": {},
   "source": [
    "### Obtain expert demonstration"
   ]
  },
  {
   "cell_type": "code",
   "execution_count": 3,
   "id": "e736a481-4ee4-462f-914d-bc8c471fdafa",
   "metadata": {},
   "outputs": [],
   "source": [
    "from exact import solve\n",
    "y, obj = solve(instance)"
   ]
  },
  {
   "cell_type": "markdown",
   "id": "96eb2a0e-2a79-4149-9a0f-20d763089007",
   "metadata": {},
   "source": [
    "We solve the instance to optimality with an exact method. Next, we use the resulting crossing time schedule to compute actions for the automaton that lead to the same schedule. However, this sequence of actions is not unique: the order in which intersections are considered does not matter for the final schedule. Therefore, we sample some intersection order and replay the sequence of actions on the automaton to generate the corresponding sequence of state-action pairs. At this point, we **copy the whole disjunctive graph** for each state."
   ]
  },
  {
   "cell_type": "code",
   "execution_count": 4,
   "id": "a33441c0-c9c3-44ab-8501-08d32cf49fc2",
   "metadata": {},
   "outputs": [],
   "source": [
    "from random import choice\n",
    "from util import vehicle_indices\n",
    "\n",
    "def collect_state_action_pairs(instance, schedule):\n",
    "    \"\"\"Collect states and actions leading to the given schedule.\n",
    "    `schedule` is a dict mapping (route, order, node) tuples to crossing times.\n",
    "    \"\"\"\n",
    "    automaton = Automaton(instance)\n",
    "\n",
    "    # Compute the order in which vehicles pass each intersection\n",
    "    # based on the order of the route to which the vehicles belong.\n",
    "    route_order = {}\n",
    "    indices = schedule.keys() # (r, k, v) tuples\n",
    "    for v in instance['G'].intersections:\n",
    "        # note the minus sign: reverse sorted order, so last route first\n",
    "        route_order[v] = sorted(filter(lambda x: x[2] == v, indices), key=lambda i: -schedule[i])\n",
    "        route_order[v] = list(map(lambda x: x[0], route_order[v])) # take route index\n",
    "    \n",
    "    actions = []\n",
    "    states = [automaton.D.copy()] # initial state is empty disjunctive graph\n",
    "\n",
    "    # keep track of which intersections still have unscheduled vehicles\n",
    "    pending_intersections = list(route_order.keys())\n",
    "    while len(pending_intersections) > 0:\n",
    "        v = choice(pending_intersections)\n",
    "        # we can now pop from back because route_order[v] was reverse sorted\n",
    "        r = route_order[v].pop() \n",
    "        automaton.step(r, v)\n",
    "    \n",
    "        # record state-action pair\n",
    "        actions.append((r, v))\n",
    "        states.append(automaton.D.copy())\n",
    "    \n",
    "        # remove intersection if done\n",
    "        if len(route_order[v]) == 0:\n",
    "            pending_intersections.remove(v)\n",
    "\n",
    "    return states, actions, automaton"
   ]
  },
  {
   "cell_type": "markdown",
   "id": "f3196d04-451a-47f2-a6dd-1e4ea0fbde30",
   "metadata": {},
   "source": [
    "Verify the reconstruction by replaying the given actions and checking whether we arrive at the same schedule again."
   ]
  },
  {
   "cell_type": "code",
   "execution_count": 5,
   "id": "b1d50c10-64ee-4ff4-bf15-b34b59523200",
   "metadata": {},
   "outputs": [],
   "source": [
    "from networkx import get_node_attributes\n",
    "import numpy as np\n",
    "\n",
    "states, actions, automaton = collect_state_action_pairs(instance, y)\n",
    "automaton = Automaton(instance)\n",
    "for action in actions:\n",
    "    automaton.step(*action)\n",
    "LB = get_node_attributes(automaton.D, 'LB')\n",
    "np.testing.assert_allclose(np.array(list(LB.values())), np.array(list(y.values())))"
   ]
  },
  {
   "cell_type": "markdown",
   "id": "759d7f7a-e3f6-459c-bb56-522e10cfea84",
   "metadata": {},
   "source": [
    "### Imitation learning with GNN policy"
   ]
  },
  {
   "cell_type": "code",
   "execution_count": 36,
   "id": "3e092dec-c0f3-4190-80ca-3736b8eb88fa",
   "metadata": {},
   "outputs": [],
   "source": [
    "from torch_geometric.utils.convert import from_networkx\n",
    "\n",
    "# force double during conversion\n",
    "torch.set_default_dtype(torch.float64)\n",
    "\n",
    "graphs = []\n",
    "for state in states:\n",
    "    graphs.append(from_networkx(state, group_node_attrs=['LB', 'done']))\n",
    "\n",
    "num_actions = len(set(actions))"
   ]
  },
  {
   "cell_type": "markdown",
   "id": "aee8c003-9dc7-4712-b197-b14ef48b9eb2",
   "metadata": {},
   "source": [
    "We now have the following graph classification task: map state graph to action, which is a (route, intersection) pair."
   ]
  },
  {
   "cell_type": "code",
   "execution_count": 85,
   "id": "1b3e9402-ff39-4576-b6a2-b9211bf96179",
   "metadata": {},
   "outputs": [],
   "source": [
    "import torch\n",
    "import torch.nn.functional as F\n",
    "from torch.nn import Linear\n",
    "from torch_geometric.nn import GCNConv\n",
    "\n",
    "class GNN(torch.nn.Module):\n",
    "    def __init__(self):\n",
    "        super().__init__()\n",
    "        node_embedding_dim = 16\n",
    "        self.conv1 = GCNConv(2, 16)\n",
    "        self.conv2 = GCNConv(16, node_embedding_dim)\n",
    "        \n",
    "        self.lin1 = Linear(node_embedding_dim, 16)\n",
    "        self.lin2 = Linear(16, 1)\n",
    "\n",
    "    def forward(self, data):\n",
    "        x, edge_index = data.x, data.edge_index\n",
    "\n",
    "        x = self.conv1(x, edge_index)\n",
    "        x = F.relu(x)\n",
    "        x = self.conv2(x, edge_index)\n",
    "\n",
    "        y = self.lin1(x)\n",
    "        y = F.relu(y)\n",
    "        y = self.lin2(y).squeeze()\n",
    "        \n",
    "        return F.softmax(y, dim=0)"
   ]
  },
  {
   "cell_type": "code",
   "execution_count": 86,
   "id": "19ded31d-c0ae-40c1-a75e-ae57a9b406c9",
   "metadata": {},
   "outputs": [
    {
     "data": {
      "text/plain": [
       "tensor([0.0307, 0.0294, 0.0329, 0.0298, 0.0305, 0.0365, 0.0297, 0.0336, 0.0382,\n",
       "        0.0300, 0.0294, 0.0338, 0.0287, 0.0310, 0.0369, 0.0299, 0.0337, 0.0383,\n",
       "        0.0298, 0.0295, 0.0339, 0.0379, 0.0288, 0.0314, 0.0373, 0.0410, 0.0304,\n",
       "        0.0349, 0.0393, 0.0428], grad_fn=<SoftmaxBackward0>)"
      ]
     },
     "execution_count": 86,
     "metadata": {},
     "output_type": "execute_result"
    }
   ],
   "source": [
    "model = GNN()\n",
    "model(graphs[0])"
   ]
  },
  {
   "cell_type": "code",
   "execution_count": null,
   "id": "f3f7aacb-f17b-4e09-b06d-5aaf6dcb1446",
   "metadata": {},
   "outputs": [],
   "source": []
  }
 ],
 "metadata": {
  "kernelspec": {
   "display_name": "Python 3 (ipykernel)",
   "language": "python",
   "name": "python3"
  },
  "language_info": {
   "codemirror_mode": {
    "name": "ipython",
    "version": 3
   },
   "file_extension": ".py",
   "mimetype": "text/x-python",
   "name": "python",
   "nbconvert_exporter": "python",
   "pygments_lexer": "ipython3",
   "version": "3.12.3"
  }
 },
 "nbformat": 4,
 "nbformat_minor": 5
}
