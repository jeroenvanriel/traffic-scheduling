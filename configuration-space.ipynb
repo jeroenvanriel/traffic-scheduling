{
 "cells": [
  {
   "cell_type": "code",
   "execution_count": 1,
   "id": "63eb9b25-f887-47c5-9c9c-f18c10d32721",
   "metadata": {},
   "outputs": [],
   "source": [
    "import math\n",
    "import numpy as np\n",
    "import matplotlib.pyplot as plt\n",
    "\n",
    "# system parameters\n",
    "alpha = math.pi / 3\n",
    "L = 2\n",
    "W = 1\n",
    "\n",
    "# main auxilliary distances\n",
    "c = W / math.tan(alpha)\n",
    "d = W / math.sin(alpha)\n",
    "\n",
    "# fix intersection position\n",
    "B = 0\n",
    "E = B + c + d\n",
    "\n",
    "def Upp(x):\n",
    "    if B < x <= B + c:\n",
    "        return B + (x - B) / math.cos(alpha)\n",
    "    elif B + c < x < E:\n",
    "        return E + (x - E) * math.cos(alpha)\n",
    "    elif x >= E and x - L < E:\n",
    "        return E\n",
    "    else: # x <= B or x - L >= E:\n",
    "        return -np.inf # no bound, i.e. -infty\n",
    "\n",
    "def Low(x):\n",
    "    if B < x - L <= E - c:\n",
    "        return B + (x - L - B) / math.cos(alpha)\n",
    "    elif E - c <= x - L < E:\n",
    "        return E + (x - L - E) * math.cos(alpha)\n",
    "    elif x - L <= B and x > B:\n",
    "        return B\n",
    "    else: # x - L >= E or x <= B:\n",
    "        return np.inf # no bound, i.e. infty"
   ]
  },
  {
   "cell_type": "code",
   "execution_count": 2,
   "id": "16bcd919-3248-446b-b67b-38ea95958bcb",
   "metadata": {},
   "outputs": [
    {
     "data": {
      "image/png": "[encoded data removed]",
      "text/plain": [
       "<Figure size 640x480 with 1 Axes>"
      ]
     },
     "metadata": {},
     "output_type": "display_data"
    }
   ],
   "source": [
    "xx1, xx2 = [], []\n",
    "\n",
    "# plot the forbidden configurations\n",
    "for x1 in np.arange(0, 6, 0.05):\n",
    "    for x2 in np.arange(0, 6, 0.05):\n",
    "        if (Low(x1) < x2 and x2 - L < Upp(x1)) or (Low(x2) < x1 and x1 - L < Upp(x2)):\n",
    "            xx1.append(x1)\n",
    "            xx2.append(x2)\n",
    "\n",
    "plt.scatter(xx1, xx2, s=1);\n",
    "plt.gca().set_aspect('equal');\n",
    "plt.gca().set_xlabel('x1'); plt.gca().set_ylabel('x2');\n",
    "ax = plt.gca()\n",
    "ax.set_xlim([-1, 6]);\n",
    "ax.set_ylim([-1, 6]);\n",
    "plt.savefig('report/figures/config-3.pdf')"
   ]
  },
  {
   "cell_type": "code",
   "execution_count": null,
   "id": "cc82a044-3c3f-4c52-810e-fcf769012316",
   "metadata": {},
   "outputs": [],
   "source": []
  }
 ],
 "metadata": {
  "kernelspec": {
   "display_name": "Python 3 (ipykernel)",
   "language": "python",
   "name": "python3"
  },
  "language_info": {
   "codemirror_mode": {
    "name": "ipython",
    "version": 3
   },
   "file_extension": ".py",
   "mimetype": "text/x-python",
   "name": "python",
   "nbconvert_exporter": "python",
   "pygments_lexer": "ipython3",
   "version": "3.12.3"
  }
 },
 "nbformat": 4,
 "nbformat_minor": 5
}
