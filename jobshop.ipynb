{
 "cells": [
  {
   "cell_type": "code",
   "execution_count": 1,
   "id": "0db62e34-ea45-4e8d-92e8-0eac6bd59f02",
   "metadata": {},
   "outputs": [],
   "source": [
    "import numpy as np\n",
    "from tqdm.notebook import tqdm, trange"
   ]
  },
  {
   "cell_type": "markdown",
   "id": "42675615-be43-401c-b7ca-cd752b3e4488",
   "metadata": {
    "jp-MarkdownHeadingCollapsed": true
   },
   "source": [
    "### Job-shop scheduling"
   ]
  },
  {
   "cell_type": "markdown",
   "id": "4fa1a81c-43ee-4f8a-a7ae-9f8856eac6cb",
   "metadata": {},
   "source": [
    "We use `i` for job indices and `j` for operations indices, so `(i, j)` refers to operation $O_{ij}$. This is different from what other authors do, e.g. use `i` for machines and `j` for job indices. We call the order in which a job visits machines the \"machine visit order\", denoted `order` in code. For each machine, we call the order of jobs that visit this machine the \"machine order\", denoted `machine_order` in code."
   ]
  },
  {
   "cell_type": "code",
   "execution_count": 2,
   "id": "3a595814-3105-4e3c-becb-bbd20eea0242",
   "metadata": {},
   "outputs": [],
   "source": [
    "instance = {\n",
    "    # machine visit order of each job\n",
    "    'order': [\n",
    "        [2, 1, 3],\n",
    "        [1, 2, 3, 4],\n",
    "        [1, 2],\n",
    "    ],\n",
    "    # processing times\n",
    "    'processing': [\n",
    "        [3, 4, 2],\n",
    "        [4, 3, 5, 2],\n",
    "        [8, 3],\n",
    "    ],\n",
    "    #'release': ..., # not implemented\n",
    "}"
   ]
  },
  {
   "cell_type": "markdown",
   "id": "503db80a-264e-4164-8e0f-1891f67e04e0",
   "metadata": {},
   "source": [
    "We generate random job-shop instances, roughly following the method of (Taillard, 1993)."
   ]
  },
  {
   "cell_type": "code",
   "execution_count": 3,
   "id": "0f90a4aa-10e6-4b4a-979c-158d1315d3e3",
   "metadata": {},
   "outputs": [],
   "source": [
    "def generate_instance(machines=10, jobs=10):\n",
    "    \"\"\"Generate a random job-shop instances.\"\"\"\n",
    "    rng = np.random.default_rng()\n",
    "\n",
    "    # sample uniformly distributed processing times\n",
    "    processing = [ [ rng.uniform(1, 100) for _ in range(machines) ] for _ in range(jobs) ]\n",
    "\n",
    "    # initial machine order\n",
    "    order = [ list(range(machines)) for _ in range(jobs) ]\n",
    "    # randomly permute the order\n",
    "    for i in range(jobs):\n",
    "        for j in range(machines):\n",
    "            # swap M_{i,j} and M_{i, U[j,machines]} (see Taillard)\n",
    "            u = rng.integers(j, machines)\n",
    "            temp = order[i][j]\n",
    "            order[i][j] = order[i][u]\n",
    "            order[i][u] = temp\n",
    "    \n",
    "    return { 'order': order, 'processing': processing }        "
   ]
  },
  {
   "cell_type": "code",
   "execution_count": 4,
   "id": "33182d3d-db37-4b8d-a094-5128505516ac",
   "metadata": {},
   "outputs": [],
   "source": [
    "def indices(instance):\n",
    "    \"\"\"All operation (i,j) indices as consecutive numbers.\"\"\"\n",
    "    p = instance['processing']\n",
    "    J = range(len(p)) # job indices (i)\n",
    "    N = [range(len(p[i])) for i in J] # operation indices (j)\n",
    "    return [(i, j) for i in J for j in N[i]] # combined (i, j)\n",
    "\n",
    "def machine_indices(instance):\n",
    "    # use sum to flatten list of lists (recall that `['a'] + ['b'] = ['a', 'b']`)\n",
    "    return sorted(set(sum(instance['order'], [])))"
   ]
  },
  {
   "cell_type": "markdown",
   "id": "29d17807-2c80-4eae-b7d9-1bb413609a47",
   "metadata": {},
   "source": [
    "The following two functions do not assume that `indices` contains consecutive numbers 1,...,n like `indices()` produces, but allows them to be 'ragged'. This is helpful when dealing with dynamic problems, where part of the original problem may be reconsidered."
   ]
  },
  {
   "cell_type": "code",
   "execution_count": 5,
   "id": "db99bf2c-9c7f-4866-800a-33d309342fec",
   "metadata": {},
   "outputs": [],
   "source": [
    "def job_indices(indices):\n",
    "    \"\"\"Get all job indices i from list of (i,j) indices.\"\"\"\n",
    "    return sorted(set([i[0] for i in indices]))\n",
    "\n",
    "def operation_indices(indices):\n",
    "    \"\"\"Map job index i to list of operation indices 1,...,n_i.\"\"\"\n",
    "    return { job: sorted([j for (i, j) in indices if i == job]) for job in job_indices(indices) }"
   ]
  },
  {
   "cell_type": "markdown",
   "id": "f32d7e70-2d4f-4be1-bc7b-d557224df2a4",
   "metadata": {
    "jp-MarkdownHeadingCollapsed": true
   },
   "source": [
    "### Solve exact"
   ]
  },
  {
   "cell_type": "markdown",
   "id": "84b397af-35af-46fd-ba76-2aea2f32e61a",
   "metadata": {},
   "source": [
    "We solve for the minimum makespan objective."
   ]
  },
  {
   "cell_type": "code",
   "execution_count": 6,
   "id": "bda0c65d-5746-4793-9faf-278550b78418",
   "metadata": {},
   "outputs": [],
   "source": [
    "import gurobipy as gp\n",
    "from itertools import combinations\n",
    "\n",
    "def solve(instance, gap=0.0, timelimit=0, consolelog=False, logfile=None):\n",
    "    env = gp.Env(empty=True)\n",
    "    if not consolelog:\n",
    "        env.setParam('LogToConsole', 0)  # disable console logging\n",
    "    if logfile is not None:\n",
    "        env.setParam('LogFile', logfile)\n",
    "        # make sure directory exists\n",
    "        os.makedirs(os.path.dirname(os.path.abspath(logfile)), exist_ok=True)\n",
    "    if timelimit > 0:\n",
    "        env.setParam('TimeLimit', timelimit)\n",
    "\n",
    "    env.start()\n",
    "    g = gp.Model(env=env)\n",
    "\n",
    "    # big-M\n",
    "    M = 1000\n",
    "\n",
    "    ij = indices(instance)\n",
    "    mx = machine_indices(instance)\n",
    "    ix = job_indices(ij)\n",
    "    jx = operation_indices(ij)\n",
    "\n",
    "    p = instance['processing']\n",
    "    \n",
    "    # non-negative starting times\n",
    "    y = { (i, j): g.addVar(obj=0, vtype=gp.GRB.CONTINUOUS, name=f\"y_{i}_{j}\") for i, j in ij }\n",
    "    \n",
    "    # conjunctions\n",
    "    for i in ix:\n",
    "        for j, l in zip(jx[i][:-1], jx[i][1:]):\n",
    "            g.addConstr(y[i, j] + p[i][j] <= y[i, l])\n",
    "\n",
    "    # disjunctions\n",
    "    s = {}\n",
    "    for m in mx:\n",
    "        for i1, i2 in combinations(ix, 2):\n",
    "            try:\n",
    "                j1 = instance['order'][i1].index(m)\n",
    "                j2 = instance['order'][i2].index(m)\n",
    "            except ValueError:\n",
    "                # machine not visited by one of the jobs\n",
    "                continue\n",
    "            \n",
    "            # disjunctive variables for \"selecting\" disjunctive arcs\n",
    "            # s[machine m, job i1, job i2] == true iff job i2 before job i1\n",
    "            s[m, i1, i2] = g.addVar(obj=0, vtype=gp.GRB.BINARY, name=f\"s_{m}_{i1}_{i2}\")\n",
    "            \n",
    "            # i1 before i2\n",
    "            g.addConstr(y[i1, j1] + p[i1][j1] <= y[i2, j2] + s[m, i1, i2] * M)\n",
    "\n",
    "            # i2 before i1\n",
    "            g.addConstr(y[i2, j2] + p[i2][j2] <= y[i1, j1] + (1 - s[m, i1, i2]) * M)\n",
    "\n",
    "    # non-negative makespan\n",
    "    makespan = g.addVar(obj=1, vtype=gp.GRB.CONTINUOUS, name=\"makespan\")\n",
    "    # makespan constraints\n",
    "    for i, j in ij:\n",
    "        g.addConstr(y[i, j] + p[i][j] <= makespan)\n",
    "    \n",
    "    g.ModelSense = gp.GRB.MINIMIZE\n",
    "    g.Params.MIPGap = gap\n",
    "    g.update()\n",
    "    g.optimize()\n",
    "\n",
    "    y = { k : (v.X if hasattr(v, 'X') else v) for k, v in y.items() }\n",
    "    return y, g.getObjective().getValue()"
   ]
  },
  {
   "cell_type": "code",
   "execution_count": 7,
   "id": "1d5c9a72-75b8-4291-a60d-4704e5375969",
   "metadata": {},
   "outputs": [],
   "source": [
    "schedule, obj = solve(generate_instance())"
   ]
  },
  {
   "cell_type": "markdown",
   "id": "0a3694fb-59dc-47dd-9949-8a0a7a349b6c",
   "metadata": {
    "jp-MarkdownHeadingCollapsed": true
   },
   "source": [
    "### Automaton"
   ]
  },
  {
   "cell_type": "code",
   "execution_count": 8,
   "id": "0c2e776a-c907-4c9b-8aca-d23b6cf86c94",
   "metadata": {},
   "outputs": [],
   "source": [
    "import networkx as nx\n",
    "from networkx import topological_sort\n",
    "\n",
    "class Automaton:\n",
    "    \"\"\"Dynamically updates disjunctive graph augmented with starting time lower\n",
    "    bounds. Assumes non-negative starting times.\n",
    "\n",
    "    Automaton.D is a networkx graph representing the disjunctive graph. Each\n",
    "    node has the following attributes:\n",
    "\n",
    "    - `LB` contains the starting time lower bound.\n",
    "    - `done` (0 or 1) indicates whether the operation has been scheduled.\n",
    "    - `action_mask` indicates whether this node encodes an operation that can be\n",
    "      scheduled next, i.e, a valid action, thus encoding the action space mask.\"\"\"\n",
    "\n",
    "    def __init__(self, instance):\n",
    "        self.order = instance['order']\n",
    "        self.processing = instance['processing']\n",
    "        \n",
    "        self.indices = indices(instance)\n",
    "        self.machine_indices = machine_indices(instance)\n",
    "        self.job_indices = job_indices(self.indices)\n",
    "        self.operation_indices = operation_indices(self.indices)\n",
    "\n",
    "        # map machine m to list of scheduled indices (i, j)\n",
    "        self.machine_order = { m: [] for m in self.machine_indices }\n",
    "        # map from job index i to list of unscheduled operation indices j\n",
    "        # use list(...) to create a copy, reversed(...) to use .pop()\n",
    "        self.unscheduled = { i: list(reversed(self.operation_indices[i])) for i in self.job_indices }\n",
    "        self.done = False\n",
    "        \n",
    "        # build the initial disjunctive graph\n",
    "        self.D = nx.DiGraph()\n",
    "\n",
    "        # add nodes\n",
    "        for i, j in self.indices:\n",
    "            # also set action_mask for every first operation (j == 0) of each\n",
    "            self.D.add_node((i, j), label=((i, j)), LB=0, done=0, action_mask=int(j == 0))\n",
    "        \n",
    "        # conjunctions\n",
    "        for i in self.job_indices:\n",
    "            for j1, j2 in zip(self.operation_indices[i][:-1], self.operation_indices[i][1:]):\n",
    "                self.D.add_edge((i, j1), (i, j2), weight=self.processing[i][j1], arc_type='c')\n",
    "\n",
    "        # calculate initial lower bounds for empty schedule\n",
    "        self.update_LB()\n",
    "\n",
    "\n",
    "    def update_LB(self):\n",
    "        for v in topological_sort(self.D):\n",
    "            for u in self.D.predecessors(v):\n",
    "                self.D.nodes[v]['LB'] = max(self.D.nodes[v]['LB'], self.D.nodes[u]['LB'] + self.D.edges[u, v]['weight'])\n",
    "\n",
    "    \n",
    "    def step(self, i):\n",
    "        # get next operation index j\n",
    "        j = self.unscheduled[i].pop()\n",
    "        # mark operation (i, j) as done...\n",
    "        self.D.nodes[i, j]['done'] = 1\n",
    "        # ...and its action as invalid...\n",
    "        self.D.nodes[i, j]['action_mask'] = 0\n",
    "        if len(self.unscheduled[i]) > 0:\n",
    "            # ...and the next operation (if any) for this job as next valid action\n",
    "            self.D.nodes[i, self.unscheduled[i][-1]]['action_mask'] = 1\n",
    "        else:\n",
    "            # remove key from dict if job is completely done\n",
    "            # (we depend on this in the optimal schedule backtracking procedure)\n",
    "            del self.unscheduled[i]\n",
    "        \n",
    "        # operation (i, j) needs machine m\n",
    "        m = self.order[i][j]\n",
    "\n",
    "        # any operations scheduled on this machine?\n",
    "        if len(self.machine_order[m]) > 0: \n",
    "            # ..then get the last one\n",
    "            prev_i, prev_j = self.machine_order[m][-1]\n",
    "            # ...and add disjunctive arc from it to current operation\n",
    "            self.D.add_edge((prev_i, prev_j), (i, j), weight=self.processing[prev_i][prev_j], arc_type='d')\n",
    "\n",
    "        # append current operation to machine order\n",
    "        self.machine_order[m].append((i, j))\n",
    "\n",
    "        # done when all operations all scheduled\n",
    "        self.done = not self.unscheduled # empty dictionary is equivalent to False\n",
    "        \n",
    "        # update starting time lower bounds\n",
    "        self.update_LB()\n",
    "\n",
    "\n",
    "    def get_obj(self):\n",
    "        \"\"\"Compute the makespan objective.\"\"\"\n",
    "        makespan = 0\n",
    "        for i, j in self.indices:\n",
    "            makespan = max(makespan, self.D.nodes[i, j]['LB'] + self.processing[i][j])\n",
    "        return makespan"
   ]
  },
  {
   "cell_type": "markdown",
   "id": "bb7bc5d7-3fe8-4963-9045-65176cc98f70",
   "metadata": {
    "jp-MarkdownHeadingCollapsed": true
   },
   "source": [
    "### Draw disjunctive graph"
   ]
  },
  {
   "cell_type": "code",
   "execution_count": 35,
   "id": "6df71ca4-4845-41e2-8b77-62d6f388e487",
   "metadata": {},
   "outputs": [],
   "source": [
    "from matplotlib import colormaps\n",
    "\n",
    "def draw_disjunctive_graph(automaton, operation_indices=True, time_labels=True):\n",
    "    \"\"\"For each job, operations are shown as a row. Operations on the same machine have the same color.\"\"\"\n",
    "    pos = {}\n",
    "    for i in automaton.job_indices:\n",
    "        for j in automaton.operation_indices[i]:\n",
    "            # grid positions\n",
    "            pos[i, j] = (j, -i)\n",
    "\n",
    "    node_color = []\n",
    "    cmap = colormaps[\"Paired\"] # machine colors\n",
    "    for i, j in automaton.D.nodes:\n",
    "        # operation color based on machine\n",
    "        node_color.append(cmap(automaton.order[i][j]))\n",
    "\n",
    "    nx.draw_networkx(automaton.D, pos=pos, node_color=node_color, with_labels=False, node_size=1600, arrowsize=20)\n",
    "\n",
    "    # operation indices\n",
    "    if operation_indices:\n",
    "        labels = { (i, j): f\"({i}, {j})\" for i, j in automaton.D.nodes }\n",
    "        nx.draw_networkx_labels(automaton.D, labels=labels, font_size=9, pos={ (i, j): (pos[i, j][0], pos[i, j][1] + 0.15) for i, j in pos })\n",
    "    \n",
    "    # LB labels with processing time in parentheses\n",
    "    if time_labels:\n",
    "        labels = { (i, j): f\"{automaton.D.nodes[i, j]['LB']:.2f}\\n({automaton.processing[i][j]:.2f})\" for i, j in automaton.D.nodes }\n",
    "        nx.draw_networkx_labels(automaton.D, labels=labels, font_size=10, pos={ (i, j): (pos[i, j][0], pos[i, j][1] - 0.05) for i, j in pos })"
   ]
  },
  {
   "cell_type": "markdown",
   "id": "e5130463-ac62-4a7c-9869-fa7d9a7cf675",
   "metadata": {
    "jp-MarkdownHeadingCollapsed": true
   },
   "source": [
    "### Random dispatcher"
   ]
  },
  {
   "cell_type": "code",
   "execution_count": 41,
   "id": "5d993719-310e-4fa7-9426-baa52f0ee39c",
   "metadata": {},
   "outputs": [],
   "source": [
    "from random import choice\n",
    "\n",
    "automaton = Automaton(generate_instance(machines=3, jobs=3))\n",
    "\n",
    "while not automaton.done:\n",
    "    candidates = [i for i in automaton.job_indices if i in automaton.unscheduled]\n",
    "    i = choice(candidates)\n",
    "    automaton.step(i)"
   ]
  },
  {
   "cell_type": "markdown",
   "id": "98973c27-728b-4ee9-84f5-a5faf178baf2",
   "metadata": {},
   "source": [
    "Draw the disjunctive graph for this example schedule. Each node shows the operation index `(i, j)`, the starting time (lower bound) and the processing time in parentheses."
   ]
  },
  {
   "cell_type": "code",
   "execution_count": 44,
   "id": "a9135dbe-894c-4a1f-b63b-63dd2ae75a9c",
   "metadata": {},
   "outputs": [
    {
     "data": {
      "image/png": "[encoded data removed]",
      "text/plain": [
       "<Figure size 640x480 with 1 Axes>"
      ]
     },
     "metadata": {},
     "output_type": "display_data"
    }
   ],
   "source": [
    "draw_disjunctive_graph(automaton)"
   ]
  },
  {
   "cell_type": "markdown",
   "id": "77657c4a-e9a5-4911-b17c-102c3e9f5a2f",
   "metadata": {},
   "source": [
    "### Backtrack dispatching order"
   ]
  },
  {
   "cell_type": "markdown",
   "id": "55913798-b01f-4206-9382-5d140bb466ff",
   "metadata": {},
   "source": [
    "We backtrack a dispatch order that leads to the given optimal schedule. Note that there may be multiple valid such dispatching orders."
   ]
  },
  {
   "cell_type": "code",
   "execution_count": 12,
   "id": "407ae8b8-e72b-417c-804f-56d7df90928d",
   "metadata": {},
   "outputs": [],
   "source": [
    "from random import choice\n",
    "\n",
    "def collect_state_action_pairs(instance, schedule):\n",
    "    \"\"\"Collect states and actions leading to the given schedule.\n",
    "    `schedule` is a dict mapping each operation (i, j) to its starting times.\n",
    "    \"\"\"\n",
    "    automaton = Automaton(instance)\n",
    "    # initial state is empty disjunctive graph\n",
    "    states = [automaton.D.copy()]\n",
    "    actions = []\n",
    "\n",
    "    ## compute machine order from optimal schedule\n",
    "    # for each machine, collect the operations that need it\n",
    "    machine_order = { m: [] for m in automaton.machine_indices }\n",
    "    for i, j in automaton.indices:\n",
    "        machine_order[automaton.order[i][j]].append((i, j))\n",
    "    # for each machine, sort these operations according to the scheduled starting time\n",
    "    for m in automaton.machine_indices:\n",
    "        # reversed(...) to use same convention as automaton.unscheduled\n",
    "        machine_order[m] = list(reversed(sorted(machine_order[m], key=lambda ij: schedule[ij])))\n",
    "\n",
    "    ## replay on the automaton to collect disjunctive graph states\n",
    "    while not automaton.done:\n",
    "        # valid operation must be next w.r.t. to job and w.r.t. to machine order\n",
    "        next_per_job = set((i, automaton.unscheduled[i][-1]) for i in automaton.unscheduled)\n",
    "        next_per_machine = set(machine_order[m][-1] for m in machine_order)\n",
    "        valid_operations = list(next_per_job & next_per_machine)\n",
    "        \n",
    "        # randomly choose a valid operation to dispatch next\n",
    "        i, j = choice(valid_operations)\n",
    "        automaton.step(i) # (automaton can deduce j)\n",
    "\n",
    "        # record state-action pair\n",
    "        actions.append((i, j))\n",
    "        states.append(automaton.D.copy())\n",
    "\n",
    "        # update our precomputed machine_order\n",
    "        m = automaton.order[i][j]\n",
    "        machine_order[m].pop()\n",
    "        if len(machine_order[m]) == 0:\n",
    "            del machine_order[m]\n",
    "\n",
    "    return states, actions"
   ]
  },
  {
   "cell_type": "markdown",
   "id": "ce7e55f3-2034-42b4-a079-a1d6caf9a15f",
   "metadata": {},
   "source": [
    "Verify correctness by replaying the actions."
   ]
  },
  {
   "cell_type": "code",
   "execution_count": 13,
   "id": "413a3ce7-8eee-4cf6-93ca-0a8b47a724a5",
   "metadata": {},
   "outputs": [],
   "source": [
    "from networkx import get_node_attributes\n",
    "import math\n",
    "\n",
    "instance = generate_instance(machines=4, jobs=3)\n",
    "schedule, obj = solve(instance)\n",
    "\n",
    "states, actions = collect_state_action_pairs(instance, schedule)\n",
    "automaton = Automaton(instance)\n",
    "for a in actions:\n",
    "    i, j = a\n",
    "    automaton.step(i)\n",
    "LB = get_node_attributes(automaton.D, 'LB')\n",
    "makespan = max(LB[i, j] + automaton.processing[i][j] for i, j in automaton.indices)\n",
    "assert math.isclose(makespan, obj)"
   ]
  },
  {
   "cell_type": "markdown",
   "id": "0fed2b94-7aac-4079-8e32-09f240b68010",
   "metadata": {},
   "source": [
    "### Generate training data"
   ]
  },
  {
   "cell_type": "markdown",
   "id": "2c6ba0f1-fb0e-4db1-893c-d4d485f2837b",
   "metadata": {},
   "source": [
    "We solve a couple of instances and collect all the state-action pairs in a single dataset to support mini-batching via the `DataLoader` class."
   ]
  },
  {
   "cell_type": "code",
   "execution_count": 15,
   "id": "0116bba0-42b5-4a13-8985-dd8592fcec8f",
   "metadata": {},
   "outputs": [],
   "source": [
    "import torch\n",
    "from torch_geometric.loader import DataLoader\n",
    "from torch_geometric.utils.convert import from_networkx\n",
    "\n",
    "# force double during conversion\n",
    "torch.set_default_dtype(torch.float64)\n",
    "\n",
    "# number of valid actions is total number of operations\n",
    "instance = generate_instance()\n",
    "automaton = Automaton(instance)\n",
    "valid_actions = list(automaton.D.nodes)\n",
    "\n",
    "def generate_data(N):\n",
    "    \"\"\"Generate a set of graphs based on solving N problem instances to optimality.\"\"\"\n",
    "    graphs = []\n",
    "    for _ in trange(N):\n",
    "        instance = generate_instance()\n",
    "        y, obj = solve(instance)\n",
    "    \n",
    "        states, actions = collect_state_action_pairs(instance, y)\n",
    "        for state, action in zip(states, actions):        \n",
    "            graph = from_networkx(state, group_node_attrs=['LB'])\n",
    "            graph.action = valid_actions.index(action) # map to integers indices\n",
    "            graphs.append(graph)\n",
    "    return graphs"
   ]
  },
  {
   "cell_type": "code",
   "execution_count": 16,
   "id": "4b93815b-5062-4c1b-bec7-df3f772de34f",
   "metadata": {},
   "outputs": [
    {
     "data": {
      "application/vnd.jupyter.widget-view+json": {
       "model_id": "c1b180c2dc09424285a918b1109d3912",
       "version_major": 2,
       "version_minor": 0
      },
      "text/plain": [
       "  0%|          | 0/4 [00:00<?, ?it/s]"
      ]
     },
     "metadata": {},
     "output_type": "display_data"
    },
    {
     "data": {
      "text/plain": [
       "DataBatch(edge_index=[2, 270], label=[200, 2], done=[200], action_mask=[200], weight=[270], arc_type=[2], x=[200, 1], action=[2], batch=[200], ptr=[3])"
      ]
     },
     "execution_count": 16,
     "metadata": {},
     "output_type": "execute_result"
    }
   ],
   "source": [
    "data = DataLoader(generate_data(4), batch_size=2, shuffle=True)\n",
    "next(iter(data))"
   ]
  },
  {
   "cell_type": "markdown",
   "id": "fa2d8d19-745f-4c94-84e0-8cbd1111ee7c",
   "metadata": {},
   "source": [
    "### Imitation learning with GNN policy"
   ]
  },
  {
   "cell_type": "code",
   "execution_count": 17,
   "id": "d2c796f9-72cb-40e7-94df-2089ff3d7f47",
   "metadata": {},
   "outputs": [],
   "source": [
    "import torch.nn.functional as F\n",
    "from torch.nn import Sequential, Linear, ReLU, BatchNorm1d\n",
    "from torch_geometric.nn import GINConv\n",
    "\n",
    "class GNN(torch.nn.Module):\n",
    "    def __init__(self):\n",
    "        super().__init__()\n",
    "        # we need a separate layer for the first iteration, because the initial\n",
    "        # feature dimension in different from the node embedding dimension\n",
    "        lin0 = Sequential(Linear(1, 16), ReLU(), Linear(16, 32), ReLU(), BatchNorm1d(32))\n",
    "        self.gin0 = GINConv(lin0, train_eps=True)\n",
    "\n",
    "        lin1 = Sequential(Linear(32, 32), ReLU(), Linear(32, 32), ReLU(), BatchNorm1d(32))\n",
    "        self.gin1 = GINConv(lin1, train_eps=True)\n",
    "        \n",
    "        self.lin1 = Linear(32, 32)\n",
    "        self.lin2 = Linear(32, 16)\n",
    "        self.lin3 = Linear(16, 1)\n",
    "\n",
    "    def forward(self, data):\n",
    "        x, edge_index = data.x, data.edge_index\n",
    "\n",
    "        x = self.gin0(x, edge_index)\n",
    "        x = self.gin1(x, edge_index)\n",
    "\n",
    "        x = self.lin1(x)\n",
    "        x = F.relu(x)\n",
    "        x = self.lin2(x)\n",
    "        x = F.relu(x)\n",
    "        x = self.lin3(x)\n",
    "\n",
    "        return x.squeeze()\n",
    "\n",
    "model = GNN()"
   ]
  },
  {
   "cell_type": "code",
   "execution_count": 18,
   "id": "0ff0e871-f8e8-4a28-80a9-2649f6131dda",
   "metadata": {},
   "outputs": [
    {
     "data": {
      "application/vnd.jupyter.widget-view+json": {
       "model_id": "72f734d94f9c4e94bfefb8d91410e531",
       "version_major": 2,
       "version_minor": 0
      },
      "text/plain": [
       "  0%|          | 0/500 [00:00<?, ?it/s]"
      ]
     },
     "metadata": {},
     "output_type": "display_data"
    }
   ],
   "source": [
    "from torch_geometric.utils import softmax\n",
    "import torch.nn.functional as F\n",
    "import torch.optim as optim\n",
    "\n",
    "def stacked_batch(batch, indices):\n",
    "    \"\"\"Transform a 'flat batch' of dimension (N*B), where N is number of graphs\n",
    "    in batch and B is number of nodes per graph, to a 'stacked batch' of\n",
    "    dimension (N, B), based on batch indices `batch.batch`.\"\"\"\n",
    "    unique = torch.unique(indices)\n",
    "    return torch.vstack([batch[indices == i] for i in unique])\n",
    "\n",
    "N = 500 # number of instances for training\n",
    "data_train = DataLoader(generate_data(N), batch_size=10, shuffle=True)"
   ]
  },
  {
   "cell_type": "code",
   "execution_count": 19,
   "id": "4720de29-d699-4441-9a06-84ad635c7bbf",
   "metadata": {},
   "outputs": [
    {
     "name": "stdout",
     "output_type": "stream",
     "text": [
      "\n",
      "training model\n",
      "\n",
      "epoch: 0\n",
      "loss: 10621.600246915052\n",
      "epoch: 1\n",
      "loss: 10598.206016086824\n",
      "epoch: 2\n",
      "loss: 10592.198970218782\n",
      "epoch: 3\n",
      "loss: 10589.951874262359\n",
      "epoch: 4\n",
      "loss: 10584.584688494782\n"
     ]
    }
   ],
   "source": [
    "learning_rate = 1e-4\n",
    "optimizer = optim.Adam(model.parameters(), lr=learning_rate)\n",
    "epochs = 5\n",
    "print(\"\\ntraining model\\n\")\n",
    "model.train()\n",
    "for i in range(epochs):\n",
    "    loss_total = 0\n",
    "    print(f'epoch: {i}')\n",
    "    for batch in data_train:\n",
    "        optimizer.zero_grad()\n",
    "        # compute node (operation) scores\n",
    "        y = model(batch)\n",
    "        y = y.masked_fill(~batch.action_mask.bool(), -torch.inf) # ignore invalid\n",
    "        # restack for loss calculation\n",
    "        pred = stacked_batch(y, batch.batch)\n",
    "        target = batch.action\n",
    "        loss = F.cross_entropy(pred, target)\n",
    "        loss.backward()\n",
    "        loss_total += loss\n",
    "        optimizer.step()\n",
    "    print(f\"loss: {loss_total.item()}\")"
   ]
  },
  {
   "cell_type": "markdown",
   "id": "03104747-76a6-4f8f-aff3-9f5952487f2d",
   "metadata": {},
   "source": [
    "### Evaluate imitation"
   ]
  },
  {
   "cell_type": "code",
   "execution_count": 20,
   "id": "a2c50778-41b7-4a1a-9fe2-3ef8394b8859",
   "metadata": {},
   "outputs": [],
   "source": [
    "from torch import argmax\n",
    "\n",
    "def evaluate_imitation(model, N=100):\n",
    "    \"\"\"Measure accuracy based on unseen expert demonstration state-action pairs.\"\"\"\n",
    "    model.eval()\n",
    "    print(\"\\ngenerating test data\\n\")\n",
    "    data_test = DataLoader(generate_data(N))\n",
    "    total_correct = 0\n",
    "    print(\"\\nevaluating imitation accuracy\\n\")\n",
    "    for batch in tqdm(data_test):\n",
    "        # compute node scores\n",
    "        y = model(batch)\n",
    "        # mask invalid actions (set to -inf)\n",
    "        y = y.masked_fill(~batch.action_mask.bool(), -torch.inf)\n",
    "        # restack for loss calculation\n",
    "        pred = stacked_batch(y, batch.batch)\n",
    "        pred = argmax(pred, dim=1)\n",
    "        target = batch.action\n",
    "        total_correct += pred == target\n",
    "    print(f\"accuracy: {total_correct.item() / len(data_test)}\")"
   ]
  },
  {
   "cell_type": "code",
   "execution_count": 21,
   "id": "8559f103-3947-4d1f-afd6-3006aa26e890",
   "metadata": {},
   "outputs": [
    {
     "name": "stdout",
     "output_type": "stream",
     "text": [
      "\n",
      "generating test data\n",
      "\n"
     ]
    },
    {
     "data": {
      "application/vnd.jupyter.widget-view+json": {
       "model_id": "dc50dd0d3db047229172c94542a4a6bb",
       "version_major": 2,
       "version_minor": 0
      },
      "text/plain": [
       "  0%|          | 0/100 [00:00<?, ?it/s]"
      ]
     },
     "metadata": {},
     "output_type": "display_data"
    },
    {
     "name": "stdout",
     "output_type": "stream",
     "text": [
      "\n",
      "evaluating imitation accuracy\n",
      "\n"
     ]
    },
    {
     "data": {
      "application/vnd.jupyter.widget-view+json": {
       "model_id": "75415863125b4edd83fb27111ed7be02",
       "version_major": 2,
       "version_minor": 0
      },
      "text/plain": [
       "  0%|          | 0/10000 [00:00<?, ?it/s]"
      ]
     },
     "metadata": {},
     "output_type": "display_data"
    },
    {
     "name": "stdout",
     "output_type": "stream",
     "text": [
      "accuracy: 0.174\n"
     ]
    }
   ],
   "source": [
    "evaluate_imitation(model)"
   ]
  },
  {
   "cell_type": "markdown",
   "id": "5f1f4a53-4257-4b3c-acf7-9e38c4e41eb1",
   "metadata": {},
   "source": [
    "### Evaluate scheduling"
   ]
  },
  {
   "cell_type": "code",
   "execution_count": 22,
   "id": "b8cdb4a0-50b0-4654-bfda-bbff18462c5b",
   "metadata": {},
   "outputs": [],
   "source": [
    "from torch import masked_select\n",
    "\n",
    "def evaluate_scheduling(model, N=100):\n",
    "    \"\"\"Evaluate average objective when executing the policy over full\n",
    "    unseen problem instances compared to average optimal objective.\"\"\"\n",
    "    print(\"\\nevaluating policy\\n\")\n",
    "    model.eval()\n",
    "    obj_opt = 0\n",
    "    obj_model = 0\n",
    "    for _ in trange(N):\n",
    "        instance = generate_instance()\n",
    "\n",
    "        # solve optimally\n",
    "        y, obj = solve(instance)\n",
    "        obj_opt += obj\n",
    "\n",
    "        # TEST objective definition\n",
    "        # _, actions, _ = collect_state_action_pairs(instance, y)\n",
    "\n",
    "        # execute learned heuristic\n",
    "        automaton = Automaton(instance)\n",
    "        while not automaton.done:\n",
    "            state = automaton.D\n",
    "            graph = from_networkx(state, group_node_attrs=['LB'])\n",
    "            # compute node scores\n",
    "            y = model(graph)\n",
    "            # mask invalid actions (set to -inf)\n",
    "            y = y.masked_fill(~graph.action_mask.bool(), -torch.inf)\n",
    "            y = argmax(y)\n",
    "            # translate index back to actual action\n",
    "            action = valid_actions[y]\n",
    "            i, j = action\n",
    "            # execute action on automaton\n",
    "            automaton.step(i)\n",
    "\n",
    "        # TEST objective definition\n",
    "        # for action in actions:\n",
    "        #     r, k, v = action\n",
    "        #     automaton.step(r, v)\n",
    "\n",
    "        # compute obj from automaton\n",
    "        obj_model += automaton.get_obj()\n",
    "\n",
    "    print(f\"obj_opt={obj_opt / N} vs obj_model={obj_model / N}\")\n",
    "    print(f\"approximation ratio={obj_model / obj_opt}\")"
   ]
  },
  {
   "cell_type": "code",
   "execution_count": 23,
   "id": "a5ed19cd-146d-44d8-8df2-076df4e974a3",
   "metadata": {},
   "outputs": [
    {
     "name": "stdout",
     "output_type": "stream",
     "text": [
      "\n",
      "evaluating policy\n",
      "\n"
     ]
    },
    {
     "data": {
      "application/vnd.jupyter.widget-view+json": {
       "model_id": "b6c64d8260f84920a33ceaad810789ed",
       "version_major": 2,
       "version_minor": 0
      },
      "text/plain": [
       "  0%|          | 0/100 [00:00<?, ?it/s]"
      ]
     },
     "metadata": {},
     "output_type": "display_data"
    },
    {
     "name": "stdout",
     "output_type": "stream",
     "text": [
      "obj_opt=827.664986815183 vs obj_model=1018.8290039793184\n",
      "approximation ratio=1.2309678676872942\n"
     ]
    }
   ],
   "source": [
    "evaluate_scheduling(model)"
   ]
  },
  {
   "cell_type": "code",
   "execution_count": null,
   "id": "43ce47f0-3526-42bf-b3bf-fa41b7d8c8b2",
   "metadata": {},
   "outputs": [],
   "source": []
  }
 ],
 "metadata": {
  "kernelspec": {
   "display_name": "Python 3 (ipykernel)",
   "language": "python",
   "name": "python3"
  },
  "language_info": {
   "codemirror_mode": {
    "name": "ipython",
    "version": 3
   },
   "file_extension": ".py",
   "mimetype": "text/x-python",
   "name": "python",
   "nbconvert_exporter": "python",
   "pygments_lexer": "ipython3",
   "version": "3.12.3"
  }
 },
 "nbformat": 4,
 "nbformat_minor": 5
}
