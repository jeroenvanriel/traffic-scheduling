{
 "cells": [
  {
   "cell_type": "markdown",
   "id": "8fdd3cd4",
   "metadata": {},
   "source": [
    "### Preamble"
   ]
  },
  {
   "cell_type": "code",
   "execution_count": null,
   "id": "068d31b7",
   "metadata": {},
   "outputs": [],
   "source": [
    "%load_ext autoreload\n",
    "%autoreload 2\n",
    "\n",
    "# for storing .pkl table data, .tex and preview pdf\n",
    "file_prefix = 'results/milp-benchmark'"
   ]
  },
  {
   "cell_type": "markdown",
   "id": "c1cea313",
   "metadata": {},
   "source": [
    "# Mixed-integer linear programming benchmark"
   ]
  },
  {
   "cell_type": "markdown",
   "id": "013484f3",
   "metadata": {},
   "source": [
    "We measure the average running time of the MILP-solver for different selections of cutting planes. To prevent running times blowing up, we use a fixed time-out for each instance. For this analysis, we do not keep track of the optimal schedule. When we need optimal schedules for the imitation learning, we compute them with larger time bound."
   ]
  },
  {
   "cell_type": "markdown",
   "id": "e46796d3",
   "metadata": {},
   "source": [
    "## Experiment specification"
   ]
  },
  {
   "cell_type": "code",
   "execution_count": 2,
   "id": "043be304",
   "metadata": {},
   "outputs": [],
   "source": [
    "from single.basics import generate_instance, uniform, bimodal_exponential\n",
    "\n",
    "import pandas as pd\n",
    "import numpy as np\n",
    "import time \n",
    "from datetime import datetime, timedelta\n",
    "from itertools import product\n",
    "\n",
    "# static parameters\n",
    "R = 2\n",
    "# F = bimodal_exponential(p=0.1, s1=0.1, s2= 5.6)\n",
    "F = uniform()\n",
    "number_of_instances = 1\n",
    "timelimit = 10\n",
    "\n",
    "cut_names = {\n",
    "    1 : 'transitive',\n",
    "    2 : 'conjunctive',\n",
    "    3 : 'disjunctive',\n",
    "}\n",
    "\n",
    "# variables\n",
    "ns = [20, 25]\n",
    "cuts_combinations = [[], [1]]#, [2], [3]]\n",
    "\n",
    "results = pd.DataFrame(product(ns, cuts_combinations), columns=['vehicles_per_route', 'cuts'])\n",
    "# write full cut combination names\n",
    "def cut_name(cuts):\n",
    "    if not cuts: return 'vanilla'\n",
    "    return ', '.join([cut_names[x] for x in cuts])\n",
    "results['cuts_str'] = results['cuts'].apply(cut_name)\n",
    "\n",
    "# generate instance sets, one for each size\n",
    "instance_sets = { n: [generate_instance(F, n, R) for _ in range(number_of_instances)] for n in ns }"
   ]
  },
  {
   "cell_type": "markdown",
   "id": "b3e0c781",
   "metadata": {},
   "source": [
    "Try to find a rough bound on the total time required for this experiment."
   ]
  },
  {
   "cell_type": "code",
   "execution_count": 3,
   "id": "44f08900",
   "metadata": {},
   "outputs": [
    {
     "name": "stdout",
     "output_type": "stream",
     "text": [
      "runtime upper bound: 0:00:40\n"
     ]
    }
   ],
   "source": [
    "time_bound = timedelta(seconds=len(ns) * len(cuts_combinations) * number_of_instances * timelimit)\n",
    "print(f\"runtime upper bound: {time_bound}\")"
   ]
  },
  {
   "cell_type": "code",
   "execution_count": 4,
   "id": "faa64949",
   "metadata": {},
   "outputs": [
    {
     "data": {
      "text/html": [
       "<div>\n",
       "<style scoped>\n",
       "    .dataframe tbody tr th:only-of-type {\n",
       "        vertical-align: middle;\n",
       "    }\n",
       "\n",
       "    .dataframe tbody tr th {\n",
       "        vertical-align: top;\n",
       "    }\n",
       "\n",
       "    .dataframe thead th {\n",
       "        text-align: right;\n",
       "    }\n",
       "</style>\n",
       "<table border=\"1\" class=\"dataframe\">\n",
       "  <thead>\n",
       "    <tr style=\"text-align: right;\">\n",
       "      <th></th>\n",
       "      <th>vehicles_per_route</th>\n",
       "      <th>cuts</th>\n",
       "      <th>cuts_str</th>\n",
       "    </tr>\n",
       "  </thead>\n",
       "  <tbody>\n",
       "    <tr>\n",
       "      <th>0</th>\n",
       "      <td>20</td>\n",
       "      <td>[]</td>\n",
       "      <td>vanilla</td>\n",
       "    </tr>\n",
       "    <tr>\n",
       "      <th>1</th>\n",
       "      <td>20</td>\n",
       "      <td>[1]</td>\n",
       "      <td>transitive</td>\n",
       "    </tr>\n",
       "    <tr>\n",
       "      <th>2</th>\n",
       "      <td>25</td>\n",
       "      <td>[]</td>\n",
       "      <td>vanilla</td>\n",
       "    </tr>\n",
       "    <tr>\n",
       "      <th>3</th>\n",
       "      <td>25</td>\n",
       "      <td>[1]</td>\n",
       "      <td>transitive</td>\n",
       "    </tr>\n",
       "  </tbody>\n",
       "</table>\n",
       "</div>"
      ],
      "text/plain": [
       "   vehicles_per_route cuts    cuts_str\n",
       "0                  20   []     vanilla\n",
       "1                  20  [1]  transitive\n",
       "2                  25   []     vanilla\n",
       "3                  25  [1]  transitive"
      ]
     },
     "execution_count": 4,
     "metadata": {},
     "output_type": "execute_result"
    }
   ],
   "source": [
    "results"
   ]
  },
  {
   "cell_type": "markdown",
   "id": "62f7d07b",
   "metadata": {},
   "source": [
    "## Measure running times"
   ]
  },
  {
   "cell_type": "markdown",
   "id": "13cfb0ec",
   "metadata": {},
   "source": [
    "Run the analysis, this may take a while..."
   ]
  },
  {
   "cell_type": "code",
   "execution_count": null,
   "id": "71ffbbfc",
   "metadata": {},
   "outputs": [
    {
     "name": "stdout",
     "output_type": "stream",
     "text": [
      "started: 01:45:02\n",
      "done before: 01:45:42\n"
     ]
    }
   ],
   "source": [
    "started = datetime.now()\n",
    "print(f\"started: {started.strftime('%H:%M:%S')}\")\n",
    "end = started + time_bound\n",
    "print(f\"done before: {end.strftime('%H:%M:%S')}\")\n",
    "\n",
    "for i, row in results.iterrows():\n",
    "    instances = instance_sets[row['vehicles_per_route']]\n",
    "    times = []\n",
    "    for instance in instances:\n",
    "        start = time.time()\n",
    "        instance.solve(cutting_planes=row['cuts'], timelimit=timelimit)\n",
    "        times.append(time.time() - start)\n",
    "    results.loc[i, 'time'] = np.array(times).mean()\n",
    "    results.loc[i, 'std'] = np.array(times).std()\n",
    "\n",
    "    # checkpoint\n",
    "    results.to_pickle(f'{file_prefix}.pkl')"
   ]
  },
  {
   "cell_type": "markdown",
   "id": "711aada5",
   "metadata": {},
   "source": [
    "## Reporting"
   ]
  },
  {
   "cell_type": "markdown",
   "id": "374c0800",
   "metadata": {},
   "source": [
    "### Table wrangling"
   ]
  },
  {
   "cell_type": "markdown",
   "id": "280d7829",
   "metadata": {},
   "source": [
    "Pivot the data and group by cuts."
   ]
  },
  {
   "cell_type": "code",
   "execution_count": 6,
   "id": "0c1142d7",
   "metadata": {},
   "outputs": [
    {
     "data": {
      "text/html": [
       "<div>\n",
       "<style scoped>\n",
       "    .dataframe tbody tr th:only-of-type {\n",
       "        vertical-align: middle;\n",
       "    }\n",
       "\n",
       "    .dataframe tbody tr th {\n",
       "        vertical-align: top;\n",
       "    }\n",
       "\n",
       "    .dataframe thead tr th {\n",
       "        text-align: left;\n",
       "    }\n",
       "\n",
       "    .dataframe thead tr:last-of-type th {\n",
       "        text-align: right;\n",
       "    }\n",
       "</style>\n",
       "<table border=\"1\" class=\"dataframe\">\n",
       "  <thead>\n",
       "    <tr>\n",
       "      <th>cuts_str</th>\n",
       "      <th colspan=\"2\" halign=\"left\">transitive</th>\n",
       "      <th colspan=\"2\" halign=\"left\">vanilla</th>\n",
       "    </tr>\n",
       "    <tr>\n",
       "      <th></th>\n",
       "      <th>std</th>\n",
       "      <th>time</th>\n",
       "      <th>std</th>\n",
       "      <th>time</th>\n",
       "    </tr>\n",
       "    <tr>\n",
       "      <th>vehicles_per_route</th>\n",
       "      <th></th>\n",
       "      <th></th>\n",
       "      <th></th>\n",
       "      <th></th>\n",
       "    </tr>\n",
       "  </thead>\n",
       "  <tbody>\n",
       "    <tr>\n",
       "      <th>20</th>\n",
       "      <td>0.0</td>\n",
       "      <td>10.028316</td>\n",
       "      <td>0.0</td>\n",
       "      <td>10.027777</td>\n",
       "    </tr>\n",
       "    <tr>\n",
       "      <th>25</th>\n",
       "      <td>0.0</td>\n",
       "      <td>10.051305</td>\n",
       "      <td>0.0</td>\n",
       "      <td>10.024738</td>\n",
       "    </tr>\n",
       "  </tbody>\n",
       "</table>\n",
       "</div>"
      ],
      "text/plain": [
       "cuts_str           transitive            vanilla           \n",
       "                          std       time     std       time\n",
       "vehicles_per_route                                         \n",
       "20                        0.0  10.028316     0.0  10.027777\n",
       "25                        0.0  10.051305     0.0  10.024738"
      ]
     },
     "execution_count": 6,
     "metadata": {},
     "output_type": "execute_result"
    }
   ],
   "source": [
    "pivoted = results.pivot(index='vehicles_per_route', columns='cuts_str',  values=['time', 'std'])\n",
    "pivoted = pivoted.swaplevel(axis=1).sort_index(axis=1)\n",
    "pivoted"
   ]
  },
  {
   "cell_type": "markdown",
   "id": "bb9cd28c",
   "metadata": {},
   "source": [
    "Renaming and number formatting. Highlight the lowest running time in each row."
   ]
  },
  {
   "cell_type": "code",
   "execution_count": null,
   "id": "df18a842",
   "metadata": {},
   "outputs": [
    {
     "data": {
      "text/html": [
       "<div>\n",
       "<style scoped>\n",
       "    .dataframe tbody tr th:only-of-type {\n",
       "        vertical-align: middle;\n",
       "    }\n",
       "\n",
       "    .dataframe tbody tr th {\n",
       "        vertical-align: top;\n",
       "    }\n",
       "\n",
       "    .dataframe thead tr th {\n",
       "        text-align: left;\n",
       "    }\n",
       "\n",
       "    .dataframe thead tr:last-of-type th {\n",
       "        text-align: right;\n",
       "    }\n",
       "</style>\n",
       "<table border=\"1\" class=\"dataframe\">\n",
       "  <thead>\n",
       "    <tr>\n",
       "      <th>cuts_str</th>\n",
       "      <th colspan=\"2\" halign=\"left\">transitive</th>\n",
       "      <th colspan=\"2\" halign=\"left\">vanilla</th>\n",
       "    </tr>\n",
       "    <tr>\n",
       "      <th></th>\n",
       "      <th>std</th>\n",
       "      <th>time</th>\n",
       "      <th>std</th>\n",
       "      <th>time</th>\n",
       "    </tr>\n",
       "    <tr>\n",
       "      <th>vehicles_per_route</th>\n",
       "      <th></th>\n",
       "      <th></th>\n",
       "      <th></th>\n",
       "      <th></th>\n",
       "    </tr>\n",
       "  </thead>\n",
       "  <tbody>\n",
       "    <tr>\n",
       "      <th>20</th>\n",
       "      <td>0.0</td>\n",
       "      <td>(10s)</td>\n",
       "      <td>0.0</td>\n",
       "      <td>\\textbf{(10s)}</td>\n",
       "    </tr>\n",
       "    <tr>\n",
       "      <th>25</th>\n",
       "      <td>0.0</td>\n",
       "      <td>(10s)</td>\n",
       "      <td>0.0</td>\n",
       "      <td>\\textbf{(10s)}</td>\n",
       "    </tr>\n",
       "  </tbody>\n",
       "</table>\n",
       "</div>"
      ],
      "text/plain": [
       "cuts_str           transitive        vanilla                \n",
       "                          std   time     std            time\n",
       "vehicles_per_route                                          \n",
       "20                        0.0  (10s)     0.0  \\textbf{(10s)}\n",
       "25                        0.0  (10s)     0.0  \\textbf{(10s)}"
      ]
     },
     "execution_count": 7,
     "metadata": {},
     "output_type": "execute_result"
    }
   ],
   "source": [
    "from single.util import format_duration\n",
    "\n",
    "table = pivoted.copy()\n",
    "\n",
    "# convert to gaps strings\n",
    "# 2-leveled columns, so apply formatting at every columns,\n",
    "# e.g. (PPO1, gap), (PPO2, gap), separately\n",
    "time_cols = table.columns[table.columns.isin(['time'], 1)]\n",
    "table = table.astype({ col: str for col in time_cols })\n",
    "\n",
    "def bold_min_sublevel(row):\n",
    "    new_row = row.copy()\n",
    "    cols_x = row.index.get_level_values(1) == 'time'\n",
    "    # find min among these columns\n",
    "    min_val = row[cols_x].astype(float).min()\n",
    "    # apply bold only to min in that sublevel\n",
    "    new_row[cols_x] = [\n",
    "        f\"\\\\textbf{{{format_duration(float(v))}}}\" if float(v)==min_val \\\n",
    "            else f\"{format_duration(float(v))}\" for v in row[cols_x]]\n",
    "    return new_row\n",
    "\n",
    "# hightlight min gap, in each row\n",
    "table = table.apply(bold_min_sublevel, axis=1)\n",
    "\n",
    "# further renaming to taste\n",
    "table.columns.names = [\"cuts\", \"measurement\"]\n",
    "table.index.rename(r'n', inplace=True)\n",
    "\n",
    "table"
   ]
  },
  {
   "cell_type": "markdown",
   "id": "e807fcae",
   "metadata": {},
   "source": [
    "### LaTeX table export"
   ]
  },
  {
   "cell_type": "markdown",
   "id": "78010cb1",
   "metadata": {},
   "source": [
    "Export the table to LaTeX, for inclusing in report."
   ]
  },
  {
   "cell_type": "code",
   "execution_count": 10,
   "id": "d5fc7153",
   "metadata": {},
   "outputs": [
    {
     "name": "stdout",
     "output_type": "stream",
     "text": [
      "\\begin{table}\n",
      "\\caption{Performance Table}\n",
      "\\begin{tabular}{c|cc|cc|cc|cc}\n",
      "\\toprule\n",
      "cuts & \\multicolumn{2}{c}{transitive} & \\multicolumn{2}{c}{vanilla} \\\\\n",
      "measurement & std & time & std & time \\\\\n",
      "n &  &  &  &  \\\\\n",
      "\\midrule\n",
      "20 & 0.00 & (10s) & 0.00 & \\textbf{(10s)} \\\\\n",
      "25 & 0.00 & (10s) & 0.00 & \\textbf{(10s)} \\\\\n",
      "\\bottomrule\n",
      "\\end{tabular}\n",
      "\\end{table}\n",
      "\n"
     ]
    }
   ],
   "source": [
    "# latex \\begin{table}{...} format\n",
    "column_format = 'c|cc|cc|cc|cc'\n",
    "latex_table = table.to_latex(multirow=True, column_format=column_format, multicolumn_format='c',\n",
    "                               escape=False, float_format=\"%.2f\",\n",
    "                               caption=\"Performance Table\")\n",
    "print(latex_table)"
   ]
  },
  {
   "cell_type": "code",
   "execution_count": null,
   "id": "f4e811cd",
   "metadata": {},
   "outputs": [
    {
     "name": "stdout",
     "output_type": "stream",
     "text": [
      "Running \u001b[0m\u001b[1mTeX\u001b[0m ...\n",
      "\u001b[0m\u001b[1m\u001b[33mwarning:\u001b[0m milp-benchmark.preview.tex:21: Underfull \\hbox (badness 10000) in paragraph at lines 20--21\n",
      "Rerunning \u001b[0m\u001b[1mTeX\u001b[0m because \"milp-benchmark.preview.aux\" changed ...\n",
      "\u001b[0m\u001b[1m\u001b[33mwarning:\u001b[0m milp-benchmark.preview.tex:21: Underfull \\hbox (badness 10000) in paragraph at lines 20--21\n",
      "\u001b[0m\u001b[1m\u001b[33mwarning:\u001b[0m warnings were issued by the TeX engine; use --print and/or --keep-logs for details.\n",
      "Running \u001b[0m\u001b[1mxdvipdfmx\u001b[0m ...\n",
      "Writing \u001b[0m\u001b[1m`milp-benchmark.preview.pdf`\u001b[0m (9.42 KiB)\n",
      "Skipped writing \u001b[0m\u001b[1m1\u001b[0m intermediate files (use --keep-intermediates to keep them)\n"
     ]
    }
   ],
   "source": [
    "import re\n",
    "\n",
    "# some further automated formatting (just search/replace)\n",
    "# 1. remove all \\cline\n",
    "latex_table = re.sub(r'\\\\cline\\{.*?\\}\\s*\\n?', '', latex_table)\n",
    "# 2. remove \\toprule\n",
    "latex_table = re.sub(r'\\\\toprule\\s*\\n?', '', latex_table)\n",
    "# 3. replace \\bottomrule with \\midrule\n",
    "latex_table = re.sub(r'\\\\bottomrule\\s*\\n?', '\\\\\\\\midrule\\n', latex_table)\n",
    "# 4. TODO: extract tabular\n",
    "# latex_table = re.sub()\n",
    "match = re.search(r\"\\\\begin\\{tabular.*?\\\\end\\{tabular\\}\", latex_table, re.DOTALL)\n",
    "latex_table = match.group(0)\n",
    "\n",
    "# write complete latex template for preview\n",
    "# (with timestamp)\n",
    "from datetime import datetime\n",
    "now = datetime.now().strftime(\"%Y-%m-%d %H:%M:%S\")\n",
    "date_line = f\"\\\\noindent\\\\textit{{Compiled on: {now}}}\\\\\\\\\\n\"\n",
    "latex = f\"\"\"\n",
    "\\\\documentclass{{article}}\n",
    "\\\\usepackage{{booktabs}}\n",
    "\\\\usepackage{{multirow}}\n",
    "\\\\usepackage{{siunitx}}\n",
    "\\\\usepackage[skip=10pt]{{caption}}\n",
    "\\\\usepackage[margin=1cm]{{geometry}}\n",
    "\\\\begin{{document}}\n",
    "\\\\begin{{table}}\n",
    "{latex_table}\n",
    "\\\\end{{table}}\n",
    "{date_line}\n",
    "\\\\end{{document}}\"\"\"\n",
    "\n",
    "with open(file_prefix + '.preview.tex', 'w') as f:\n",
    "    f.write(latex)\n",
    "!tectonic {file_prefix + '.preview.tex'}"
   ]
  },
  {
   "cell_type": "code",
   "execution_count": 12,
   "id": "48b2840c",
   "metadata": {},
   "outputs": [],
   "source": [
    "# write only table, for direct use in report\n",
    "with open(file_prefix + '.tex', 'w') as f:\n",
    "    f.write(latex_table)"
   ]
  },
  {
   "cell_type": "markdown",
   "id": "a98e4436",
   "metadata": {},
   "source": [
    "### Plot"
   ]
  },
  {
   "cell_type": "markdown",
   "id": "294cb4d7",
   "metadata": {},
   "source": [
    "\n",
    "These could be incredibly insightful in terms of seeing the scaling. However, we need to keep the number of lines per plot lower, otherwise it is very difficult to read."
   ]
  },
  {
   "cell_type": "code",
   "execution_count": 13,
   "id": "a07233fc",
   "metadata": {},
   "outputs": [
    {
     "data": {
      "image/png": "[encoded data removed]",
      "text/plain": [
       "<Figure size 551.181x413.386 with 1 Axes>"
      ]
     },
     "metadata": {},
     "output_type": "display_data"
    }
   ],
   "source": [
    "from util import get_figsize\n",
    "import matplotlib.pyplot as plt\n",
    "import seaborn as sns\n",
    "\n",
    "sns.set_style(\"whitegrid\")\n",
    "sns.set_context(\"paper\")  # or \"talk\" for presentations\n",
    "\n",
    "fig, ax = plt.subplots(figsize=get_figsize())\n",
    "line_styles = ['-', '--', '-.', ':']\n",
    "\n",
    "df = pivoted\n",
    "categories = df.columns.get_level_values(0).unique()\n",
    "colors = plt.cm.Set2(range(len(categories)))\n",
    "\n",
    "for category, style, color in zip(categories, line_styles, colors):\n",
    "    mean = df[category]['time']\n",
    "    std = df[category]['std']\n",
    "\n",
    "    ax.plot(df.index, mean, linestyle=style, marker='o', \n",
    "            linewidth=1, markersize=3,\n",
    "            color=color, label=category)\n",
    "\n",
    "    # shaded region for std: clip lower bound at 0\n",
    "    lower_bound = mean - std\n",
    "    upper_bound = mean + std\n",
    "\n",
    "    ax.fill_between(df.index, lower_bound, upper_bound, alpha=0.2, color=color)\n",
    "\n",
    "ax.set_xlabel(r'Vehicles per Route')\n",
    "ax.set_ylabel(r'Time (mean $\\pm$ std)')\n",
    "ax.legend(title=r'Cutting Plane Type')\n",
    "\n",
    "sns.despine()\n",
    "ax.grid(True, alpha=0.3)\n",
    "plt.tight_layout()\n",
    "plt.savefig('./figures/milp-benchmark.pdf');\n",
    "plt.show();"
   ]
  },
  {
   "cell_type": "code",
   "execution_count": null,
   "id": "40c5d4c2",
   "metadata": {},
   "outputs": [],
   "source": []
  }
 ],
 "metadata": {
  "kernelspec": {
   "display_name": "traffic",
   "language": "python",
   "name": "python3"
  },
  "language_info": {
   "codemirror_mode": {
    "name": "ipython",
    "version": 3
   },
   "file_extension": ".py",
   "mimetype": "text/x-python",
   "name": "python",
   "nbconvert_exporter": "python",
   "pygments_lexer": "ipython3",
   "version": "3.12.3"
  }
 },
 "nbformat": 4,
 "nbformat_minor": 5
}
