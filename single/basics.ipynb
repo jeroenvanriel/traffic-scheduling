{
 "cells": [
  {
   "cell_type": "markdown",
   "id": "0e957d42",
   "metadata": {},
   "source": [
    "### Preamble"
   ]
  },
  {
   "cell_type": "markdown",
   "id": "4a959a1f",
   "metadata": {},
   "source": [
    "\n",
    "> ⚠️ **Warning:** This notebook file is paired to a .py file with the same name, such that we can cleanly import the functionality from other notebooks. This is done using the facilities of the jupytext package. The cells in this notebook that are only meant as \"demonstration\" are marked with the cell tag \"active-ipynb\", which causes the jupytext synchronization command to ignore these when syncing to the .py file. This is our current way of doing \"literate programming\" with jupyter notebooks."
   ]
  },
  {
   "cell_type": "code",
   "execution_count": 1,
   "id": "3de31993",
   "metadata": {},
   "outputs": [],
   "source": [
    "import numpy as np\n",
    "rng = np.random.default_rng(seed=70)"
   ]
  },
  {
   "cell_type": "code",
   "execution_count": null,
   "id": "3d89f4e8",
   "metadata": {},
   "outputs": [],
   "source": [
    "%load_ext autoreload\n",
    "%autoreload 2\n",
    "%cd /home/jeroen/repos/traffic-scheduling/single"
   ]
  },
  {
   "cell_type": "markdown",
   "id": "c18fef97",
   "metadata": {},
   "source": [
    "# Getting started"
   ]
  },
  {
   "cell_type": "markdown",
   "id": "5e5dc9e0",
   "metadata": {},
   "source": [
    "Table of contents:\n",
    "- instances data class\n",
    "- optimal schedules, using mixed-integer linear programming\n",
    "- instance generation by sampling arrival sequences per route"
   ]
  },
  {
   "cell_type": "markdown",
   "id": "eed7dc83",
   "metadata": {},
   "source": [
    "## Instance data class"
   ]
  },
  {
   "cell_type": "markdown",
   "id": "c61769ba",
   "metadata": {},
   "source": [
    "Let us first introduce a little utility class to keep everything related to an instance nice and organized. The `add_route_from_gaps()` method computes the arrival times $a_i$ from a list of \"gaps\" between the vehicles. This makes sure that $a_i + \\rho \\leq a_j$ is satisfied for each conjunctive pair.\n",
    "\n",
    "The switch time `switch`, number of routes `R`, number of vehicles per route `n[r]`, total number of vehicles `N`, and the `vehicle_indices`, can all be derived from the specification of `arrivals`, `rho` and `sigma`.\n",
    "\n",
    "Each instance can be visualized by calling `instance.visualize()`. Since we already implement empty/partial/full schedule visualization in the gym environment, we generate a dummy env, reset it and render with some default options. See `SingleEnvironment.visualize()` for the options available."
   ]
  },
  {
   "cell_type": "code",
   "execution_count": 2,
   "id": "44222da0",
   "metadata": {},
   "outputs": [],
   "source": [
    "from single.mdp import SingleScheduleEnv\n",
    "from dataclasses import dataclass\n",
    "\n",
    "@dataclass\n",
    "class SingleInstance:\n",
    "    # allow dynamically adding of routes\n",
    "    arrivals: list[np.ndarray] | None = None\n",
    "\n",
    "    rho: float   = 1     # following time\n",
    "    sigma: float = 1.5   # time between conflicting vehicles\n",
    "\n",
    "    @property\n",
    "    def switch(self): return self.sigma - self.rho\n",
    "    @property\n",
    "    def R(self): return len(self.arrivals)\n",
    "    @property\n",
    "    def n(self): return [len(self.arrivals[r]) for r in range(self.R)]\n",
    "    @property\n",
    "    def N(self): return sum(self.n)\n",
    "\n",
    "    @property\n",
    "    def vehicle_indices(self):\n",
    "        \"\"\"Get list of vehicle indices {(r, k)} from instance specification.\"\"\"\n",
    "        R = range(self.R); n = [range(self.n[r]) for r in R]\n",
    "        # use 'sorted' to guarantee lexicographical order\n",
    "        return sorted([(r, k) for r in R for k in n[r]])\n",
    "\n",
    "    def visualize(self, **kwargs):\n",
    "        \"\"\"Utility function to visualize instance without having to construct MDP first.\"\"\"\n",
    "        # some sensible defaults\n",
    "        options = {\n",
    "            'dimmed_partial': False,\n",
    "            'block_text': True,\n",
    "            **kwargs\n",
    "        }\n",
    "        env = SingleScheduleEnv(instance=self, options=options)\n",
    "        env.reset(); env.render()\n",
    "\n",
    "    def add_route(self, lengths):\n",
    "        \"\"\"Add the arrivals of a new route.\"\"\"\n",
    "        if self.arrivals is None:\n",
    "            self.arrivals = [lengths]\n",
    "        else:\n",
    "            self.arrivals.append(lengths)\n",
    "\n",
    "    def add_route_from_gaps(self, gaps):\n",
    "        \"\"\"Compute $A_n = A_{n-1} + X_n + \\rho$ for all n, where X_n is given by `gaps`.\"\"\"\n",
    "        lengths = np.repeat(self.rho, len(gaps))\n",
    "        shifted = np.roll(lengths, 1); shifted[0] = 0\n",
    "        arrivals = np.cumsum(gaps + shifted)\n",
    "        self.add_route(arrivals)"
   ]
  },
  {
   "cell_type": "markdown",
   "id": "d88f75d2",
   "metadata": {},
   "source": [
    "## Optimal schedules (MILP)"
   ]
  },
  {
   "cell_type": "markdown",
   "id": "feec5167",
   "metadata": {},
   "source": [
    "### Simple data class for solutions"
   ]
  },
  {
   "cell_type": "code",
   "execution_count": 30,
   "id": "d5f4005f",
   "metadata": {},
   "outputs": [],
   "source": [
    "from dataclasses import dataclass\n",
    "\n",
    "@dataclass\n",
    "class SingleMILPSchedule:\n",
    "    instance: SingleInstance\n",
    "    y: list[np.ndarray]\n",
    "    obj: float\n",
    "    done: bool\n",
    "    gap: float\n",
    "    time: float\n",
    "\n",
    "    @property\n",
    "    def vehicle_order(self):\n",
    "        \"\"\"Compute $nu$.\"\"\"\n",
    "        ix = self.instance.vehicle_indices.copy()\n",
    "        ix.sort(key=lambda i: self.y[i[0]][i[1]])\n",
    "        return ix\n",
    "\n",
    "    @property\n",
    "    def route_order(self):\n",
    "        \"\"\"Compute $eta$.\"\"\"\n",
    "        return [r for r, k in self.vehicle_order]\n",
    "    \n",
    "    @property\n",
    "    def delay(self):\n",
    "        \"\"\"Compute sum_{i in mathcal{N}} y_i - a_i\"\"\"\n",
    "        return sum(y.sum() for y in self.y) - sum(a.sum() for a in self.instance.arrivals)\n",
    "\n",
    "    def visualize(self, **kwargs):\n",
    "        \"\"\"Utility function to visualize schedule, backtracking the solution\n",
    "        from the MILP schedule if necessary.\"\"\"\n",
    "        options = { 'block_text': True, **kwargs }\n",
    "        env = SingleScheduleEnv(instance=self.instance, options=options)\n",
    "        env.reset()\n",
    "        [env.step(r) for r in self.route_order] # execute the schedule\n",
    "        env.render()"
   ]
  },
  {
   "cell_type": "markdown",
   "id": "3c1f1e87",
   "metadata": {},
   "source": [
    "### Mixed-integer linear programming"
   ]
  },
  {
   "cell_type": "code",
   "execution_count": 31,
   "id": "e42e4ed8",
   "metadata": {},
   "outputs": [],
   "source": [
    "import gurobipy as gp\n",
    "import numpy as np\n",
    "from itertools import product, combinations\n",
    "import os\n",
    "\n",
    "def solve(instance, gap=0.0, timelimit=0, consolelog=False, logfile=None, cutting_planes=None):\n",
    "    \"\"\"Solve a single intersection scheduling problem as a MILP.\n",
    "\n",
    "    `cutting_planes` is a list/set specifying which cutting planes to add,\n",
    "    possible choices are integers:\n",
    "        1 - transitive cutting planes\n",
    "        2 - necessary conjunctive cutting planes\n",
    "        3 - necessary disjunctive cutting planes\n",
    "    \"\"\"\n",
    "\n",
    "    env = gp.Env(empty=True)\n",
    "    if not consolelog:\n",
    "        env.setParam('LogToConsole', 0)  # disable console logging\n",
    "    if logfile is not None:\n",
    "        env.setParam('LogFile', logfile)\n",
    "        # make sure directory exists\n",
    "        os.makedirs(os.path.dirname(os.path.abspath(logfile)), exist_ok=True)\n",
    "    if timelimit > 0:\n",
    "        env.setParam('TimeLimit', timelimit)\n",
    "\n",
    "    env.start()\n",
    "    g = gp.Model(env=env)\n",
    "\n",
    "    if cutting_planes is None:\n",
    "        cutting_planes = []\n",
    "\n",
    "    arrivals = instance.arrivals    # earliest crossing times (a_i)\n",
    "    rho = instance.rho            # vehicle follow time (rho)\n",
    "    sigma = instance.sigma        # time between conflicts (sigma)\n",
    "\n",
    "    R = len(arrivals) # number of routes\n",
    "    n = [len(r) for r in arrivals] # number of arrivals per route\n",
    "\n",
    "    # big-M\n",
    "    M = 1000\n",
    "\n",
    "    ### Variables\n",
    "\n",
    "    # non-negative starting times\n",
    "    y = {}\n",
    "    for r in range(R):\n",
    "        for k in range(n[r]):\n",
    "            y[r, k] = g.addVar(obj=1, vtype=gp.GRB.CONTINUOUS, name=f\"y_{r}_{k}\")\n",
    "            g.addConstr(y[r, k] >= arrivals[r][k])\n",
    "\n",
    "    ### Constraints\n",
    "\n",
    "    # indicator variables for the necessary cutting planes\n",
    "    delta = {}\n",
    "\n",
    "    # conjunctions\n",
    "    for r in range(R):\n",
    "        for k in range(n[r] - 1):\n",
    "            g.addConstr(y[r, k] + rho <= y[r, k + 1])\n",
    "\n",
    "            # definition of delta\n",
    "            if 2 in cutting_planes or 3 in cutting_planes:\n",
    "                delta[r, k] = g.addVar(obj=0, vtype=gp.GRB.BINARY, name=f\"delta_{r}_{k}\")\n",
    "                g.addConstr(y[r, k] + rho <= arrivals[r][k + 1] + delta[r, k] * M)\n",
    "                g.addConstr(y[r, k] + rho >= arrivals[r][k + 1] - (1 - delta[r, k]) * M)\n",
    "\n",
    "            if 2 in cutting_planes:\n",
    "                g.addConstr(y[r, k] + rho >= y[r, k + 1] - (1 - delta[r, k]) * M)\n",
    "\n",
    "\n",
    "    # disjunctions\n",
    "    o = {}\n",
    "    for r1, r2 in combinations(range(R), 2):\n",
    "        for k, l in product(range(n[r1]), range(n[r2])):\n",
    "            oc = g.addVar(obj=0, vtype=gp.GRB.BINARY, name=f\"o_{r1}_{k}_{r2}_{l}\")\n",
    "            o[r1, k, r2, l] = oc\n",
    "\n",
    "            g.addConstr(y[r1, k] + sigma <= y[r2, l] + oc * M)\n",
    "            g.addConstr(y[r2, l] + sigma <= y[r1, k] + (1 - oc) * M)\n",
    "\n",
    "            # transitive cutting planes\n",
    "            if 1 in cutting_planes:\n",
    "                g.addConstr(gp.quicksum(o[r1, p, r2, q] for p in range(0, k) for q in range(l + 1, n[r2])) <= o[r1, k, r2, l] * M)\n",
    "\n",
    "\n",
    "    # necessary disjunctive cutting planes\n",
    "    if 3 in cutting_planes:\n",
    "        for r1, r2 in combinations(range(R), 2):\n",
    "            for l in range(n[r1] - 1): # for all conjunctive pairs (i, j) = ((r1, l), (r1, l + 1))\n",
    "                for k in range(n[r2]):\n",
    "                    g.addConstr(delta[r1, l] + (1 - o[r1, l, r2, k]) + o[r1, l + 1, r2, k] <= 2)\n",
    "                    g.addConstr(delta[r1, l] + o[r1, l, r2, k] + (1 - o[r1, l + 1, r2, k]) <= 2)\n",
    "\n",
    "    ### Solving\n",
    "\n",
    "    g.ModelSense = gp.GRB.MINIMIZE\n",
    "    g.Params.MIPGap = gap\n",
    "    g.update()\n",
    "    g.optimize()\n",
    "\n",
    "    res = { 'y': [], 'obj': g.getObjective().getValue() }\n",
    "    y = { r : (v.X if hasattr(v, 'X') else v) for r, v in y.items() }\n",
    "    for r in range(R):\n",
    "        res['y'].append(np.array([y[r, j] for j in range(n[r])]))\n",
    "\n",
    "    res['done'] = int(g.status == gp.GRB.OPTIMAL)\n",
    "    res['gap'] = g.MIPGap\n",
    "    res['time'] = g.Runtime\n",
    "\n",
    "    return SingleMILPSchedule(instance=instance, **res)"
   ]
  },
  {
   "cell_type": "markdown",
   "id": "fa1cd457",
   "metadata": {},
   "source": [
    "Just keep this method at the instance class, for convenience."
   ]
  },
  {
   "cell_type": "code",
   "execution_count": 32,
   "id": "7e0a4d39",
   "metadata": {},
   "outputs": [],
   "source": [
    "def solve_myself(self, **kwargs): self.opt = solve(self, **kwargs)\n",
    "SingleInstance.solve = solve_myself"
   ]
  },
  {
   "cell_type": "markdown",
   "id": "4da112a8",
   "metadata": {},
   "source": [
    "## Instance generation"
   ]
  },
  {
   "cell_type": "markdown",
   "id": "f174cff1",
   "metadata": {},
   "source": [
    "A problem instance of the crossing time scheduling problem is specified by the tuple\n",
    "$$\n",
    "(\\mathcal{N}, a, \\rho, \\sigma) .\n",
    "$$\n",
    "Here, $\\mathcal{N}$ is the set of vehicle indices, which depends on the route indices $\\mathcal{R} = \\{ 1, \\dots, R \\}$ and the number $n_r$ of vehicles per route, so that we have\n",
    "$$\n",
    "\\mathcal{N} = \\{ (i,j) : j \\in \\{ 1, \\dots, n_r \\}, i \\in \\mathcal{R} \\} .\n",
    "$$\n",
    "The processing time $\\rho$ and the switch-over time $\\sigma$ are assumed to be fixed in our analysis."
   ]
  },
  {
   "cell_type": "code",
   "execution_count": 6,
   "id": "428c881f",
   "metadata": {},
   "outputs": [],
   "source": [
    "rho, sigma = 1.2, 1.7 # so \"switch\" = sigma-rho"
   ]
  },
  {
   "cell_type": "markdown",
   "id": "5f24a65d",
   "metadata": {},
   "source": [
    "The most interesting part of the problem specification are the earliest arrival times $a_i : i \\in \\mathcal{N}$. Our hypothesis is that the way these are distributed influences the performance of the learned scheduling algorithm. Therefore, we propose some artificial distribution of arrival times based on the following  two aspects:\n",
    "\n",
    "- same arrival intensity across routes (symmetric) vs. different intensities (assymetric),\n",
    "- degree of platooning, or in other words, controlling the time gap between groups of vehicles.\n",
    "\n",
    "A simple way of modeling the natural occurence of platoons in the arrival process is by using a bimodal distribution $F$ for the interarrival times. We will use a mixture of two exponential random variables with different means, representing the small gaps between vehicles in the same platoon and the large gaps between vehicles of different platoons."
   ]
  },
  {
   "cell_type": "code",
   "execution_count": 7,
   "id": "11544c8a",
   "metadata": {},
   "outputs": [],
   "source": [
    "def bimodal_exponential(p=0.3, s1=1, s2=10):\n",
    "    def generate(n):\n",
    "        ps = rng.binomial(1, p, size=(n))\n",
    "        return ps * rng.exponential(scale=s1, size=(n)) + (1-ps) * rng.exponential(scale=s2, size=(n))\n",
    "    return generate\n",
    "\n",
    "def uniform(min=0, max=1):\n",
    "    def generate(n):\n",
    "        return rng.uniform(min, max, size=(n))\n",
    "    return generate"
   ]
  },
  {
   "cell_type": "markdown",
   "id": "6ded34f0",
   "metadata": {},
   "source": [
    "For figures in the report, we also \"clip\" the value to 0, if the gap is below the given minimum value, which looks a little bit nicer: when the outer lines of the vehicle rectangles are very near each other, they make a thick black line of double width, which is ugly.\n",
    "This is handled by the following wrapper function."
   ]
  },
  {
   "cell_type": "code",
   "execution_count": 8,
   "id": "06e948b1",
   "metadata": {},
   "outputs": [],
   "source": [
    "def clipped(generator, min=0.2):\n",
    "    def generate(n):\n",
    "        gaps = generator(n)\n",
    "        gaps[gaps < min] = 0\n",
    "        return gaps\n",
    "    return generate"
   ]
  },
  {
   "cell_type": "markdown",
   "id": "d07bd9f7",
   "metadata": {},
   "source": [
    "The following method generates simple symmetric instances when F is a single \"gap-generator\".\n",
    "When F is a list of \"gap-generators\", one for each route, we generate an \"assymetric\" instance.\n",
    "The number of arrivals per route (n) can be a single number (same number of arrivals for each route) or a list.\n",
    "When the number of routes (R) cannot be derived from either F or n (which we can when they are lists), it needs to be explicitly specified."
   ]
  },
  {
   "cell_type": "code",
   "execution_count": 9,
   "id": "6074223c",
   "metadata": {
    "editable": true,
    "slideshow": {
     "slide_type": ""
    },
    "tags": []
   },
   "outputs": [],
   "source": [
    "from collections.abc import Iterable\n",
    "\n",
    "def generate_instance(F, n=1, R=None, rho=1.2, sigma=1.7):\n",
    "    \"\"\"F is a (list of) \"gap-generator\" function(s) to generate the interarrival\n",
    "    times. n is the number of arrivals per route\n",
    "    (either single number or list). R is the number of routes, which needs to be\n",
    "    specified explicitly if it cannot be derived from F or n. In other words,\n",
    "    R and n are automatically 'broadcasted'.\"\"\"\n",
    "    assert sigma > rho, \"This choice surely gives a valid combinatorial problem, but it makes no sense in the original problem context.\"\n",
    "    instance = SingleInstance(rho=rho, sigma=sigma)\n",
    "\n",
    "    R1 = len(F) if not callable(F) else None\n",
    "    R2 = len(n) if isinstance(n, Iterable) else None\n",
    "    if R1 is not None and R2 is not None:\n",
    "        if R1 != R2:\n",
    "            raise Exception(f\"Number of gap-generators {R1} in F should match number of routes {R2} specified by n.\")\n",
    "        if R is not None and R != R1:\n",
    "            raise Exception(f\"Number of routes specified by F and n ({R1}) should match R={R}.\")\n",
    "    if R is None:\n",
    "        R = R1 or R2\n",
    " \n",
    "    for r in range(R):\n",
    "        # make explicit singletons\n",
    "        if not callable(F): f = F[r]\n",
    "        else: f = F\n",
    "        if isinstance(n, Iterable): n1 = n[r]\n",
    "        else: n1 = n\n",
    "\n",
    "        # create random interarrival times (\"gaps\") and cumulate them to obtain\n",
    "        # earliest arrival times\n",
    "        instance.add_route_from_gaps(f(n1))\n",
    "    return instance"
   ]
  },
  {
   "cell_type": "markdown",
   "id": "60de796c",
   "metadata": {},
   "source": [
    "We define some dummy instance generator to produce small simple instances to use during development."
   ]
  },
  {
   "cell_type": "code",
   "execution_count": 10,
   "id": "ee86d692",
   "metadata": {},
   "outputs": [],
   "source": [
    "def generate_simple_instance(n=[3, 3]):\n",
    "    return generate_instance(clipped(uniform()), n)"
   ]
  },
  {
   "cell_type": "markdown",
   "id": "79d87ebb",
   "metadata": {},
   "source": [
    "## Visualizing instances and schedules"
   ]
  },
  {
   "cell_type": "code",
   "execution_count": 12,
   "id": "2382cebc",
   "metadata": {
    "editable": true,
    "slideshow": {
     "slide_type": ""
    },
    "tags": [
     "active-ipynb"
    ]
   },
   "outputs": [
    {
     "data": {
      "image/png": "[encoded data removed]",
      "text/plain": [
       "<Figure size 2264.84x120 with 1 Axes>"
      ]
     },
     "metadata": {},
     "output_type": "display_data"
    },
    {
     "data": {
      "image/png": "[encoded data removed]",
      "text/plain": [
       "<Figure size 466.933x80 with 1 Axes>"
      ]
     },
     "metadata": {},
     "output_type": "display_data"
    },
    {
     "data": {
      "image/png": "[encoded data removed]",
      "text/plain": [
       "<Figure size 1138.91x120 with 1 Axes>"
      ]
     },
     "metadata": {},
     "output_type": "display_data"
    },
    {
     "data": {
      "image/png": "[encoded data removed]",
      "text/plain": [
       "<Figure size 1212.34x80 with 1 Axes>"
      ]
     },
     "metadata": {},
     "output_type": "display_data"
    }
   ],
   "source": [
    "options = { 'block_text': False }\n",
    "\n",
    "F = bimodal_exponential(p=0.2, s1=0.2, s2=2.0)\n",
    "generate_instance(F, n=5, R=3).visualize(**options)\n",
    "generate_instance(clipped(uniform()), n=[1, 3]).visualize(**options)\n",
    "generate_instance(clipped(uniform()), n=8, R=3).visualize(**options)\n",
    "generate_instance([clipped(uniform(0, 4)), clipped(uniform())], n=[4, 8]).visualize(**options)"
   ]
  },
  {
   "cell_type": "markdown",
   "id": "feb8494b",
   "metadata": {},
   "source": [
    "Now visualize a complete schedule, by executing some random scheduling policy."
   ]
  },
  {
   "cell_type": "code",
   "execution_count": 13,
   "id": "43223d7e",
   "metadata": {
    "tags": [
     "active-ipynb"
    ]
   },
   "outputs": [
    {
     "data": {
      "image/png": "[encoded data removed]",
      "text/plain": [
       "<Figure size 481.417x80 with 1 Axes>"
      ]
     },
     "metadata": {},
     "output_type": "display_data"
    },
    {
     "data": {
      "image/png": "[encoded data removed]",
      "text/plain": [
       "<Figure size 481.417x80 with 1 Axes>"
      ]
     },
     "metadata": {},
     "output_type": "display_data"
    },
    {
     "data": {
      "image/png": "[encoded data removed]",
      "text/plain": [
       "<Figure size 599.836x80 with 1 Axes>"
      ]
     },
     "metadata": {},
     "output_type": "display_data"
    },
    {
     "data": {
      "image/png": "[encoded data removed]",
      "text/plain": [
       "<Figure size 599.836x40 with 1 Axes>"
      ]
     },
     "metadata": {},
     "output_type": "display_data"
    },
    {
     "data": {
      "image/png": "[encoded data removed]",
      "text/plain": [
       "<Figure size 599.836x40 with 1 Axes>"
      ]
     },
     "metadata": {},
     "output_type": "display_data"
    },
    {
     "data": {
      "image/png": "[encoded data removed]",
      "text/plain": [
       "<Figure size 599.836x40 with 1 Axes>"
      ]
     },
     "metadata": {},
     "output_type": "display_data"
    },
    {
     "data": {
      "image/png": "[encoded data removed]",
      "text/plain": [
       "<Figure size 599.836x40 with 1 Axes>"
      ]
     },
     "metadata": {},
     "output_type": "display_data"
    }
   ],
   "source": [
    "options = {\n",
    "    'block_text': True,\n",
    "    'no_axis': True,\n",
    "    'tex': True,\n",
    "}\n",
    "\n",
    "self = generate_instance(clipped(uniform(0, 1)), R=2, n=[2,3])\n",
    "env = SingleScheduleEnv(instance=self, options=options)\n",
    "env.action_space.seed(11) # to keep the same example once we like it\n",
    "obs, info = env.reset()\n",
    "\n",
    "self.visualize(out='figures/instance.pdf', **options)\n",
    "\n",
    "# obtain some random schedule\n",
    "done = False\n",
    "while not done:\n",
    "    # mask = valid actions = routes with unscheduled vehicles\n",
    "    mask = (~obs['done']).astype(np.int8)\n",
    "    action = env.action_space.sample(mask)\n",
    "    obs, reward, done, truncated, info = env.step(action)\n",
    "    env.render()\n",
    "\n",
    "# draw the final schedule\n",
    "env.options['out'] = 'figures/schedule.pdf'\n",
    "env.render()"
   ]
  },
  {
   "cell_type": "markdown",
   "id": "d07d306a",
   "metadata": {},
   "source": [
    "## Testing the MILP and MDP implementation"
   ]
  },
  {
   "cell_type": "code",
   "execution_count": 36,
   "id": "6d70b6dd",
   "metadata": {},
   "outputs": [
    {
     "name": "stdout",
     "output_type": "stream",
     "text": [
      "11.5\n"
     ]
    },
    {
     "data": {
      "text/plain": [
       "(SingleInstance(arrivals=[array([1, 2, 4]), array([1. , 2.5])], rho=1, sigma=3),\n",
       " SingleMILPSchedule(instance=SingleInstance(arrivals=[array([1, 2, 4]), array([1. , 2.5])], rho=1, sigma=3), y=[array([1., 2., 4.]), array([7., 8.])], obj=22.0, done=1, gap=0.0, time=0.0015079975128173828))"
      ]
     },
     "execution_count": 36,
     "metadata": {},
     "output_type": "execute_result"
    }
   ],
   "source": [
    "instance = SingleInstance(\n",
    "    arrivals=[np.array([1, 2, 4]), np.array([1, 2.5])],\n",
    "    rho=1, sigma=3\n",
    ")\n",
    "\n",
    "instance.solve()\n",
    "\n",
    "print(instance.opt.delay)\n",
    "instance, instance.opt"
   ]
  },
  {
   "cell_type": "code",
   "execution_count": null,
   "id": "9952d099",
   "metadata": {},
   "outputs": [
    {
     "name": "stdout",
     "output_type": "stream",
     "text": [
      "-11.5\n"
     ]
    },
    {
     "data": {
      "text/plain": [
       "array([[1., 2., 4.],\n",
       "       [7., 8., 0.]])"
      ]
     },
     "execution_count": 38,
     "metadata": {},
     "output_type": "execute_result"
    },
    {
     "data": {
      "image/png": "[encoded data removed]",
      "text/plain": [
       "<Figure size 728x40 with 1 Axes>"
      ]
     },
     "metadata": {},
     "output_type": "display_data"
    }
   ],
   "source": [
    "from single.mdp import SingleScheduleEnv\n",
    "\n",
    "env = SingleScheduleEnv(instance=instance)\n",
    "\n",
    "obs, info = env.reset()\n",
    "total_reward = 0\n",
    "for r in instance.opt.route_order:\n",
    "    _, reward, *_ = env.step(r)\n",
    "    total_reward += reward\n",
    "\n",
    "env.render()\n",
    "print(total_reward)\n",
    "env.LB"
   ]
  },
  {
   "cell_type": "code",
   "execution_count": null,
   "id": "5b3ca9dd",
   "metadata": {},
   "outputs": [],
   "source": []
  }
 ],
 "metadata": {
  "jupytext": {
   "formats": "ipynb,py:percent"
  },
  "kernelspec": {
   "display_name": "traffic",
   "language": "python",
   "name": "python3"
  },
  "language_info": {
   "codemirror_mode": {
    "name": "ipython",
    "version": 3
   },
   "file_extension": ".py",
   "mimetype": "text/x-python",
   "name": "python",
   "nbconvert_exporter": "python",
   "pygments_lexer": "ipython3",
   "version": "3.12.3"
  }
 },
 "nbformat": 4,
 "nbformat_minor": 5
}
