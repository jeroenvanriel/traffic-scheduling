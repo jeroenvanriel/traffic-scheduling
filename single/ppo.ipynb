{
 "cells": [
  {
   "cell_type": "markdown",
   "id": "68595114",
   "metadata": {},
   "source": [
    "\n",
    "> ⚠️ **Warning:** This notebook file is paired to a .py file with the same name, such that we can cleanly import the functionality from other notebooks. This is done using the facilities of the jupytext package. The cells in this notebook that are only meant as \"demonstration\" are marked with the cell tag \"active-ipynb\", which causes the jupytext synchronization command to ignore these when syncing to the .py file. This is our current way of doing \"literate programming\" with jupyter notebooks."
   ]
  },
  {
   "cell_type": "markdown",
   "id": "176041aa",
   "metadata": {},
   "source": [
    "## Proximal Policy Optimization (PPO)"
   ]
  },
  {
   "cell_type": "code",
   "execution_count": null,
   "id": "6db409ae",
   "metadata": {},
   "outputs": [],
   "source": [
    "from single.mdp import SingleScheduleEnv, HorizonObservationWrapper, HorizonRollingWrapper\n",
    "from stable_baselines3 import PPO\n",
    "from stable_baselines3.common.env_util import make_vec_env\n",
    "from stable_baselines3.common.evaluation import evaluate_policy\n",
    "from stable_baselines3.common.monitor import Monitor\n",
    "from util import TqdmCallback\n",
    "import os\n",
    "\n",
    "log_dir = \"logs/\"\n",
    "os.makedirs(log_dir, exist_ok=True)\n",
    "\n",
    "class PpoRl:\n",
    "    def __init__(self, steps=100, verbose=1):\n",
    "        self.steps = steps\n",
    "        self.verbose = verbose\n",
    "\n",
    "    def make_wrapped_env(self, gen):\n",
    "        env = SingleScheduleEnv(instance_generator=gen)\n",
    "        env = HorizonObservationWrapper(env, max_vehicles_per_route=self.max_k)\n",
    "        env = HorizonRollingWrapper(env)\n",
    "        return env\n",
    "\n",
    "    def train(self, gen):\n",
    "        self.gen = gen\n",
    "        # just inspect a sample to determine model feature \"size\"\n",
    "        s = gen()\n",
    "        self.R = len(s['release'])\n",
    "        self.max_k = max(len(n) for n in s['release'])\n",
    "\n",
    "        vec_env = make_vec_env(lambda: self.make_wrapped_env(gen), n_envs=4)\n",
    "        # vec_env = VecMonitor(vec_env, filename=\"./logs/vec_monitor.csv\")\n",
    "        self.model = PPO(\"MultiInputPolicy\", vec_env,\n",
    "                         device='cpu', verbose=self.verbose) \\\n",
    "                            .learn(total_timesteps=self.steps,\n",
    "                                   callback=TqdmCallback(self.steps))\n",
    "\n",
    "    def eval(self, gen):\n",
    "        env = self.make_wrapped_env(gen)\n",
    "        env = Monitor(env)\n",
    "\n",
    "        # Evaluate the policy\n",
    "        mean_reward, std_reward = evaluate_policy(\n",
    "            self.model, env,\n",
    "            n_eval_episodes=100,     # number of episodes to test\n",
    "            render=False,            # set True to see rendering\n",
    "            deterministic=True,      # remove exploration noise\n",
    "            return_episode_rewards=False\n",
    "        )\n",
    "\n",
    "        print(f\"Mean reward: {mean_reward} +/- {std_reward}\")\n",
    "        return -mean_reward"
   ]
  },
  {
   "cell_type": "markdown",
   "id": "36bfbdd1",
   "metadata": {},
   "source": [
    "## Demo\n",
    "\n",
    "> ⚠️ **Warning:** Remember to tag these cells as `active-ipynb`."
   ]
  },
  {
   "cell_type": "code",
   "execution_count": 2,
   "id": "8fddc229",
   "metadata": {
    "tags": [
     "active-ipynb"
    ]
   },
   "outputs": [],
   "source": [
    "%load_ext autoreload\n",
    "%autoreload 2"
   ]
  },
  {
   "cell_type": "code",
   "execution_count": null,
   "id": "92ddb3d8",
   "metadata": {
    "tags": [
     "active-ipynb"
    ]
   },
   "outputs": [
    {
     "name": "stdout",
     "output_type": "stream",
     "text": [
      "Using cpu device\n"
     ]
    },
    {
     "name": "stderr",
     "output_type": "stream",
     "text": [
      "Training: 100%|██████████| 2000/2000 [00:00<00:00, 2687.27step/s]"
     ]
    },
    {
     "name": "stdout",
     "output_type": "stream",
     "text": [
      "---------------------------------\n",
      "| rollout/           |          |\n",
      "|    ep_len_mean     | 20       |\n",
      "|    ep_rew_mean     | -181     |\n",
      "| time/              |          |\n",
      "|    fps             | 10453    |\n",
      "|    iterations      | 1        |\n",
      "|    time_elapsed    | 0        |\n",
      "|    total_timesteps | 8192     |\n",
      "---------------------------------\n"
     ]
    },
    {
     "name": "stderr",
     "output_type": "stream",
     "text": [
      "Training: 100%|██████████| 2000/2000 [00:02<00:00, 775.63step/s] \n"
     ]
    },
    {
     "name": "stdout",
     "output_type": "stream",
     "text": [
      "Mean reward: -155.47679676 +/- 11.064987106602896\n"
     ]
    }
   ],
   "source": [
    "from single.basics import generate_instance, uniform\n",
    "from single.mdp import draw_horizon_obs\n",
    "\n",
    "model = PpoRl(steps=2000, verbose=1)\n",
    "gen = lambda: generate_instance(uniform(), n=[10, 10])\n",
    "model.train(gen)\n",
    "score = model.eval(gen)"
   ]
  },
  {
   "cell_type": "code",
   "execution_count": 6,
   "id": "faedfbf2",
   "metadata": {
    "tags": [
     "active-ipynb"
    ]
   },
   "outputs": [
    {
     "data": {
      "image/png": "[encoded data removed]",
      "text/plain": [
       "<Figure size 410.617x80 with 1 Axes>"
      ]
     },
     "metadata": {},
     "output_type": "display_data"
    },
    {
     "data": {
      "image/png": "[encoded data removed]",
      "text/plain": [
       "<Figure size 503.272x200 with 1 Axes>"
      ]
     },
     "metadata": {},
     "output_type": "display_data"
    }
   ],
   "source": [
    "gen = lambda: generate_instance(uniform(), R=2, n=3)\n",
    "env = SingleScheduleEnv(instance_generator=gen)\n",
    "env = HorizonObservationWrapper(env)\n",
    "env = HorizonRollingWrapper(env)\n",
    "obs, _ = env.reset()\n",
    "env.render()\n",
    "draw_horizon_obs(obs)"
   ]
  },
  {
   "cell_type": "code",
   "execution_count": 7,
   "id": "700d5298",
   "metadata": {
    "tags": [
     "active-ipynb"
    ]
   },
   "outputs": [
    {
     "data": {
      "image/png": "[encoded data removed]",
      "text/plain": [
       "<Figure size 494.779x80 with 1 Axes>"
      ]
     },
     "metadata": {},
     "output_type": "display_data"
    },
    {
     "data": {
      "image/png": "[encoded data removed]",
      "text/plain": [
       "<Figure size 460x200 with 1 Axes>"
      ]
     },
     "metadata": {},
     "output_type": "display_data"
    }
   ],
   "source": [
    "obs, *_ = env.step(0)\n",
    "env.render()\n",
    "draw_horizon_obs(obs)"
   ]
  },
  {
   "cell_type": "code",
   "execution_count": null,
   "id": "356c5152",
   "metadata": {},
   "outputs": [],
   "source": []
  }
 ],
 "metadata": {
  "jupytext": {
   "formats": "ipynb,py:percent"
  },
  "kernelspec": {
   "display_name": "traffic",
   "language": "python",
   "name": "python3"
  },
  "language_info": {
   "codemirror_mode": {
    "name": "ipython",
    "version": 3
   },
   "file_extension": ".py",
   "mimetype": "text/x-python",
   "name": "python",
   "nbconvert_exporter": "python",
   "pygments_lexer": "ipython3",
   "version": "3.12.3"
  }
 },
 "nbformat": 4,
 "nbformat_minor": 5
}
