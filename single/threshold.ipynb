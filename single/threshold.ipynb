{
 "cells": [
  {
   "cell_type": "markdown",
   "id": "bd753a78",
   "metadata": {},
   "source": [
    "\n",
    "> ⚠️ **Warning:** This notebook file is paired to a .py file with the same name, such that we can cleanly import the functionality from other notebooks. This is done using the facilities of the jupytext package. The cells in this notebook that are only meant as \"demonstration\" are marked with the cell tag \"active-ipynb\", which causes the jupytext synchronization command to ignore these when syncing to the .py file. This is our current way of doing \"literate programming\" with jupyter notebooks."
   ]
  },
  {
   "cell_type": "code",
   "execution_count": 1,
   "id": "6a422243",
   "metadata": {
    "tags": [
     "active-ipynb"
    ]
   },
   "outputs": [],
   "source": [
    "%load_ext autoreload\n",
    "%autoreload 2"
   ]
  },
  {
   "cell_type": "markdown",
   "id": "67693f3c",
   "metadata": {},
   "source": [
    "## Threshold heuristic"
   ]
  },
  {
   "cell_type": "code",
   "execution_count": null,
   "id": "ede8e1ad",
   "metadata": {},
   "outputs": [],
   "source": [
    "from single.mdp import SingleScheduleEnv, HorizonObservationWrapper\n",
    "\n",
    "import numpy as np\n",
    "from scipy.optimize import minimize_scalar\n",
    "import matplotlib.pyplot as plt\n",
    "\n",
    "from dataclasses import dataclass\n",
    "\n",
    "\n",
    "def _threshold_policy(obs, tau, switch):\n",
    "    if np.count_nonzero(obs['h_lengths']) == 1: # only one route to go\n",
    "        return np.nanargmax(obs['h_lengths'])\n",
    "\n",
    "    # we only need the lower bound of the first unscheduled on each route\n",
    "    # so put these in a 1-d array, with Nan for routes that are done\n",
    "    beta = obs['horizon'][:, 0]\n",
    "    beta[obs['h_lengths'] == 0] = np.nan\n",
    "\n",
    "    r_min  = np.nanargmin(beta)\n",
    "    beta_min = beta[r_min]\n",
    "    if beta_min <= tau:\n",
    "        return r_min\n",
    "    else:\n",
    "        # pick argmin{\\beta_r : \\beta_r >= c(s_t) + \\sigma-\\rho},\n",
    "        # where c(s_t) is \"current time\"\n",
    "        # and \\sigma-\\rho is \"switch\"\n",
    "        beta[beta < switch] = np.nan\n",
    "        return np.nanargmin(beta)\n",
    "\n",
    "def _execute_treshold_policy(s, tau):\n",
    "    # execute the threshold policy $\\pi_\\tau$ on instance s\n",
    "    env = SingleScheduleEnv(instance=s)\n",
    "    env = HorizonObservationWrapper(env)\n",
    "    obs, _ = env.reset()\n",
    "    done = False\n",
    "    total_reward = 0\n",
    "    while not done: \n",
    "        route = _threshold_policy(obs, tau, env.unwrapped.switch)\n",
    "        obs, reward, done, *_ = env.step(route)\n",
    "        total_reward += reward\n",
    "    return total_reward\n",
    "\n",
    "\n",
    "@dataclass\n",
    "class ThresholdGridSearch:\n",
    "    tau_range: np.ndarray\n",
    "\n",
    "    def train(self, gen, N_train=500, **options):\n",
    "        # generate training data\n",
    "        instances = [gen() for _ in range(N_train)]\n",
    "\n",
    "        # do simple grid search to find best threshold parameter\n",
    "        tau_range_str = \", \".join(f\"{tau:.2f}\" for tau in self.tau_range)\n",
    "        print(f\"searching tau over {tau_range_str}\")\n",
    "        self.tau_scores = []\n",
    "        for tau in self.tau_range:\n",
    "            scores = [_execute_treshold_policy(s, tau) for s in instances]\n",
    "            self.tau_scores.append(sum(scores) / N_train)\n",
    "        self.tau_score = np.max(self.tau_scores)\n",
    "        self.tau = self.tau_range[np.argmax(self.tau_scores)]\n",
    "\n",
    "    def eval(self, gen):\n",
    "        instance = gen()\n",
    "        return -_execute_treshold_policy(instance, self.tau)\n",
    "\n",
    "    def report(self):\n",
    "        plt.plot(self.tau, self.tau_score, 'ro')\n",
    "        plt.plot(self.tau_range, self.tau_scores, '.-')\n",
    "        plt.xlabel(r'threshold tau')\n",
    "        plt.ylabel(r'average reward')\n",
    "\n",
    "\n",
    "@dataclass\n",
    "class ThresholdBrentSearch:\n",
    "    def __init__(self, **kwargs):\n",
    "        self.options = kwargs\n",
    "    \n",
    "    def train(self, gen, **options):\n",
    "        # generate training data\n",
    "        N_train = options.pop('N_train', 500)\n",
    "        instances = [gen() for _ in range(N_train)]\n",
    "\n",
    "        # Brent's method\n",
    "        def loss(tau):\n",
    "            scores = [_execute_treshold_policy(s, tau) for s in instances]\n",
    "            return -sum(scores) / N_train\n",
    "\n",
    "        self.res = minimize_scalar(loss, bounds=(0, 2), options=self.options)\n",
    "        self.tau = self.res.x\n",
    "\n",
    "    def eval(self, gen):\n",
    "        instance = gen()\n",
    "        return -_execute_treshold_policy(instance, self.tau)\n",
    "\n",
    "    def report(self):\n",
    "        plt.plot(self.res.x, -self.res.fun, 'ro')"
   ]
  },
  {
   "cell_type": "markdown",
   "id": "9d60afcc",
   "metadata": {},
   "source": [
    "Define some problem distribution."
   ]
  },
  {
   "cell_type": "code",
   "execution_count": 15,
   "id": "2fc43a78",
   "metadata": {
    "tags": [
     "active-ipynb"
    ]
   },
   "outputs": [
    {
     "data": {
      "image/png": "[encoded data removed]",
      "text/plain": [
       "<Figure size 1449.23x80 with 1 Axes>"
      ]
     },
     "metadata": {},
     "output_type": "display_data"
    }
   ],
   "source": [
    "from single.instances import generate_instance, uniform, bimodal_exponential\n",
    "import matplotlib.pyplot as plt\n",
    "\n",
    "F = uniform()\n",
    "# F = bimodal_exponential(p=0.2, s1=0.01, s2=2.0)\n",
    "gen = lambda: generate_instance(F, R=2, n=[10, 10])\n",
    "\n",
    "gen().visualize()"
   ]
  },
  {
   "cell_type": "markdown",
   "id": "4d6f94b6",
   "metadata": {},
   "source": [
    "Find the best threshold parameter and plot the score for all candidates."
   ]
  },
  {
   "cell_type": "code",
   "execution_count": 16,
   "id": "29f9fb0a",
   "metadata": {
    "tags": [
     "active-ipynb"
    ]
   },
   "outputs": [
    {
     "name": "stdout",
     "output_type": "stream",
     "text": [
      "searching tau over 0.00, 0.07, 0.13, 0.20, 0.27, 0.33, 0.40, 0.47, 0.53, 0.60\n",
      "best parameter grid: 0.26666666666666666\n"
     ]
    },
    {
     "data": {
      "image/png": "[encoded data removed]",
      "text/plain": [
       "<Figure size 640x480 with 1 Axes>"
      ]
     },
     "metadata": {},
     "output_type": "display_data"
    }
   ],
   "source": [
    "grid = ThresholdGridSearch(np.linspace(0, 0.6, 10))\n",
    "grid_scores = grid.train(gen)\n",
    "print(f\"best parameter grid: {grid.tau}\")\n",
    "grid.report()\n",
    "\n",
    "# brent = ThresholdBrentSearch()\n",
    "# brent_res = brent.train(gen)\n",
    "# print(f\"best parameter brent: {brent.tau}\")\n",
    "# brent.report()"
   ]
  },
  {
   "cell_type": "code",
   "execution_count": null,
   "id": "3b7986ba",
   "metadata": {},
   "outputs": [],
   "source": []
  }
 ],
 "metadata": {
  "jupytext": {
   "formats": "ipynb,py:percent"
  },
  "kernelspec": {
   "display_name": "traffic",
   "language": "python",
   "name": "python3"
  },
  "language_info": {
   "codemirror_mode": {
    "name": "ipython",
    "version": 3
   },
   "file_extension": ".py",
   "mimetype": "text/x-python",
   "name": "python",
   "nbconvert_exporter": "python",
   "pygments_lexer": "ipython3",
   "version": "3.12.3"
  }
 },
 "nbformat": 4,
 "nbformat_minor": 5
}
