{
 "cells": [
  {
   "cell_type": "markdown",
   "id": "4dabedf3",
   "metadata": {},
   "source": [
    "### Preamble"
   ]
  },
  {
   "cell_type": "code",
   "execution_count": 8,
   "id": "7da0a3ba",
   "metadata": {},
   "outputs": [
    {
     "name": "stdout",
     "output_type": "stream",
     "text": [
      "The autoreload extension is already loaded. To reload it, use:\n",
      "  %reload_ext autoreload\n"
     ]
    }
   ],
   "source": [
    "%load_ext autoreload\n",
    "%autoreload 2"
   ]
  },
  {
   "cell_type": "code",
   "execution_count": 9,
   "id": "86b12b91",
   "metadata": {},
   "outputs": [
    {
     "name": "stdout",
     "output_type": "stream",
     "text": [
      "/home/jeroen/repos/traffic-scheduling/single\n"
     ]
    }
   ],
   "source": [
    "import pandas as pd\n",
    "%cd /home/jeroen/repos/traffic-scheduling/single"
   ]
  },
  {
   "cell_type": "code",
   "execution_count": 10,
   "id": "dd7c0971",
   "metadata": {},
   "outputs": [],
   "source": [
    "# enable caching of intermediate results\n",
    "import dill as pickle # (to store anonymous functions)\n",
    "from joblib import Memory\n",
    "memory = Memory('cache', verbose=0)"
   ]
  },
  {
   "cell_type": "markdown",
   "id": "bf27f0dd",
   "metadata": {},
   "source": [
    "## Specify experiments"
   ]
  },
  {
   "cell_type": "markdown",
   "id": "c5b42e5c",
   "metadata": {},
   "source": [
    "Experiment ingredients: distributions and scheduling models (i.e., procedures that train/eval)."
   ]
  },
  {
   "cell_type": "code",
   "execution_count": 11,
   "id": "d2731c97",
   "metadata": {},
   "outputs": [],
   "source": [
    "from instances import bimodal_exponential\n",
    "\n",
    "# some fixed gap distributions\n",
    "gap_distributions = {\n",
    "    # 'low', 'med' and 'high' have same arrival intensity,\n",
    "    # computed using s2 = (mu - p*s1) / (1 - p)\n",
    "    'high': bimodal_exponential(p=0.5, s1=0.1, s2=10.00),\n",
    "    'med':  bimodal_exponential(p=0.3, s1=0.1, s2= 7.17),\n",
    "    'low':  bimodal_exponential(p=0.1, s1=0.1, s2= 5.6),\n",
    "}\n",
    "\n",
    "# from imitation import ImitationLearning\n",
    "from ppo import PpoRl\n",
    "from threshold import ThresholdGridSearch, ThresholdBrentSearch\n",
    "\n",
    "import numpy as np\n",
    "\n",
    "# model classes, possibly parameterized\n",
    "models = {\n",
    "    'Grid':    ThresholdGridSearch(tau_range=np.linspace(0, 2, 10)),\n",
    "    # 'Brent':   ThresholdBrentSearch(maxiter=10),\n",
    "    # 'PPO1':                 PpoRl(steps=100, verbose=0),\n",
    "    # 'PPO2':                 PpoRl(steps=500, verbose=0),\n",
    "    # 'Imitation':            ImitationLearning(),\n",
    "    # 'Imitation100':         Imitation(train_size=100), # ...or something along those lines\n",
    "    # 'Single step REINFOCE': SingleStepRl,\n",
    "    # 'Episodic REINFORCE':   EpisodeRl,\n",
    "}"
   ]
  },
  {
   "cell_type": "markdown",
   "id": "03e2bba8",
   "metadata": {},
   "source": [
    "Specify experiments by combining the above \"ingredients\". When the train distribution differs from the eval distribution, we are effectively measuring how well the model generalizes."
   ]
  },
  {
   "cell_type": "code",
   "execution_count": 12,
   "id": "cf125ccb",
   "metadata": {},
   "outputs": [
    {
     "data": {
      "text/html": [
       "<div>\n",
       "<style scoped>\n",
       "    .dataframe tbody tr th:only-of-type {\n",
       "        vertical-align: middle;\n",
       "    }\n",
       "\n",
       "    .dataframe tbody tr th {\n",
       "        vertical-align: top;\n",
       "    }\n",
       "\n",
       "    .dataframe thead th {\n",
       "        text-align: right;\n",
       "    }\n",
       "</style>\n",
       "<table border=\"1\" class=\"dataframe\">\n",
       "  <thead>\n",
       "    <tr style=\"text-align: right;\">\n",
       "      <th></th>\n",
       "      <th>n_train</th>\n",
       "      <th>F_train</th>\n",
       "      <th>model_spec</th>\n",
       "      <th>n_test</th>\n",
       "      <th>F_test</th>\n",
       "    </tr>\n",
       "  </thead>\n",
       "  <tbody>\n",
       "    <tr>\n",
       "      <th>0</th>\n",
       "      <td>[10, 10]</td>\n",
       "      <td>[low, low]</td>\n",
       "      <td>Grid</td>\n",
       "      <td>[10, 10]</td>\n",
       "      <td>[low, low]</td>\n",
       "    </tr>\n",
       "    <tr>\n",
       "      <th>1</th>\n",
       "      <td>[10, 10]</td>\n",
       "      <td>[low, low]</td>\n",
       "      <td>Grid</td>\n",
       "      <td>[10, 10]</td>\n",
       "      <td>[low, low]</td>\n",
       "    </tr>\n",
       "  </tbody>\n",
       "</table>\n",
       "</div>"
      ],
      "text/plain": [
       "    n_train     F_train model_spec    n_test      F_test\n",
       "0  [10, 10]  [low, low]       Grid  [10, 10]  [low, low]\n",
       "1  [10, 10]  [low, low]       Grid  [10, 10]  [low, low]"
      ]
     },
     "execution_count": 12,
     "metadata": {},
     "output_type": "execute_result"
    }
   ],
   "source": [
    "# global number of test instances used in model evaluation\n",
    "N_test = 100\n",
    "\n",
    "# definition of experiments (measure generalization by providing different test (n, F) pair)\n",
    "exps = [\n",
    "    ([10, 10], 'low', 'Grid', [10, 10], 'low'),\n",
    "    ([10, 10], 'low', 'Grid', [10, 10], 'low'),\n",
    "]\n",
    "experiments = pd.DataFrame(exps, columns=['n_train', 'F_train', 'model_spec', 'n_test', 'F_test'])\n",
    "\n",
    "# next, we \"compile\" these textual experiment specifications\n",
    "# - add explicit generator function based on the textual specification\n",
    "# - instantiate each model class (optionally with parameters)\n",
    "from instances import generate_instance\n",
    "for i, row in experiments.iterrows():\n",
    "    for m in ['train', 'test']:\n",
    "        n = row[f'n_{m}']; F = row[f'F_{m}']\n",
    "        # when F is not a list, broadcast according to number of routes\n",
    "        if isinstance(F, str): \n",
    "            F = [F]*len(n)\n",
    "            row[f'F_{m}'] = F # write broadcasted list back\n",
    "        F = [gap_distributions[f] for f in F]\n",
    "        experiments.loc[i, f'gen_{m}'] = lambda: generate_instance(F, n=n)\n",
    "\n",
    "# look up model by name, put in pandas table\n",
    "experiments['model'] = experiments.apply(lambda row: models[row['model_spec']], axis=1)\n",
    "\n",
    "experiments.drop(columns=['gen_train', 'gen_test', 'model'])"
   ]
  },
  {
   "cell_type": "markdown",
   "id": "01cda081",
   "metadata": {},
   "source": [
    "## Run all experiments"
   ]
  },
  {
   "cell_type": "markdown",
   "id": "01a06b86",
   "metadata": {},
   "source": [
    "WATCH OUT: timelimit is currently set very low for development!"
   ]
  },
  {
   "cell_type": "code",
   "execution_count": 13,
   "id": "97137311",
   "metadata": {},
   "outputs": [],
   "source": [
    "from exact import solve\n",
    "import time\n",
    "import numpy as np\n",
    "\n",
    "@memory.cache\n",
    "def gen_test_data_and_optimal_solutions(gen):\n",
    "    print('Generating test data')\n",
    "    instances = [gen() for _ in range(N_test)]\n",
    "    solutions = []\n",
    "\n",
    "    start_time = time.time()\n",
    "    for s in instances:\n",
    "        solution = solve(s)\n",
    "        # calculate the \"delay\" objective by subtracting sum of earliest crossing times\n",
    "        solution['obj_delay'] = solution['obj'] - np.sum(s['release'])\n",
    "        solutions.append(solution)\n",
    "    time_opt = time.time() - start_time\n",
    "    return instances, solutions, time_opt"
   ]
  },
  {
   "cell_type": "code",
   "execution_count": 14,
   "id": "5ab1b217",
   "metadata": {},
   "outputs": [
    {
     "name": "stdout",
     "output_type": "stream",
     "text": [
      "Experiment 0: [10, 10], ['low', 'low'] -> Grid -> [10, 10], ['low', 'low']\n",
      "Generating test data\n"
     ]
    },
    {
     "ename": "TypeError",
     "evalue": "'SingleInstance' object is not subscriptable",
     "output_type": "error",
     "traceback": [
      "\u001b[0;31m---------------------------------------------------------------------------\u001b[0m",
      "\u001b[0;31mTypeError\u001b[0m                                 Traceback (most recent call last)",
      "Cell \u001b[0;32mIn[14], line 6\u001b[0m\n\u001b[1;32m      2\u001b[0m \u001b[38;5;28mprint\u001b[39m(\u001b[38;5;124mf\u001b[39m\u001b[38;5;124m\"\u001b[39m\u001b[38;5;124mExperiment \u001b[39m\u001b[38;5;132;01m{\u001b[39;00mi\u001b[38;5;132;01m}\u001b[39;00m\u001b[38;5;124m: \u001b[39m\u001b[38;5;132;01m{\u001b[39;00mexp[\u001b[38;5;124m'\u001b[39m\u001b[38;5;124mn_train\u001b[39m\u001b[38;5;124m'\u001b[39m]\u001b[38;5;132;01m}\u001b[39;00m\u001b[38;5;124m, \u001b[39m\u001b[38;5;132;01m{\u001b[39;00mexp[\u001b[38;5;124m'\u001b[39m\u001b[38;5;124mF_train\u001b[39m\u001b[38;5;124m'\u001b[39m]\u001b[38;5;132;01m}\u001b[39;00m\u001b[38;5;124m\"\u001b[39m\n\u001b[1;32m      3\u001b[0m       \u001b[38;5;124mf\u001b[39m\u001b[38;5;124m\"\u001b[39m\u001b[38;5;124m -> \u001b[39m\u001b[38;5;132;01m{\u001b[39;00mexp[\u001b[38;5;124m'\u001b[39m\u001b[38;5;124mmodel_spec\u001b[39m\u001b[38;5;124m'\u001b[39m]\u001b[38;5;132;01m}\u001b[39;00m\u001b[38;5;124m -> \u001b[39m\u001b[38;5;132;01m{\u001b[39;00mexp[\u001b[38;5;124m'\u001b[39m\u001b[38;5;124mn_test\u001b[39m\u001b[38;5;124m'\u001b[39m]\u001b[38;5;132;01m}\u001b[39;00m\u001b[38;5;124m, \u001b[39m\u001b[38;5;132;01m{\u001b[39;00mexp[\u001b[38;5;124m'\u001b[39m\u001b[38;5;124mF_test\u001b[39m\u001b[38;5;124m'\u001b[39m]\u001b[38;5;132;01m}\u001b[39;00m\u001b[38;5;124m\"\u001b[39m)\n\u001b[1;32m      5\u001b[0m \u001b[38;5;66;03m# create test instances and solve them to optimality (CACHED)\u001b[39;00m\n\u001b[0;32m----> 6\u001b[0m test_instances, solutions, time_opt \u001b[38;5;241m=\u001b[39m \u001b[43mgen_test_data_and_optimal_solutions\u001b[49m\u001b[43m(\u001b[49m\u001b[43mexp\u001b[49m\u001b[43m[\u001b[49m\u001b[38;5;124;43m'\u001b[39;49m\u001b[38;5;124;43mgen_test\u001b[39;49m\u001b[38;5;124;43m'\u001b[39;49m\u001b[43m]\u001b[49m\u001b[43m)\u001b[49m\n\u001b[1;32m      8\u001b[0m \u001b[38;5;66;03m# ref to instantiated model\u001b[39;00m\n\u001b[1;32m      9\u001b[0m model \u001b[38;5;241m=\u001b[39m exp[\u001b[38;5;124m'\u001b[39m\u001b[38;5;124mmodel\u001b[39m\u001b[38;5;124m'\u001b[39m]\n",
      "File \u001b[0;32m~/.local/share/miniforge3/envs/traffic/lib/python3.12/site-packages/joblib/memory.py:577\u001b[0m, in \u001b[0;36mMemorizedFunc.__call__\u001b[0;34m(self, *args, **kwargs)\u001b[0m\n\u001b[1;32m    575\u001b[0m \u001b[38;5;28;01mdef\u001b[39;00m \u001b[38;5;21m__call__\u001b[39m(\u001b[38;5;28mself\u001b[39m, \u001b[38;5;241m*\u001b[39margs, \u001b[38;5;241m*\u001b[39m\u001b[38;5;241m*\u001b[39mkwargs):\n\u001b[1;32m    576\u001b[0m     \u001b[38;5;66;03m# Return the output, without the metadata\u001b[39;00m\n\u001b[0;32m--> 577\u001b[0m     \u001b[38;5;28;01mreturn\u001b[39;00m \u001b[38;5;28;43mself\u001b[39;49m\u001b[38;5;241;43m.\u001b[39;49m\u001b[43m_cached_call\u001b[49m\u001b[43m(\u001b[49m\u001b[43margs\u001b[49m\u001b[43m,\u001b[49m\u001b[43m \u001b[49m\u001b[43mkwargs\u001b[49m\u001b[43m,\u001b[49m\u001b[43m \u001b[49m\u001b[43mshelving\u001b[49m\u001b[38;5;241;43m=\u001b[39;49m\u001b[38;5;28;43;01mFalse\u001b[39;49;00m\u001b[43m)\u001b[49m[\u001b[38;5;241m0\u001b[39m]\n",
      "File \u001b[0;32m~/.local/share/miniforge3/envs/traffic/lib/python3.12/site-packages/joblib/memory.py:532\u001b[0m, in \u001b[0;36mMemorizedFunc._cached_call\u001b[0;34m(self, args, kwargs, shelving)\u001b[0m\n\u001b[1;32m    526\u001b[0m     \u001b[38;5;28mself\u001b[39m\u001b[38;5;241m.\u001b[39mwarn(\n\u001b[1;32m    527\u001b[0m         \u001b[38;5;124mf\u001b[39m\u001b[38;5;124m\"\u001b[39m\u001b[38;5;124mComputing func \u001b[39m\u001b[38;5;132;01m{\u001b[39;00mfunc_name\u001b[38;5;132;01m}\u001b[39;00m\u001b[38;5;124m, argument hash \u001b[39m\u001b[38;5;132;01m{\u001b[39;00margs_id\u001b[38;5;132;01m}\u001b[39;00m\u001b[38;5;124m \u001b[39m\u001b[38;5;124m\"\u001b[39m\n\u001b[1;32m    528\u001b[0m         \u001b[38;5;124mf\u001b[39m\u001b[38;5;124m\"\u001b[39m\u001b[38;5;124min location \u001b[39m\u001b[38;5;132;01m{\u001b[39;00mlocation\u001b[38;5;132;01m}\u001b[39;00m\u001b[38;5;124m\"\u001b[39m\n\u001b[1;32m    529\u001b[0m     )\n\u001b[1;32m    531\u001b[0m \u001b[38;5;66;03m# Returns the output but not the metadata\u001b[39;00m\n\u001b[0;32m--> 532\u001b[0m \u001b[38;5;28;01mreturn\u001b[39;00m \u001b[38;5;28;43mself\u001b[39;49m\u001b[38;5;241;43m.\u001b[39;49m\u001b[43m_call\u001b[49m\u001b[43m(\u001b[49m\u001b[43mcall_id\u001b[49m\u001b[43m,\u001b[49m\u001b[43m \u001b[49m\u001b[43margs\u001b[49m\u001b[43m,\u001b[49m\u001b[43m \u001b[49m\u001b[43mkwargs\u001b[49m\u001b[43m,\u001b[49m\u001b[43m \u001b[49m\u001b[43mshelving\u001b[49m\u001b[43m)\u001b[49m\n",
      "File \u001b[0;32m~/.local/share/miniforge3/envs/traffic/lib/python3.12/site-packages/joblib/memory.py:771\u001b[0m, in \u001b[0;36mMemorizedFunc._call\u001b[0;34m(self, call_id, args, kwargs, shelving)\u001b[0m\n\u001b[1;32m    769\u001b[0m \u001b[38;5;28mself\u001b[39m\u001b[38;5;241m.\u001b[39m_before_call(args, kwargs)\n\u001b[1;32m    770\u001b[0m start_time \u001b[38;5;241m=\u001b[39m time\u001b[38;5;241m.\u001b[39mtime()\n\u001b[0;32m--> 771\u001b[0m output \u001b[38;5;241m=\u001b[39m \u001b[38;5;28;43mself\u001b[39;49m\u001b[38;5;241;43m.\u001b[39;49m\u001b[43mfunc\u001b[49m\u001b[43m(\u001b[49m\u001b[38;5;241;43m*\u001b[39;49m\u001b[43margs\u001b[49m\u001b[43m,\u001b[49m\u001b[43m \u001b[49m\u001b[38;5;241;43m*\u001b[39;49m\u001b[38;5;241;43m*\u001b[39;49m\u001b[43mkwargs\u001b[49m\u001b[43m)\u001b[49m\n\u001b[1;32m    772\u001b[0m \u001b[38;5;28;01mreturn\u001b[39;00m \u001b[38;5;28mself\u001b[39m\u001b[38;5;241m.\u001b[39m_after_call(call_id, args, kwargs, shelving,\n\u001b[1;32m    773\u001b[0m                         output, start_time)\n",
      "Cell \u001b[0;32mIn[13], line 15\u001b[0m, in \u001b[0;36mgen_test_data_and_optimal_solutions\u001b[0;34m(gen)\u001b[0m\n\u001b[1;32m     13\u001b[0m     solution \u001b[38;5;241m=\u001b[39m solve(s)\n\u001b[1;32m     14\u001b[0m     \u001b[38;5;66;03m# calculate the \"delay\" objective by subtracting sum of earliest crossing times\u001b[39;00m\n\u001b[0;32m---> 15\u001b[0m     solution[\u001b[38;5;124m'\u001b[39m\u001b[38;5;124mobj_delay\u001b[39m\u001b[38;5;124m'\u001b[39m] \u001b[38;5;241m=\u001b[39m solution[\u001b[38;5;124m'\u001b[39m\u001b[38;5;124mobj\u001b[39m\u001b[38;5;124m'\u001b[39m] \u001b[38;5;241m-\u001b[39m np\u001b[38;5;241m.\u001b[39msum(\u001b[43ms\u001b[49m\u001b[43m[\u001b[49m\u001b[38;5;124;43m'\u001b[39;49m\u001b[38;5;124;43mrelease\u001b[39;49m\u001b[38;5;124;43m'\u001b[39;49m\u001b[43m]\u001b[49m)\n\u001b[1;32m     16\u001b[0m     solutions\u001b[38;5;241m.\u001b[39mappend(solution)\n\u001b[1;32m     17\u001b[0m time_opt \u001b[38;5;241m=\u001b[39m time\u001b[38;5;241m.\u001b[39mtime() \u001b[38;5;241m-\u001b[39m start_time\n",
      "\u001b[0;31mTypeError\u001b[0m: 'SingleInstance' object is not subscriptable"
     ]
    }
   ],
   "source": [
    "for i, exp in experiments.iterrows():\n",
    "    print(f\"Experiment {i}: {exp['n_train']}, {exp['F_train']}\"\n",
    "          f\" -> {exp['model_spec']} -> {exp['n_test']}, {exp['F_test']}\")\n",
    "\n",
    "    # create test instances and solve them to optimality (CACHED)\n",
    "    test_instances, solutions, time_opt = gen_test_data_and_optimal_solutions(exp['gen_test'])\n",
    "\n",
    "    # ref to instantiated model\n",
    "    model = exp['model']\n",
    "\n",
    "    # train model\n",
    "    start_time = time.time()\n",
    "    model.train(exp['gen_train'])\n",
    "    time_train = time.time() - start_time\n",
    "\n",
    "    # evaluate model\n",
    "    start_time = time.time()\n",
    "    # NOTE: also accept std?\n",
    "    obj = model.eval(exp['gen_test'])\n",
    "    time_test = time.time() - start_time\n",
    "    \n",
    "    # compute:\n",
    "    # - average optimal objective (TODO: scale)\n",
    "    # - average model objective (TODO: scale)\n",
    "    # - optimality gap\n",
    "    opt = sum([t['obj_delay'] for t in solutions]) / len(solutions)\n",
    "    experiments.loc[i, 'opt'] = opt\n",
    "    experiments.loc[i, 'obj'] = obj\n",
    "    experiments.loc[i, 'gap'] = 100 * ((obj / opt) - 1)\n",
    "    experiments.loc[i, 'time_opt'] = time_opt\n",
    "    experiments.loc[i, 'time_train']  = time_train\n",
    "    experiments.loc[i, 'time_test'] = time_test\n",
    "\n",
    "from datetime import datetime\n",
    "now = datetime.now().strftime(\"%Y-%m-%d %H:%M:%S\")\n",
    "print(f\"Done at: {now}\")\n",
    "import os\n",
    "os.system('notify-send \"traffic-scheduling\" \"Experiments done\"')"
   ]
  },
  {
   "cell_type": "markdown",
   "id": "175eea37",
   "metadata": {},
   "source": [
    "## Generate results table"
   ]
  },
  {
   "cell_type": "code",
   "execution_count": null,
   "id": "7af6a7de",
   "metadata": {},
   "outputs": [
    {
     "data": {
      "text/html": [
       "<div>\n",
       "<style scoped>\n",
       "    .dataframe tbody tr th:only-of-type {\n",
       "        vertical-align: middle;\n",
       "    }\n",
       "\n",
       "    .dataframe tbody tr th {\n",
       "        vertical-align: top;\n",
       "    }\n",
       "\n",
       "    .dataframe thead th {\n",
       "        text-align: right;\n",
       "    }\n",
       "</style>\n",
       "<table border=\"1\" class=\"dataframe\">\n",
       "  <thead>\n",
       "    <tr style=\"text-align: right;\">\n",
       "      <th></th>\n",
       "      <th>n train</th>\n",
       "      <th>F train</th>\n",
       "      <th>model spec</th>\n",
       "      <th>n test</th>\n",
       "      <th>F test</th>\n",
       "      <th>opt</th>\n",
       "      <th>obj</th>\n",
       "      <th>gap</th>\n",
       "      <th>time opt</th>\n",
       "      <th>time train</th>\n",
       "      <th>time test</th>\n",
       "    </tr>\n",
       "  </thead>\n",
       "  <tbody>\n",
       "    <tr>\n",
       "      <th>0</th>\n",
       "      <td>\\texttt{[10, 10]}</td>\n",
       "      <td>\\texttt{[low, low]}</td>\n",
       "      <td>Grid</td>\n",
       "      <td>\\texttt{[10, 10]}</td>\n",
       "      <td>\\texttt{[low, low]}</td>\n",
       "      <td>6.336778</td>\n",
       "      <td>2.990904</td>\n",
       "      <td>-52.800872</td>\n",
       "      <td>0.855222</td>\n",
       "      <td>2.051633</td>\n",
       "      <td>0.000742</td>\n",
       "    </tr>\n",
       "    <tr>\n",
       "      <th>1</th>\n",
       "      <td>\\texttt{[10, 10]}</td>\n",
       "      <td>\\texttt{[low, low]}</td>\n",
       "      <td>Grid</td>\n",
       "      <td>\\texttt{[10, 10]}</td>\n",
       "      <td>\\texttt{[low, low]}</td>\n",
       "      <td>6.336778</td>\n",
       "      <td>8.088388</td>\n",
       "      <td>27.641952</td>\n",
       "      <td>0.855222</td>\n",
       "      <td>2.047788</td>\n",
       "      <td>0.000587</td>\n",
       "    </tr>\n",
       "  </tbody>\n",
       "</table>\n",
       "</div>"
      ],
      "text/plain": [
       "             n train              F train model spec             n test  \\\n",
       "0  \\texttt{[10, 10]}  \\texttt{[low, low]}       Grid  \\texttt{[10, 10]}   \n",
       "1  \\texttt{[10, 10]}  \\texttt{[low, low]}       Grid  \\texttt{[10, 10]}   \n",
       "\n",
       "                F test       opt       obj        gap  time opt  time train  \\\n",
       "0  \\texttt{[low, low]}  6.336778  2.990904 -52.800872  0.855222    2.051633   \n",
       "1  \\texttt{[low, low]}  6.336778  8.088388  27.641952  0.855222    2.047788   \n",
       "\n",
       "   time test  \n",
       "0   0.000742  \n",
       "1   0.000587  "
      ]
     },
     "execution_count": 97,
     "metadata": {},
     "output_type": "execute_result"
    }
   ],
   "source": [
    "results = experiments.drop(columns=['gen_train', 'gen_test', 'model'])\n",
    "\n",
    "# convert lists of strings like ['low', 'low'] into actual string '[low, low]'\n",
    "for i, row in results.iterrows():\n",
    "    for col in ['n_train', 'F_train', 'n_test', 'F_test']:\n",
    "        results.loc[i, col] = r'\\texttt{[' + ', '.join(str(i) for i in row[col]) + r']}'\n",
    "\n",
    "# general precaution: replace underscores with spaces to avoid latex errors\n",
    "results.columns = results.columns.str.replace('_', ' ')\n",
    "\n",
    "results"
   ]
  },
  {
   "cell_type": "code",
   "execution_count": null,
   "id": "e794f5dd",
   "metadata": {},
   "outputs": [
    {
     "data": {
      "text/html": [
       "<div>\n",
       "<style scoped>\n",
       "    .dataframe tbody tr th:only-of-type {\n",
       "        vertical-align: middle;\n",
       "    }\n",
       "\n",
       "    .dataframe tbody tr th {\n",
       "        vertical-align: top;\n",
       "    }\n",
       "\n",
       "    .dataframe thead tr th {\n",
       "        text-align: left;\n",
       "    }\n",
       "\n",
       "    .dataframe thead tr:last-of-type th {\n",
       "        text-align: right;\n",
       "    }\n",
       "</style>\n",
       "<table border=\"1\" class=\"dataframe\">\n",
       "  <thead>\n",
       "    <tr>\n",
       "      <th></th>\n",
       "      <th></th>\n",
       "      <th>gap</th>\n",
       "      <th>obj</th>\n",
       "      <th>opt</th>\n",
       "      <th>time opt</th>\n",
       "      <th>time test</th>\n",
       "      <th>time train</th>\n",
       "    </tr>\n",
       "    <tr>\n",
       "      <th></th>\n",
       "      <th>model spec</th>\n",
       "      <th>Grid</th>\n",
       "      <th>Grid</th>\n",
       "      <th>Grid</th>\n",
       "      <th>Grid</th>\n",
       "      <th>Grid</th>\n",
       "      <th>Grid</th>\n",
       "    </tr>\n",
       "    <tr>\n",
       "      <th>n train</th>\n",
       "      <th>F train</th>\n",
       "      <th></th>\n",
       "      <th></th>\n",
       "      <th></th>\n",
       "      <th></th>\n",
       "      <th></th>\n",
       "      <th></th>\n",
       "    </tr>\n",
       "  </thead>\n",
       "  <tbody>\n",
       "    <tr>\n",
       "      <th>\\texttt{[10, 10]}</th>\n",
       "      <th>\\texttt{[low, low]}</th>\n",
       "      <td>-12.57946</td>\n",
       "      <td>5.539646</td>\n",
       "      <td>6.336778</td>\n",
       "      <td>0.855222</td>\n",
       "      <td>0.000664</td>\n",
       "      <td>2.049711</td>\n",
       "    </tr>\n",
       "  </tbody>\n",
       "</table>\n",
       "</div>"
      ],
      "text/plain": [
       "                                            gap       obj       opt  time opt  \\\n",
       "model spec                                 Grid      Grid      Grid      Grid   \n",
       "n train           F train                                                       \n",
       "\\texttt{[10, 10]} \\texttt{[low, low]} -12.57946  5.539646  6.336778  0.855222   \n",
       "\n",
       "                                      time test time train  \n",
       "model spec                                 Grid       Grid  \n",
       "n train           F train                                   \n",
       "\\texttt{[10, 10]} \\texttt{[low, low]}  0.000664   2.049711  "
      ]
     },
     "execution_count": 98,
     "metadata": {},
     "output_type": "execute_result"
    }
   ],
   "source": [
    "# pivot\n",
    "results = results.pivot_table(\n",
    "    index=['n train', 'F train'],   # rows\n",
    "    columns='model spec',           # columns\n",
    "    values=['opt', 'time opt', 'obj', 'gap', 'time train', 'time test']  # metrics per method\n",
    ")\n",
    "results"
   ]
  },
  {
   "cell_type": "code",
   "execution_count": null,
   "id": "58cf4fbe",
   "metadata": {},
   "outputs": [
    {
     "data": {
      "text/html": [
       "<div>\n",
       "<style scoped>\n",
       "    .dataframe tbody tr th:only-of-type {\n",
       "        vertical-align: middle;\n",
       "    }\n",
       "\n",
       "    .dataframe tbody tr th {\n",
       "        vertical-align: top;\n",
       "    }\n",
       "\n",
       "    .dataframe thead tr th {\n",
       "        text-align: left;\n",
       "    }\n",
       "\n",
       "    .dataframe thead tr:last-of-type th {\n",
       "        text-align: right;\n",
       "    }\n",
       "</style>\n",
       "<table border=\"1\" class=\"dataframe\">\n",
       "  <thead>\n",
       "    <tr>\n",
       "      <th></th>\n",
       "      <th>model spec</th>\n",
       "      <th colspan=\"6\" halign=\"left\">Grid</th>\n",
       "    </tr>\n",
       "    <tr>\n",
       "      <th></th>\n",
       "      <th></th>\n",
       "      <th>gap</th>\n",
       "      <th>obj</th>\n",
       "      <th>opt</th>\n",
       "      <th>time opt</th>\n",
       "      <th>time test</th>\n",
       "      <th>time train</th>\n",
       "    </tr>\n",
       "    <tr>\n",
       "      <th>n train</th>\n",
       "      <th>F train</th>\n",
       "      <th></th>\n",
       "      <th></th>\n",
       "      <th></th>\n",
       "      <th></th>\n",
       "      <th></th>\n",
       "      <th></th>\n",
       "    </tr>\n",
       "  </thead>\n",
       "  <tbody>\n",
       "    <tr>\n",
       "      <th>\\texttt{[10, 10]}</th>\n",
       "      <th>\\texttt{[low, low]}</th>\n",
       "      <td>-12.57946</td>\n",
       "      <td>5.539646</td>\n",
       "      <td>6.336778</td>\n",
       "      <td>0.855222</td>\n",
       "      <td>0.000664</td>\n",
       "      <td>2.049711</td>\n",
       "    </tr>\n",
       "  </tbody>\n",
       "</table>\n",
       "</div>"
      ],
      "text/plain": [
       "model spec                                 Grid                                \\\n",
       "                                            gap       obj       opt  time opt   \n",
       "n train           F train                                                       \n",
       "\\texttt{[10, 10]} \\texttt{[low, low]} -12.57946  5.539646  6.336778  0.855222   \n",
       "\n",
       "model spec                                                  \n",
       "                                      time test time train  \n",
       "n train           F train                                   \n",
       "\\texttt{[10, 10]} \\texttt{[low, low]}  0.000664   2.049711  "
      ]
     },
     "execution_count": 99,
     "metadata": {},
     "output_type": "execute_result"
    }
   ],
   "source": [
    "# swap levels of MultiIndex\n",
    "results.columns = results.columns.swaplevel(0, 1)\n",
    "# sort columns by model first\n",
    "results = results.sort_index(axis=1, level=0)\n",
    "results"
   ]
  },
  {
   "cell_type": "code",
   "execution_count": null,
   "id": "6bac44ca",
   "metadata": {},
   "outputs": [],
   "source": [
    "# collapse the 'opt' and 'time opt' columns into new top-level column\n",
    "# (because these are guaranteed to be the same for every method, by construction; and caching)\n",
    "top_cols_to_collapse = results.columns.get_level_values(0).unique()\n",
    "sub_cols_to_collapse = ['opt', 'time opt']\n",
    "\n",
    "# take first column per second-level (safe because values are equal)\n",
    "collapsed = results[top_cols_to_collapse].T.groupby(level=1).first().T\n",
    "collapsed = collapsed[sub_cols_to_collapse]\n",
    "\n",
    "# assign a new top-level name\n",
    "collapsed.columns = pd.MultiIndex.from_product([[\"MILP\"], collapsed.columns])\n",
    "\n",
    "# drop original columns and concatenate new column back to the original df\n",
    "results = pd.concat([results.drop(columns=sub_cols_to_collapse, level=1), collapsed], axis=1)"
   ]
  },
  {
   "cell_type": "code",
   "execution_count": null,
   "id": "433893e7",
   "metadata": {},
   "outputs": [
    {
     "data": {
      "text/html": [
       "<div>\n",
       "<style scoped>\n",
       "    .dataframe tbody tr th:only-of-type {\n",
       "        vertical-align: middle;\n",
       "    }\n",
       "\n",
       "    .dataframe tbody tr th {\n",
       "        vertical-align: top;\n",
       "    }\n",
       "\n",
       "    .dataframe thead tr th {\n",
       "        text-align: left;\n",
       "    }\n",
       "\n",
       "    .dataframe thead tr:last-of-type th {\n",
       "        text-align: right;\n",
       "    }\n",
       "</style>\n",
       "<table border=\"1\" class=\"dataframe\">\n",
       "  <thead>\n",
       "    <tr>\n",
       "      <th></th>\n",
       "      <th>model</th>\n",
       "      <th colspan=\"2\" halign=\"left\">MILP</th>\n",
       "      <th colspan=\"4\" halign=\"left\">Grid</th>\n",
       "    </tr>\n",
       "    <tr>\n",
       "      <th></th>\n",
       "      <th>measurement</th>\n",
       "      <th>opt</th>\n",
       "      <th>time opt</th>\n",
       "      <th>obj</th>\n",
       "      <th>gap</th>\n",
       "      <th>time train</th>\n",
       "      <th>time test</th>\n",
       "    </tr>\n",
       "    <tr>\n",
       "      <th>n train</th>\n",
       "      <th>F train</th>\n",
       "      <th></th>\n",
       "      <th></th>\n",
       "      <th></th>\n",
       "      <th></th>\n",
       "      <th></th>\n",
       "      <th></th>\n",
       "    </tr>\n",
       "  </thead>\n",
       "  <tbody>\n",
       "    <tr>\n",
       "      <th>\\texttt{[10, 10]}</th>\n",
       "      <th>\\texttt{[low, low]}</th>\n",
       "      <td>6.336778</td>\n",
       "      <td>0.855222</td>\n",
       "      <td>5.539646</td>\n",
       "      <td>-12.57946</td>\n",
       "      <td>2.049711</td>\n",
       "      <td>0.000664</td>\n",
       "    </tr>\n",
       "  </tbody>\n",
       "</table>\n",
       "</div>"
      ],
      "text/plain": [
       "model                                      MILP                Grid            \\\n",
       "measurement                                 opt  time opt       obj       gap   \n",
       "n train           F train                                                       \n",
       "\\texttt{[10, 10]} \\texttt{[low, low]}  6.336778  0.855222  5.539646 -12.57946   \n",
       "\n",
       "model                                                       \n",
       "measurement                           time train time test  \n",
       "n train           F train                                   \n",
       "\\texttt{[10, 10]} \\texttt{[low, low]}   2.049711  0.000664  "
      ]
     },
     "execution_count": 101,
     "metadata": {},
     "output_type": "execute_result"
    }
   ],
   "source": [
    "# get current top-level names\n",
    "top_levels = results.columns.get_level_values(0).unique()\n",
    "# put MILP column first\n",
    "new_order = [\"MILP\"] + [col for col in top_levels if col != \"MILP\"]\n",
    "results = results.reindex(columns=new_order, level=0)\n",
    "\n",
    "# order sub-level names\n",
    "sub_level_order = ['obj', 'gap', 'time train', 'time test', 'opt', 'time opt']\n",
    "results = results.reindex(columns=sub_level_order, level=1)\n",
    "\n",
    "# rename the top and bottom level\n",
    "results.columns.names = [\"model\", \"measurement\"]\n",
    "\n",
    "results"
   ]
  },
  {
   "cell_type": "code",
   "execution_count": null,
   "id": "5e448a6f",
   "metadata": {},
   "outputs": [],
   "source": [
    "# further index and column renaming to taste\n",
    "results.rename(columns={\n",
    "    'time opt':  r'$T$',\n",
    "    'time train': r'$T_\\text{train}$',\n",
    "    'time test':  r'$T_\\text{eval}$',\n",
    "    'n train': r'$n_r$',\n",
    "    'F train': r'$F_\\text{train}',\n",
    "}, inplace=True)\n",
    "results.index.rename([r'$n_r$', r'$F_\\text{train}$'], inplace=True)"
   ]
  },
  {
   "cell_type": "code",
   "execution_count": null,
   "id": "b5b3b9be",
   "metadata": {},
   "outputs": [],
   "source": [
    "# convert to gaps strings\n",
    "cols_x = results.columns.get_level_values(1) == 'gap'\n",
    "results = results.astype({ col: str for col in results.columns[cols_x] })\n",
    "\n",
    "def bold_min_sublevel(row):\n",
    "    new_row = row.copy()\n",
    "    cols_x = row.index.get_level_values(1) == 'gap'\n",
    "    # find min among these columns\n",
    "    min_val = row[cols_x].astype(float).min()\n",
    "    # apply bold only to min in that sublevel\n",
    "    new_row[cols_x] = [f\"\\\\textbf{{{float(v):.2f}}}\\\\%\" if float(v)==min_val else f\"{float(v):.2f}\\\\%\" \n",
    "                       for v in row[cols_x]]\n",
    "    return new_row\n",
    "\n",
    "# hightlight min gap, in each row\n",
    "results = results.apply(bold_min_sublevel, axis=1)"
   ]
  },
  {
   "cell_type": "code",
   "execution_count": null,
   "id": "c4ada138",
   "metadata": {},
   "outputs": [
    {
     "name": "stdout",
     "output_type": "stream",
     "text": [
      "\\begin{table}\n",
      "\\caption{Performance Table}\n",
      "\\begin{tabular}{cc|cc|cccc|cccc}\n",
      "\\toprule\n",
      " & model & \\multicolumn{2}{c}{MILP} & \\multicolumn{4}{c}{Grid} \\\\\n",
      " & measurement & opt & $T$ & obj & gap & $T_\\text{train}$ & $T_\\text{eval}$ \\\\\n",
      "$n_r$ & $F_\\text{train}$ &  &  &  &  &  &  \\\\\n",
      "\\midrule\n",
      "\\texttt{[10, 10]} & \\texttt{[low, low]} & 6.34 & (1s) & 5.54 & \\textbf{-12.58}\\% & (2s) & (0s) \\\\\n",
      "\\cline{1-8}\n",
      "\\bottomrule\n",
      "\\end{tabular}\n",
      "\\end{table}\n",
      "\n"
     ]
    }
   ],
   "source": [
    "from single.util import format_duration\n",
    "\n",
    "# 2-leveled columns, so apply formatting at every columns,\n",
    "# e.g. (PPO1, gap), (PPO2, gap), separately\n",
    "time_cols = [r'$T$', r'$T_\\text{train}$', r'$T_\\text{eval}$']\n",
    "time_cols = results.columns[results.columns.isin(time_cols, 1)]\n",
    "formatters = { col: format_duration for col in time_cols }\n",
    "\n",
    "# latex \\begin{table}{...} format\n",
    "column_format = 'cc|cc|cccc|cccc'\n",
    "latex_table = results.to_latex(multirow=True, column_format=column_format, multicolumn_format='c',\n",
    "                               escape=False, float_format=\"%.2f\", formatters=formatters,\n",
    "                               caption=\"Performance Table\")\n",
    "print(latex_table)"
   ]
  },
  {
   "cell_type": "code",
   "execution_count": null,
   "id": "d1904e9b",
   "metadata": {},
   "outputs": [
    {
     "name": "stdout",
     "output_type": "stream",
     "text": [
      "Running \u001b[0m\u001b[1mTeX\u001b[0m ...\n",
      "\u001b[0m\u001b[1m\u001b[33mwarning:\u001b[0m results.preview.tex:20: Underfull \\hbox (badness 10000) in paragraph at lines 19--20\n",
      "Rerunning \u001b[0m\u001b[1mTeX\u001b[0m because \"results.preview.aux\" changed ...\n",
      "\u001b[0m\u001b[1m\u001b[33mwarning:\u001b[0m results.preview.tex:20: Underfull \\hbox (badness 10000) in paragraph at lines 19--20\n",
      "\u001b[0m\u001b[1m\u001b[33mwarning:\u001b[0m warnings were issued by the TeX engine; use --print and/or --keep-logs for details.\n",
      "Running \u001b[0m\u001b[1mxdvipdfmx\u001b[0m ...\n",
      "Writing \u001b[0m\u001b[1m`results.preview.pdf`\u001b[0m (16.83 KiB)\n",
      "Skipped writing \u001b[0m\u001b[1m1\u001b[0m intermediate files (use --keep-intermediates to keep them)\n"
     ]
    }
   ],
   "source": [
    "import re\n",
    "\n",
    "# some further automated formatting (just search/replace)\n",
    "# 1. remove all \\cline\n",
    "latex_table = re.sub(r'\\\\cline\\{.*?\\}\\s*\\n?', '', latex_table)\n",
    "# 2. remove \\toprule\n",
    "latex_table = re.sub(r'\\\\toprule\\s*\\n?', '', latex_table)\n",
    "# 3. replace \\bottomrule with \\midrule\n",
    "latex_table = re.sub(r'\\\\bottomrule\\s*\\n?', '\\\\\\\\midrule\\n', latex_table)\n",
    "# 4. TODO: extract tabular\n",
    "# latex_table = re.sub()\n",
    "match = re.search(r\"\\\\begin\\{tabular.*?\\\\end\\{tabular\\}\", latex_table, re.DOTALL)\n",
    "latex_table = match.group(0)\n",
    "\n",
    "# write complete latex template for preview\n",
    "# (with timestamp)\n",
    "from datetime import datetime\n",
    "now = datetime.now().strftime(\"%Y-%m-%d %H:%M:%S\")\n",
    "date_line = f\"\\\\noindent\\\\textit{{Compiled on: {now}}}\\\\\\\\\\n\"\n",
    "latex = f\"\"\"\n",
    "\\\\documentclass{{article}}\n",
    "\\\\usepackage{{booktabs}}\n",
    "\\\\usepackage{{multirow}}\n",
    "\\\\usepackage{{siunitx}}\n",
    "\\\\usepackage[skip=10pt]{{caption}}\n",
    "\\\\usepackage[margin=1cm]{{geometry}}\n",
    "\\\\begin{{document}}\n",
    "\\\\begin{{table}}\n",
    "{latex_table}\n",
    "\\\\end{{table}}\n",
    "{date_line}\n",
    "\\\\end{{document}}\"\"\"\n",
    "\n",
    "file_prefix = 'results'\n",
    "\n",
    "with open(file_prefix + '.preview.tex', 'w') as f:\n",
    "    f.write(latex)\n",
    "!tectonic {file_prefix + '.preview.tex'}"
   ]
  },
  {
   "cell_type": "code",
   "execution_count": null,
   "id": "23f97d83",
   "metadata": {},
   "outputs": [],
   "source": [
    "# write only table, for direct use in report\n",
    "with open(file_prefix + '.tex', 'w') as f:\n",
    "    f.write(latex_table)"
   ]
  },
  {
   "cell_type": "markdown",
   "id": "56352a6c",
   "metadata": {},
   "source": [
    "## Additional loss plots and training curves"
   ]
  },
  {
   "cell_type": "code",
   "execution_count": null,
   "id": "e63c2f96",
   "metadata": {},
   "outputs": [
    {
     "ename": "LoadMonitorResultsError",
     "evalue": "No monitor files of the form *monitor.csv found in logs/",
     "output_type": "error",
     "traceback": [
      "\u001b[0;31m---------------------------------------------------------------------------\u001b[0m",
      "\u001b[0;31mLoadMonitorResultsError\u001b[0m                   Traceback (most recent call last)",
      "Cell \u001b[0;32mIn[107], line 3\u001b[0m\n\u001b[1;32m      1\u001b[0m \u001b[38;5;28;01mfrom\u001b[39;00m \u001b[38;5;21;01mstable_baselines3\u001b[39;00m\u001b[38;5;21;01m.\u001b[39;00m\u001b[38;5;21;01mcommon\u001b[39;00m\u001b[38;5;21;01m.\u001b[39;00m\u001b[38;5;21;01mresults_plotter\u001b[39;00m \u001b[38;5;28;01mimport\u001b[39;00m load_results\n\u001b[0;32m----> 3\u001b[0m df \u001b[38;5;241m=\u001b[39m \u001b[43mload_results\u001b[49m\u001b[43m(\u001b[49m\u001b[38;5;124;43m\"\u001b[39;49m\u001b[38;5;124;43mlogs/\u001b[39;49m\u001b[38;5;124;43m\"\u001b[39;49m\u001b[43m)\u001b[49m\n\u001b[1;32m      4\u001b[0m \u001b[38;5;28mprint\u001b[39m(df\u001b[38;5;241m.\u001b[39mhead())\n\u001b[1;32m      5\u001b[0m \u001b[38;5;28;01mimport\u001b[39;00m \u001b[38;5;21;01mmatplotlib\u001b[39;00m\u001b[38;5;21;01m.\u001b[39;00m\u001b[38;5;21;01mpyplot\u001b[39;00m \u001b[38;5;28;01mas\u001b[39;00m \u001b[38;5;21;01mplt\u001b[39;00m\n",
      "File \u001b[0;32m~/.local/share/miniforge3/envs/traffic/lib/python3.12/site-packages/stable_baselines3/common/monitor.py:239\u001b[0m, in \u001b[0;36mload_results\u001b[0;34m(path)\u001b[0m\n\u001b[1;32m    237\u001b[0m monitor_files \u001b[38;5;241m=\u001b[39m get_monitor_files(path)\n\u001b[1;32m    238\u001b[0m \u001b[38;5;28;01mif\u001b[39;00m \u001b[38;5;28mlen\u001b[39m(monitor_files) \u001b[38;5;241m==\u001b[39m \u001b[38;5;241m0\u001b[39m:\n\u001b[0;32m--> 239\u001b[0m     \u001b[38;5;28;01mraise\u001b[39;00m LoadMonitorResultsError(\u001b[38;5;124mf\u001b[39m\u001b[38;5;124m\"\u001b[39m\u001b[38;5;124mNo monitor files of the form *\u001b[39m\u001b[38;5;132;01m{\u001b[39;00mMonitor\u001b[38;5;241m.\u001b[39mEXT\u001b[38;5;132;01m}\u001b[39;00m\u001b[38;5;124m found in \u001b[39m\u001b[38;5;132;01m{\u001b[39;00mpath\u001b[38;5;132;01m}\u001b[39;00m\u001b[38;5;124m\"\u001b[39m)\n\u001b[1;32m    240\u001b[0m data_frames, headers \u001b[38;5;241m=\u001b[39m [], []\n\u001b[1;32m    241\u001b[0m \u001b[38;5;28;01mfor\u001b[39;00m file_name \u001b[38;5;129;01min\u001b[39;00m monitor_files:\n",
      "\u001b[0;31mLoadMonitorResultsError\u001b[0m: No monitor files of the form *monitor.csv found in logs/"
     ]
    }
   ],
   "source": [
    "from stable_baselines3.common.results_plotter import load_results\n",
    "\n",
    "df = load_results(\"logs/\")\n",
    "print(df.head())\n",
    "import matplotlib.pyplot as plt\n",
    "\n",
    "window = 50\n",
    "df[\"r_smooth\"] = df[\"r\"].rolling(window, min_periods=1).mean()\n",
    "\n",
    "plt.figure(figsize=(8,4))\n",
    "plt.plot(df[\"t\"], df[\"r\"], alpha=0.3, label=\"Episodic reward\")\n",
    "plt.plot(df[\"t\"], df[\"r_smooth\"], linewidth=2, label=f\"Smoothed ({window})\")\n",
    "plt.xlabel(\"Time (s)\")\n",
    "plt.ylabel(\"Episode reward\")\n",
    "plt.legend()\n",
    "plt.grid(True)\n",
    "plt.show()"
   ]
  }
 ],
 "metadata": {
  "kernelspec": {
   "display_name": "traffic",
   "language": "python",
   "name": "python3"
  },
  "language_info": {
   "codemirror_mode": {
    "name": "ipython",
    "version": 3
   },
   "file_extension": ".py",
   "mimetype": "text/x-python",
   "name": "python",
   "nbconvert_exporter": "python",
   "pygments_lexer": "ipython3",
   "version": "3.12.3"
  }
 },
 "nbformat": 4,
 "nbformat_minor": 5
}
