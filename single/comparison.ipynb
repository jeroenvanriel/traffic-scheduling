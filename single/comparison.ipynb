{
 "cells": [
  {
   "cell_type": "code",
   "execution_count": 10,
   "id": "a047b0bf-971c-4584-9af0-b0cf3f87de8e",
   "metadata": {},
   "outputs": [
    {
     "name": "stdout",
     "output_type": "stream",
     "text": [
      "/home/jeroen/repos/traffic-scheduling/single\n"
     ]
    }
   ],
   "source": [
    "import pandas as pd\n",
    "import numpy as np\n",
    "rng = np.random.default_rng()\n",
    "from tqdm.notebook import tqdm\n",
    "tqdm.pandas()\n",
    "import math\n",
    "import time\n",
    "import matplotlib.pyplot as plt\n",
    "%cd /home/jeroen/repos/traffic-scheduling/single\n",
    "from automaton import Automaton, evaluate\n",
    "from exact import solve"
   ]
  },
  {
   "cell_type": "markdown",
   "id": "5d526386-df79-4227-b43b-2a845bf9d0f1",
   "metadata": {},
   "source": [
    "# Comparative analysis of computational efficiency"
   ]
  },
  {
   "cell_type": "markdown",
   "id": "4152cfe2-65de-4792-b599-3e649a44fa0d",
   "metadata": {},
   "source": [
    "First, we analyze the efficiency of the branch-and-cut approach by measuring the average running time over different problem distributions. In particular, we are interested in which type of cutting planes provide the greatest average speed up. Second, we analyze the performance of the various heuristics based on their average optimality gap over some classes of problem instances."
   ]
  },
  {
   "cell_type": "markdown",
   "id": "b16180c5-b38e-425e-a3a8-c97b19fdd490",
   "metadata": {
    "jp-MarkdownHeadingCollapsed": true
   },
   "source": [
    "## Instance generation functions"
   ]
  },
  {
   "cell_type": "code",
   "execution_count": 2,
   "id": "737aeb78-1e90-4c88-8a69-a57be59b5a44",
   "metadata": {},
   "outputs": [],
   "source": [
    "rho = 4\n",
    "sigma = 1"
   ]
  },
  {
   "cell_type": "markdown",
   "id": "431b0a77-0ef0-4e40-96a0-6261570f41b1",
   "metadata": {},
   "source": [
    "There are several ways to characterize the distribution of problem instances, for example\n",
    "- number of routes,\n",
    "- number of arrivals per route,\n",
    "- arrival intensity per route,\n",
    "- symmetric or assymtric arrival intensities,\n",
    "- degree of platooning."
   ]
  },
  {
   "cell_type": "markdown",
   "id": "dd985417-3106-45cf-b2b8-252f7f0b0ca1",
   "metadata": {},
   "source": [
    "A simple way of modeling the natural occurence of platoons in the arrival process is by using a bimodal distribution $F$ for the interarrival times. We will use a mixture of two exponential random variables with different means, representing the small gaps between vehicles in the same platoon and the large gaps between vehicles of different platoons."
   ]
  },
  {
   "cell_type": "code",
   "execution_count": 3,
   "id": "021b2391-2c88-4691-bf56-89af166ba293",
   "metadata": {},
   "outputs": [],
   "source": [
    "def bimodal_exponential(p=0.3, s1=1, s2=10):\n",
    "    def generate(n):\n",
    "        ps = rng.binomial(1, p, size=(n))\n",
    "        return ps * rng.exponential(scale=s1, size=(n)) + (1-ps) * rng.exponential(scale=s2, size=(n))\n",
    "    return generate"
   ]
  },
  {
   "cell_type": "markdown",
   "id": "b9258703-b40a-44ed-b2e4-6c58dbedb16a",
   "metadata": {},
   "source": [
    "Introduce some helper functions to generate instances."
   ]
  },
  {
   "cell_type": "code",
   "execution_count": 4,
   "id": "008cf8e0-df4e-4415-9af8-dea482eac8a5",
   "metadata": {},
   "outputs": [],
   "source": [
    "def empty_instance():\n",
    "    return { 'switch': sigma, 'release': [], 'length': [] }\n",
    "\n",
    "def add_route(instance, releases, lengths):\n",
    "    instance['release'].append(releases)\n",
    "    instance['length'].append(lengths)\n",
    "\n",
    "def cumulate(gaps):\n",
    "    \"\"\"Compute $A_n = A_{n-1} + X_n + \\rho$ for all n, where X_n is given by `gaps`.\"\"\"\n",
    "    lengths = np.repeat(rho, len(gaps))\n",
    "    shifted = np.roll(lengths, 1); shifted[0] = 0\n",
    "    releases = np.cumsum(gaps + shifted)\n",
    "    return releases, lengths"
   ]
  },
  {
   "cell_type": "markdown",
   "id": "5cb5dbde-ad50-41ce-b29b-0b063037aca6",
   "metadata": {},
   "source": [
    "We start with simple symmetric instances, where each route has the same interarrival time distribution."
   ]
  },
  {
   "cell_type": "code",
   "execution_count": 5,
   "id": "e3bdc99e-4ba8-4227-a498-7be10972448b",
   "metadata": {},
   "outputs": [],
   "source": [
    "def generate_symmetric_instance(F, n_vehicles, n_routes=2):\n",
    "    \"\"\"F is a function to generate interarrival times.\"\"\"\n",
    "    instance = empty_instance()\n",
    "    for _ in range(n_routes):\n",
    "        gaps = F(n_vehicles)\n",
    "        add_route(instance, *cumulate(gaps))\n",
    "    return instance"
   ]
  },
  {
   "cell_type": "markdown",
   "id": "c87a49bd-d691-45e2-b50a-5d024ee34859",
   "metadata": {},
   "source": [
    "Define some helper methods to compute the normalized objective (delay) for comparison across different instance sizes."
   ]
  },
  {
   "cell_type": "code",
   "execution_count": 6,
   "id": "5651f70b-8ea6-4349-b3bf-f666cac8f2fc",
   "metadata": {},
   "outputs": [],
   "source": [
    "def instance_size(instance):\n",
    "    return sum(len(rs) for rs in instance['release'])"
   ]
  },
  {
   "cell_type": "code",
   "execution_count": 7,
   "id": "c71df5fd-b07f-4fd9-a9ef-58770875222b",
   "metadata": {},
   "outputs": [],
   "source": [
    "def average_release(test):\n",
    "    total = 0\n",
    "    for instance in test['instance']:\n",
    "        total += np.sum(instance['release'])\n",
    "    return total / len(test['instance'])"
   ]
  },
  {
   "cell_type": "markdown",
   "id": "11303f2c-66ba-40cc-914e-6ca19a38cce7",
   "metadata": {
    "jp-MarkdownHeadingCollapsed": true
   },
   "source": [
    "## Measure branch-and-cut running time"
   ]
  },
  {
   "cell_type": "markdown",
   "id": "7440de5b-27fe-4a92-8110-a352f4e56b57",
   "metadata": {},
   "source": [
    "We measure the average running time of the MILP-solver for different selections of cutting planes. To prevent running times blowing up, we use a fixed time-out for each instance. For this analysis, we do not keep track of the optimal schedule for comparison, we will do that somewhere else, with a larger time-out."
   ]
  },
  {
   "cell_type": "code",
   "execution_count": 11,
   "id": "8387c73f-fa8d-4443-bba5-2054ca5cf1e2",
   "metadata": {},
   "outputs": [],
   "source": [
    "from itertools import combinations\n",
    "from math import isclose\n",
    "\n",
    "def measure_exact(instances, cuts=None, timelimit=20, with_done=True):\n",
    "    data = pd.DataFrame(zip(instances), columns=['instance'])\n",
    "    \n",
    "    def solve_instance(row, cuts):\n",
    "        start = time.time()\n",
    "        res = solve(row['instance'], timelimit=timelimit, cutting_planes=cuts)\n",
    "        return time.time() - start, res['done'], res['obj']\n",
    "\n",
    "    cid = lambda cuts: ''.join(str(c) for c in cuts)\n",
    "    for c in cuts:\n",
    "        data[[f'running_time_{cid(c)}', f'done_{cid(c)}', f'obj_{cid(c)}']] = \\\n",
    "            data.progress_apply(lambda x: solve_instance(x, c), axis=1, result_type='expand')\n",
    "\n",
    "    # little test to verify cutting planes: check if pairwise objectives match\n",
    "    # for c1, c2 in combinations(cuts, 2):\n",
    "    #     data['matching'] = data.apply(lambda x: isclose(x[f'obj_{cid(c1)}'], x[f'obj_{cid(c2)}'], abs_tol=1e-02), axis=1)\n",
    "    #     assert data['matching'].all()\n",
    "    \n",
    "    data = data.drop(['instance', 'matching'], axis=1, errors='ignore')\n",
    "    data = data.drop([f'obj_{cid(c)}' for c in cuts], axis=1)\n",
    "    if not with_done:\n",
    "        data = data.drop([f'done_{cid(c)}' for c in cuts], axis=1)\n",
    "    return data"
   ]
  },
  {
   "cell_type": "code",
   "execution_count": 43,
   "id": "b551b133-587c-4bdc-a8f5-3e34fd43749e",
   "metadata": {},
   "outputs": [
    {
     "name": "stdout",
     "output_type": "stream",
     "text": [
      "runtime upper bound: 1:20:00\n"
     ]
    }
   ],
   "source": [
    "timelimit = 20\n",
    "\n",
    "F = bimodal_exponential(p=0.5, s1=0.1, s2=10)\n",
    "ns = [5, 10, 15, 20, 25, 30, 35, 40]\n",
    "cuts = [[1], [2], [3]]\n",
    "N = 10\n",
    "\n",
    "from datetime import datetime, timedelta\n",
    "bound = timedelta(seconds=len(ns) * len(cuts) * N * timelimit)\n",
    "print(f\"runtime upper bound: {bound}\")"
   ]
  },
  {
   "cell_type": "markdown",
   "id": "b9ff9841-a42a-4163-8ceb-d9840002a727",
   "metadata": {},
   "source": [
    "Note that running times might become \"censored\" due to the use of a time limit. We need to deal with this in the generation of the plots."
   ]
  },
  {
   "cell_type": "code",
   "execution_count": 44,
   "id": "4813752f-d441-4276-b1c2-620e1774cae3",
   "metadata": {},
   "outputs": [
    {
     "name": "stdout",
     "output_type": "stream",
     "text": [
      "started: 13:51:56\n",
      "done before: 15:11:56\n",
      "5\n"
     ]
    },
    {
     "data": {
      "application/vnd.jupyter.widget-view+json": {
       "model_id": "bc2e08ccef53473d92e8aea544a08d35",
       "version_major": 2,
       "version_minor": 0
      },
      "text/plain": [
       "  0%|          | 0/10 [00:00<?, ?it/s]"
      ]
     },
     "metadata": {},
     "output_type": "display_data"
    },
    {
     "data": {
      "application/vnd.jupyter.widget-view+json": {
       "model_id": "bb41ff0a5b184749a2d0794501534cb8",
       "version_major": 2,
       "version_minor": 0
      },
      "text/plain": [
       "  0%|          | 0/10 [00:00<?, ?it/s]"
      ]
     },
     "metadata": {},
     "output_type": "display_data"
    },
    {
     "data": {
      "application/vnd.jupyter.widget-view+json": {
       "model_id": "a09d3685fa8b401aaec52b005c77f75b",
       "version_major": 2,
       "version_minor": 0
      },
      "text/plain": [
       "  0%|          | 0/10 [00:00<?, ?it/s]"
      ]
     },
     "metadata": {},
     "output_type": "display_data"
    },
    {
     "name": "stdout",
     "output_type": "stream",
     "text": [
      "10\n"
     ]
    },
    {
     "data": {
      "application/vnd.jupyter.widget-view+json": {
       "model_id": "4fc584a154294402b41569de0281910e",
       "version_major": 2,
       "version_minor": 0
      },
      "text/plain": [
       "  0%|          | 0/10 [00:00<?, ?it/s]"
      ]
     },
     "metadata": {},
     "output_type": "display_data"
    },
    {
     "data": {
      "application/vnd.jupyter.widget-view+json": {
       "model_id": "dba9e2f33ba044518cbaacc6dc77c9b7",
       "version_major": 2,
       "version_minor": 0
      },
      "text/plain": [
       "  0%|          | 0/10 [00:00<?, ?it/s]"
      ]
     },
     "metadata": {},
     "output_type": "display_data"
    },
    {
     "data": {
      "application/vnd.jupyter.widget-view+json": {
       "model_id": "19877a8fa30e48f1ac0a4487695bf99c",
       "version_major": 2,
       "version_minor": 0
      },
      "text/plain": [
       "  0%|          | 0/10 [00:00<?, ?it/s]"
      ]
     },
     "metadata": {},
     "output_type": "display_data"
    },
    {
     "name": "stdout",
     "output_type": "stream",
     "text": [
      "15\n"
     ]
    },
    {
     "data": {
      "application/vnd.jupyter.widget-view+json": {
       "model_id": "b6f0af2c92074f8fb609ec5ac2af7e81",
       "version_major": 2,
       "version_minor": 0
      },
      "text/plain": [
       "  0%|          | 0/10 [00:00<?, ?it/s]"
      ]
     },
     "metadata": {},
     "output_type": "display_data"
    },
    {
     "data": {
      "application/vnd.jupyter.widget-view+json": {
       "model_id": "1310ee7df5fc49359278847dc9b51fa8",
       "version_major": 2,
       "version_minor": 0
      },
      "text/plain": [
       "  0%|          | 0/10 [00:00<?, ?it/s]"
      ]
     },
     "metadata": {},
     "output_type": "display_data"
    },
    {
     "data": {
      "application/vnd.jupyter.widget-view+json": {
       "model_id": "87a3b7b03af94d25a4d4879072f4b422",
       "version_major": 2,
       "version_minor": 0
      },
      "text/plain": [
       "  0%|          | 0/10 [00:00<?, ?it/s]"
      ]
     },
     "metadata": {},
     "output_type": "display_data"
    },
    {
     "name": "stdout",
     "output_type": "stream",
     "text": [
      "20\n"
     ]
    },
    {
     "data": {
      "application/vnd.jupyter.widget-view+json": {
       "model_id": "c5f41e22a3fc4342b73b203b5f1678ab",
       "version_major": 2,
       "version_minor": 0
      },
      "text/plain": [
       "  0%|          | 0/10 [00:00<?, ?it/s]"
      ]
     },
     "metadata": {},
     "output_type": "display_data"
    },
    {
     "data": {
      "application/vnd.jupyter.widget-view+json": {
       "model_id": "7beb903170db49538bb38d11c08c7930",
       "version_major": 2,
       "version_minor": 0
      },
      "text/plain": [
       "  0%|          | 0/10 [00:00<?, ?it/s]"
      ]
     },
     "metadata": {},
     "output_type": "display_data"
    },
    {
     "data": {
      "application/vnd.jupyter.widget-view+json": {
       "model_id": "380d22180ac8465a9f6d3f00dd4fa844",
       "version_major": 2,
       "version_minor": 0
      },
      "text/plain": [
       "  0%|          | 0/10 [00:00<?, ?it/s]"
      ]
     },
     "metadata": {},
     "output_type": "display_data"
    },
    {
     "name": "stdout",
     "output_type": "stream",
     "text": [
      "25\n"
     ]
    },
    {
     "data": {
      "application/vnd.jupyter.widget-view+json": {
       "model_id": "acfa7de162e24f70ad6ce8220b4c67b1",
       "version_major": 2,
       "version_minor": 0
      },
      "text/plain": [
       "  0%|          | 0/10 [00:00<?, ?it/s]"
      ]
     },
     "metadata": {},
     "output_type": "display_data"
    },
    {
     "data": {
      "application/vnd.jupyter.widget-view+json": {
       "model_id": "4faafeb2853947018aa54015a9ede022",
       "version_major": 2,
       "version_minor": 0
      },
      "text/plain": [
       "  0%|          | 0/10 [00:00<?, ?it/s]"
      ]
     },
     "metadata": {},
     "output_type": "display_data"
    },
    {
     "data": {
      "application/vnd.jupyter.widget-view+json": {
       "model_id": "f8c8c75ab3d945589e8a60dbc9e82916",
       "version_major": 2,
       "version_minor": 0
      },
      "text/plain": [
       "  0%|          | 0/10 [00:00<?, ?it/s]"
      ]
     },
     "metadata": {},
     "output_type": "display_data"
    },
    {
     "name": "stdout",
     "output_type": "stream",
     "text": [
      "30\n"
     ]
    },
    {
     "data": {
      "application/vnd.jupyter.widget-view+json": {
       "model_id": "ac92582798c444258ffbea4fc1910702",
       "version_major": 2,
       "version_minor": 0
      },
      "text/plain": [
       "  0%|          | 0/10 [00:00<?, ?it/s]"
      ]
     },
     "metadata": {},
     "output_type": "display_data"
    },
    {
     "data": {
      "application/vnd.jupyter.widget-view+json": {
       "model_id": "d428213e8fd24b6ebb3b07ab6db97ead",
       "version_major": 2,
       "version_minor": 0
      },
      "text/plain": [
       "  0%|          | 0/10 [00:00<?, ?it/s]"
      ]
     },
     "metadata": {},
     "output_type": "display_data"
    },
    {
     "data": {
      "application/vnd.jupyter.widget-view+json": {
       "model_id": "61744432e9dd4442b4e57c14c684defb",
       "version_major": 2,
       "version_minor": 0
      },
      "text/plain": [
       "  0%|          | 0/10 [00:00<?, ?it/s]"
      ]
     },
     "metadata": {},
     "output_type": "display_data"
    },
    {
     "name": "stdout",
     "output_type": "stream",
     "text": [
      "35\n"
     ]
    },
    {
     "data": {
      "application/vnd.jupyter.widget-view+json": {
       "model_id": "46593814fe2a4a6ab585b9072e2ad234",
       "version_major": 2,
       "version_minor": 0
      },
      "text/plain": [
       "  0%|          | 0/10 [00:00<?, ?it/s]"
      ]
     },
     "metadata": {},
     "output_type": "display_data"
    },
    {
     "data": {
      "application/vnd.jupyter.widget-view+json": {
       "model_id": "2e299f4abef04618a6c31bcb3952348c",
       "version_major": 2,
       "version_minor": 0
      },
      "text/plain": [
       "  0%|          | 0/10 [00:00<?, ?it/s]"
      ]
     },
     "metadata": {},
     "output_type": "display_data"
    },
    {
     "data": {
      "application/vnd.jupyter.widget-view+json": {
       "model_id": "bf4493e76dce4f7fb9d8e5dd53e3a420",
       "version_major": 2,
       "version_minor": 0
      },
      "text/plain": [
       "  0%|          | 0/10 [00:00<?, ?it/s]"
      ]
     },
     "metadata": {},
     "output_type": "display_data"
    },
    {
     "name": "stdout",
     "output_type": "stream",
     "text": [
      "40\n"
     ]
    },
    {
     "data": {
      "application/vnd.jupyter.widget-view+json": {
       "model_id": "0cad55203678424096119033b8d5526b",
       "version_major": 2,
       "version_minor": 0
      },
      "text/plain": [
       "  0%|          | 0/10 [00:00<?, ?it/s]"
      ]
     },
     "metadata": {},
     "output_type": "display_data"
    },
    {
     "data": {
      "application/vnd.jupyter.widget-view+json": {
       "model_id": "8c7f7782873c4582826bd66f06a83999",
       "version_major": 2,
       "version_minor": 0
      },
      "text/plain": [
       "  0%|          | 0/10 [00:00<?, ?it/s]"
      ]
     },
     "metadata": {},
     "output_type": "display_data"
    },
    {
     "data": {
      "application/vnd.jupyter.widget-view+json": {
       "model_id": "7e4c058d5667429c9d31066052683dbd",
       "version_major": 2,
       "version_minor": 0
      },
      "text/plain": [
       "  0%|          | 0/10 [00:00<?, ?it/s]"
      ]
     },
     "metadata": {},
     "output_type": "display_data"
    }
   ],
   "source": [
    "started = datetime.now()\n",
    "print(f\"started: {started.strftime('%H:%M:%S')}\")\n",
    "end = started + bound\n",
    "print(f\"done before: {end.strftime('%H:%M:%S')}\")\n",
    "\n",
    "data = []\n",
    "for n in ns:\n",
    "    print(n)\n",
    "    instances = [generate_symmetric_instance(F, n) for _ in range(N)]\n",
    "    rows = measure_exact(instances, cuts=cuts, timelimit=timelimit, with_done=False)\n",
    "    rows['n'] = n\n",
    "    data.append(rows)\n",
    "\n",
    "total = pd.concat(data, ignore_index=True).set_index('n').groupby('n').mean()\n",
    "plt.plot(total)\n",
    "plt.legend(['transitive', 'conjunctive', 'disjunctive'])\n",
    "plt.xlabel('arrivals per route')\n",
    "plt.ylabel('average running time in seconds')\n",
    "plt.savefig(f'../report/data-comparison/running_times.pdf')\n",
    "plt.close()"
   ]
  },
  {
   "cell_type": "markdown",
   "id": "9ea06e4f-b1fa-4989-ad93-4e0b202650da",
   "metadata": {
    "jp-MarkdownHeadingCollapsed": true
   },
   "source": [
    "## Threshold heuristic"
   ]
  },
  {
   "cell_type": "code",
   "execution_count": 8,
   "id": "b388ac61-9721-4d3d-b396-7e772ea0f384",
   "metadata": {},
   "outputs": [],
   "source": [
    "def threshold_heuristic(automaton, tau=0):\n",
    "    # default first lane is 0\n",
    "    l = automaton.last_lane or 0\n",
    "    # last scheduled vehicle\n",
    "    k = automaton.k[l] - 1\n",
    "\n",
    "    # next vehicle exists\n",
    "    if k + 1 < automaton.K[l]:\n",
    "        # earliest crossing time of next vehicle in lane\n",
    "        r = automaton.instance['release'][l][k+1]\n",
    "\n",
    "        if automaton.LB[l][k] + automaton.instance['length'][l][k] + tau >= r:\n",
    "            return l\n",
    "\n",
    "    # next lane with unscheduled vehicles\n",
    "    l = (l + 1) % automaton.N\n",
    "    while automaton.k[l] == automaton.K[l]:\n",
    "        l = (l + 1) % automaton.N\n",
    "    return l"
   ]
  },
  {
   "cell_type": "markdown",
   "id": "bf57b062-e3e9-48c9-bde1-66d3a957247c",
   "metadata": {},
   "source": [
    "We tune the threshold based on a set of training instances and measure the peformance on a test set."
   ]
  },
  {
   "cell_type": "code",
   "execution_count": 21,
   "id": "1f4437ee-2f05-4ba6-91dd-e803675bafdd",
   "metadata": {},
   "outputs": [],
   "source": [
    "taus = np.arange(0.1, 4.1, 0.05)\n",
    "threshold_train_scores = []\n",
    "threshold_train_times = {}\n",
    "\n",
    "def train_threshold(train, set_id):\n",
    "    # evaluate threshold heuristic on every instance to get average objective\n",
    "    train_scores = np.empty((taus.shape[0]))\n",
    "    start = time.time()\n",
    "    for i, tau in enumerate(tqdm(taus, leave=False)):\n",
    "        heuristic = lambda automaton: threshold_heuristic(automaton, tau=tau)\n",
    "        res = train.apply(lambda x: evaluate(x['instance'], heuristic), axis=1)\n",
    "        # store normalized train score\n",
    "        train_scores[i] = (res.mean() - average_release(train)) / instance_size(train['instance'][0])\n",
    "\n",
    "    threshold_train_times[set_id] = time.time() - start\n",
    "    threshold_train_scores.append(train_scores)\n",
    "    return taus[np.argmin(train_scores)]\n",
    "\n",
    "def eval_threshold(train, test, set_id):\n",
    "    tau_opt = train_threshold(train, set_id)\n",
    "    heuristic = lambda automaton: threshold_heuristic(automaton, tau=tau_opt)\n",
    "    return test.apply(lambda x: evaluate(x['instance'], heuristic), axis=1).mean()"
   ]
  },
  {
   "cell_type": "markdown",
   "id": "1ebce844-d624-47f0-b38d-15a917d96366",
   "metadata": {
    "jp-MarkdownHeadingCollapsed": true
   },
   "source": [
    "## Neural heuristic"
   ]
  },
  {
   "cell_type": "code",
   "execution_count": 34,
   "id": "60dcca01-f953-4455-9365-92d91a057c43",
   "metadata": {},
   "outputs": [],
   "source": [
    "import torch\n",
    "import torch.optim as optim\n",
    "from torch.nn.functional import binary_cross_entropy_with_logits\n",
    "from torch.utils.data import TensorDataset, DataLoader"
   ]
  },
  {
   "cell_type": "markdown",
   "id": "590830dc-b645-4bce-8bf2-e4e6da7d5f62",
   "metadata": {},
   "source": [
    "We use the optimal solutions obtained in for the training data set to train the model by imitation learning."
   ]
  },
  {
   "cell_type": "code",
   "execution_count": 44,
   "id": "6bc3e095-52d0-4f4e-9d9d-98385c65f456",
   "metadata": {},
   "outputs": [],
   "source": [
    "neural_losses = []\n",
    "neural_train_times = {}\n",
    "\n",
    "def train_neural(train, model, set_id):\n",
    "    start = time.time()\n",
    "\n",
    "    # extracting (state, next_lane) pairs by replaying optimal lane ordering\n",
    "    states, actions = [], []\n",
    "    for _, row in tqdm(train.iterrows(), total=train.shape[0], leave=False):\n",
    "        instance, eta = row[['instance', 'opt_eta']]\n",
    "        eta = iter(eta)\n",
    "        automaton = Automaton(instance)\n",
    "        while not automaton.done:\n",
    "            lane = next(eta)\n",
    "            state = model.state_transform(automaton)\n",
    "            action = model.inverse_action_transform(automaton, lane)\n",
    "            automaton.step(lane)\n",
    "            states.append(state)\n",
    "            actions.append(action)\n",
    "    \n",
    "    epochs = 10\n",
    "    batch_size = 10\n",
    "    train_set = TensorDataset(torch.vstack(states), torch.vstack(actions))\n",
    "    data_loader = DataLoader(train_set, batch_size=batch_size, shuffle=True)\n",
    "    \n",
    "    learning_rate = 1e-3\n",
    "    optimizer = optim.Adam(model.parameters(), lr=learning_rate)\n",
    "\n",
    "    losses = []\n",
    "    model.train()\n",
    "    for i in range(epochs):\n",
    "        for s, a in tqdm(data_loader, leave=False):\n",
    "            optimizer.zero_grad()\n",
    "            logit = model(s)\n",
    "            loss = binary_cross_entropy_with_logits(logit, a)\n",
    "            loss.backward()\n",
    "            optimizer.step()\n",
    "            losses.append(loss.item())\n",
    "\n",
    "    neural_train_times[set_id] = time.time() - start\n",
    "    neural_losses.append(losses)\n",
    "    return model"
   ]
  },
  {
   "cell_type": "code",
   "execution_count": 40,
   "id": "7fb13a3e-8c17-427b-a05a-bce5f1bb439b",
   "metadata": {},
   "outputs": [],
   "source": [
    "from model import PaddedEmbeddingModel, RecurrentEmbeddingModel\n",
    "\n",
    "def eval_neural(train, test, set_id, Model=RecurrentEmbeddingModel):\n",
    "    lanes = len(train['instance'][0]['release'])\n",
    "    max_veh = len(train['instance'][0]['release'][0])\n",
    "    model = Model(lanes=lanes, max_horizon=max_veh).cuda()\n",
    "    model = train_neural(train, model, set_id)    \n",
    "    model.eval()\n",
    "    trained_heuristic = lambda automaton: \\\n",
    "               model.action_transform(automaton, model(model.state_transform(automaton)))\n",
    "\n",
    "    def eval(row):\n",
    "        instance = row['instance']\n",
    "        obj = evaluate(instance, trained_heuristic)\n",
    "        return obj\n",
    "\n",
    "    return test.progress_apply(eval, axis=1, result_type='expand').mean()"
   ]
  },
  {
   "cell_type": "markdown",
   "id": "92a50b5a-4bd4-4fd1-a2a8-3827dad5fbfa",
   "metadata": {},
   "source": [
    "## Generate train and test sets"
   ]
  },
  {
   "cell_type": "markdown",
   "id": "bdb2157d-5a61-4893-9aa1-802206b63350",
   "metadata": {},
   "source": [
    "We define three different types of platoon occurence: large isolated platoons, frequent small platoons, very regular (almost no platoons)."
   ]
  },
  {
   "cell_type": "code",
   "execution_count": 12,
   "id": "12d3a6f3-3dd8-4b43-bf78-074bff6801d0",
   "metadata": {},
   "outputs": [],
   "source": [
    "# interarrival time distributions, with same arrival intensity using s2 = (mu - p*s1) / (1 - p)\n",
    "Fs = [\n",
    "    bimodal_exponential(p=0.5, s1=0.1, s2=10),\n",
    "    bimodal_exponential(p=0.3, s1=0.1, s2=7.171428571428572),\n",
    "    bimodal_exponential(p=0.1, s1=0.1, s2=5.6),\n",
    "]"
   ]
  },
  {
   "cell_type": "markdown",
   "id": "a60140c4-457e-447c-8aba-d784640a60f1",
   "metadata": {},
   "source": [
    "To give an idea of these arrival distributions, we plot some arrivals for a single route."
   ]
  },
  {
   "cell_type": "code",
   "execution_count": 13,
   "id": "519041b5-3a95-4578-8a50-689a4ef16df1",
   "metadata": {},
   "outputs": [
    {
     "data": {
      "image/png": "[encoded data removed]",
      "text/plain": [
       "<Figure size 30000x100 with 1 Axes>"
      ]
     },
     "metadata": {},
     "output_type": "display_data"
    },
    {
     "data": {
      "image/png": "[encoded data removed]",
      "text/plain": [
       "<Figure size 30000x100 with 1 Axes>"
      ]
     },
     "metadata": {},
     "output_type": "display_data"
    },
    {
     "data": {
      "image/png": "[encoded data removed]",
      "text/plain": [
       "<Figure size 30000x100 with 1 Axes>"
      ]
     },
     "metadata": {},
     "output_type": "display_data"
    }
   ],
   "source": [
    "from util import plot_schedule\n",
    "n_vehicles = 50\n",
    "for F in Fs:\n",
    "    instance = empty_instance()\n",
    "    gaps = F(n_vehicles)\n",
    "    add_route(instance, *cumulate(gaps))\n",
    "    plot_schedule(instance, clean=True, custom_end_time=300)"
   ]
  },
  {
   "cell_type": "markdown",
   "id": "5ecd9d8a-d6d3-4956-b916-3ab60e21c127",
   "metadata": {},
   "source": [
    "Define a series of problem instance specifications."
   ]
  },
  {
   "cell_type": "code",
   "execution_count": 26,
   "id": "675937f5-c932-4183-b96c-4585b1e904e8",
   "metadata": {},
   "outputs": [
    {
     "data": {
      "text/html": [
       "<div>\n",
       "<style scoped>\n",
       "    .dataframe tbody tr th:only-of-type {\n",
       "        vertical-align: middle;\n",
       "    }\n",
       "\n",
       "    .dataframe tbody tr th {\n",
       "        vertical-align: top;\n",
       "    }\n",
       "\n",
       "    .dataframe thead th {\n",
       "        text-align: right;\n",
       "    }\n",
       "</style>\n",
       "<table border=\"1\" class=\"dataframe\">\n",
       "  <thead>\n",
       "    <tr style=\"text-align: right;\">\n",
       "      <th></th>\n",
       "      <th>gen_id</th>\n",
       "      <th>n_vehicles</th>\n",
       "      <th>set_name</th>\n",
       "    </tr>\n",
       "    <tr>\n",
       "      <th>set_id</th>\n",
       "      <th></th>\n",
       "      <th></th>\n",
       "      <th></th>\n",
       "    </tr>\n",
       "  </thead>\n",
       "  <tbody>\n",
       "    <tr>\n",
       "      <th>0</th>\n",
       "      <td>0</td>\n",
       "      <td>10</td>\n",
       "      <td>low</td>\n",
       "    </tr>\n",
       "    <tr>\n",
       "      <th>1</th>\n",
       "      <td>0</td>\n",
       "      <td>30</td>\n",
       "      <td>low</td>\n",
       "    </tr>\n",
       "    <tr>\n",
       "      <th>2</th>\n",
       "      <td>0</td>\n",
       "      <td>50</td>\n",
       "      <td>low</td>\n",
       "    </tr>\n",
       "    <tr>\n",
       "      <th>3</th>\n",
       "      <td>1</td>\n",
       "      <td>10</td>\n",
       "      <td>med</td>\n",
       "    </tr>\n",
       "    <tr>\n",
       "      <th>4</th>\n",
       "      <td>1</td>\n",
       "      <td>30</td>\n",
       "      <td>med</td>\n",
       "    </tr>\n",
       "    <tr>\n",
       "      <th>5</th>\n",
       "      <td>1</td>\n",
       "      <td>50</td>\n",
       "      <td>med</td>\n",
       "    </tr>\n",
       "    <tr>\n",
       "      <th>6</th>\n",
       "      <td>2</td>\n",
       "      <td>10</td>\n",
       "      <td>high</td>\n",
       "    </tr>\n",
       "    <tr>\n",
       "      <th>7</th>\n",
       "      <td>2</td>\n",
       "      <td>30</td>\n",
       "      <td>high</td>\n",
       "    </tr>\n",
       "    <tr>\n",
       "      <th>8</th>\n",
       "      <td>2</td>\n",
       "      <td>50</td>\n",
       "      <td>high</td>\n",
       "    </tr>\n",
       "  </tbody>\n",
       "</table>\n",
       "</div>"
      ],
      "text/plain": [
       "        gen_id  n_vehicles set_name\n",
       "set_id                             \n",
       "0            0          10      low\n",
       "1            0          30      low\n",
       "2            0          50      low\n",
       "3            1          10      med\n",
       "4            1          30      med\n",
       "5            1          50      med\n",
       "6            2          10     high\n",
       "7            2          30     high\n",
       "8            2          50     high"
      ]
     },
     "execution_count": 26,
     "metadata": {},
     "output_type": "execute_result"
    }
   ],
   "source": [
    "data = pd.DataFrame([\n",
    "    [0, 10], [0, 30], [0, 50],\n",
    "    [1, 10], [1, 30], [1, 50],\n",
    "    [2, 10], [2, 30], [2, 50],\n",
    "])\n",
    "data.columns = ['gen_id', 'n_vehicles']\n",
    "data['set_name'] = data.apply(lambda row: ['low', 'med', 'high'][row['gen_id']], axis=1)\n",
    "data.index.name = 'set_id'\n",
    "data"
   ]
  },
  {
   "cell_type": "markdown",
   "id": "b19c8a31-8bf0-4f5c-97f1-49ae43e52b08",
   "metadata": {},
   "source": [
    "For each specification, we generate some training instances and some test instances that will be used in the final optimality evaluation."
   ]
  },
  {
   "cell_type": "code",
   "execution_count": 15,
   "id": "41914be3-5133-40ea-95c1-51e7aa064b54",
   "metadata": {},
   "outputs": [],
   "source": [
    "N_train, N_test = 10, 10\n",
    "train, test = {}, {}\n",
    "for i, row in data.iterrows():\n",
    "    n = row['n_vehicles']\n",
    "    f = lambda: generate_symmetric_instance(Fs[row['gen_id']], n)\n",
    "    train[i] = pd.DataFrame(zip([f() for _ in range(N_train)]), columns=['instance'])\n",
    "    test[i] = pd.DataFrame(zip([f() for _ in range(N_test)]), columns=['instance'])"
   ]
  },
  {
   "cell_type": "markdown",
   "id": "4a7e6540-1e88-431f-b326-147ee2d03bb2",
   "metadata": {
    "jp-MarkdownHeadingCollapsed": true
   },
   "source": [
    "## Compute optimal solutions"
   ]
  },
  {
   "cell_type": "markdown",
   "id": "93b90064-ca54-4c67-961a-cf3f1a816c7e",
   "metadata": {},
   "source": [
    "We use the best cutting plane selected in the previous section to compute the optimal solutions, where possible. Whenever it becomes too expensive to compute the optimal solution, we use the best solution obtained by MILP after a certain time limit. These optimal solutions are also used for the neural heuristic when imitation learning is employed."
   ]
  },
  {
   "cell_type": "code",
   "execution_count": 16,
   "id": "a98e4059-0725-41ac-b89d-85dee4ad0fa7",
   "metadata": {},
   "outputs": [
    {
     "data": {
      "application/vnd.jupyter.widget-view+json": {
       "model_id": "049f2ebd851d46418e179a0f56c4f2f2",
       "version_major": 2,
       "version_minor": 0
      },
      "text/plain": [
       "  0%|          | 0/10 [00:00<?, ?it/s]"
      ]
     },
     "metadata": {},
     "output_type": "display_data"
    },
    {
     "data": {
      "application/vnd.jupyter.widget-view+json": {
       "model_id": "fd39c60c2cf04776bb4dd223a061c8f2",
       "version_major": 2,
       "version_minor": 0
      },
      "text/plain": [
       "  0%|          | 0/10 [00:00<?, ?it/s]"
      ]
     },
     "metadata": {},
     "output_type": "display_data"
    },
    {
     "data": {
      "application/vnd.jupyter.widget-view+json": {
       "model_id": "a48af44c4f75417497b9d135f4ff10a9",
       "version_major": 2,
       "version_minor": 0
      },
      "text/plain": [
       "  0%|          | 0/10 [00:00<?, ?it/s]"
      ]
     },
     "metadata": {},
     "output_type": "display_data"
    },
    {
     "data": {
      "application/vnd.jupyter.widget-view+json": {
       "model_id": "fa01ea0eb132445cba6beb0d860176aa",
       "version_major": 2,
       "version_minor": 0
      },
      "text/plain": [
       "  0%|          | 0/10 [00:00<?, ?it/s]"
      ]
     },
     "metadata": {},
     "output_type": "display_data"
    },
    {
     "data": {
      "application/vnd.jupyter.widget-view+json": {
       "model_id": "76019c28023c4ef18872fa2be7c7b44e",
       "version_major": 2,
       "version_minor": 0
      },
      "text/plain": [
       "  0%|          | 0/10 [00:00<?, ?it/s]"
      ]
     },
     "metadata": {},
     "output_type": "display_data"
    },
    {
     "data": {
      "application/vnd.jupyter.widget-view+json": {
       "model_id": "981662652b234f4aa0e4f5dd5099d079",
       "version_major": 2,
       "version_minor": 0
      },
      "text/plain": [
       "  0%|          | 0/10 [00:00<?, ?it/s]"
      ]
     },
     "metadata": {},
     "output_type": "display_data"
    },
    {
     "data": {
      "application/vnd.jupyter.widget-view+json": {
       "model_id": "35fd0923966e4293a3c9013cedb85083",
       "version_major": 2,
       "version_minor": 0
      },
      "text/plain": [
       "  0%|          | 0/10 [00:00<?, ?it/s]"
      ]
     },
     "metadata": {},
     "output_type": "display_data"
    },
    {
     "data": {
      "application/vnd.jupyter.widget-view+json": {
       "model_id": "5878569d13ff4cf985badff07e20c919",
       "version_major": 2,
       "version_minor": 0
      },
      "text/plain": [
       "  0%|          | 0/10 [00:00<?, ?it/s]"
      ]
     },
     "metadata": {},
     "output_type": "display_data"
    },
    {
     "data": {
      "application/vnd.jupyter.widget-view+json": {
       "model_id": "4772e638acbb4d0da0c4b437a453edbf",
       "version_major": 2,
       "version_minor": 0
      },
      "text/plain": [
       "  0%|          | 0/10 [00:00<?, ?it/s]"
      ]
     },
     "metadata": {},
     "output_type": "display_data"
    },
    {
     "data": {
      "application/vnd.jupyter.widget-view+json": {
       "model_id": "faaa751c4cf64456990af7b7b6622925",
       "version_major": 2,
       "version_minor": 0
      },
      "text/plain": [
       "  0%|          | 0/10 [00:00<?, ?it/s]"
      ]
     },
     "metadata": {},
     "output_type": "display_data"
    },
    {
     "data": {
      "application/vnd.jupyter.widget-view+json": {
       "model_id": "bd35f2d76644413ba3633a341ca13e95",
       "version_major": 2,
       "version_minor": 0
      },
      "text/plain": [
       "  0%|          | 0/10 [00:00<?, ?it/s]"
      ]
     },
     "metadata": {},
     "output_type": "display_data"
    },
    {
     "data": {
      "application/vnd.jupyter.widget-view+json": {
       "model_id": "16e6f22259304d64810ed02a0f395590",
       "version_major": 2,
       "version_minor": 0
      },
      "text/plain": [
       "  0%|          | 0/10 [00:00<?, ?it/s]"
      ]
     },
     "metadata": {},
     "output_type": "display_data"
    },
    {
     "data": {
      "application/vnd.jupyter.widget-view+json": {
       "model_id": "6c30e9673bbe46dc9f8c6c1c0695f5ef",
       "version_major": 2,
       "version_minor": 0
      },
      "text/plain": [
       "  0%|          | 0/10 [00:00<?, ?it/s]"
      ]
     },
     "metadata": {},
     "output_type": "display_data"
    },
    {
     "data": {
      "application/vnd.jupyter.widget-view+json": {
       "model_id": "f42358d1471c463db05addd86ce9e07d",
       "version_major": 2,
       "version_minor": 0
      },
      "text/plain": [
       "  0%|          | 0/10 [00:00<?, ?it/s]"
      ]
     },
     "metadata": {},
     "output_type": "display_data"
    },
    {
     "data": {
      "application/vnd.jupyter.widget-view+json": {
       "model_id": "ebecbfe8e5424efea91c6fb92004f9cb",
       "version_major": 2,
       "version_minor": 0
      },
      "text/plain": [
       "  0%|          | 0/10 [00:00<?, ?it/s]"
      ]
     },
     "metadata": {},
     "output_type": "display_data"
    },
    {
     "data": {
      "application/vnd.jupyter.widget-view+json": {
       "model_id": "27ee363523df4579a44f8ad95b2b3f5e",
       "version_major": 2,
       "version_minor": 0
      },
      "text/plain": [
       "  0%|          | 0/10 [00:00<?, ?it/s]"
      ]
     },
     "metadata": {},
     "output_type": "display_data"
    },
    {
     "data": {
      "application/vnd.jupyter.widget-view+json": {
       "model_id": "345dd54dec3e47f693cb1398a9dfef49",
       "version_major": 2,
       "version_minor": 0
      },
      "text/plain": [
       "  0%|          | 0/10 [00:00<?, ?it/s]"
      ]
     },
     "metadata": {},
     "output_type": "display_data"
    },
    {
     "data": {
      "application/vnd.jupyter.widget-view+json": {
       "model_id": "99ad19dd500a4d0392814f42e7e1b95d",
       "version_major": 2,
       "version_minor": 0
      },
      "text/plain": [
       "  0%|          | 0/10 [00:00<?, ?it/s]"
      ]
     },
     "metadata": {},
     "output_type": "display_data"
    }
   ],
   "source": [
    "from util import lane_order\n",
    "\n",
    "timelimit_opt = 5\n",
    "\n",
    "def solve_instance(x):\n",
    "    res = solve(x['instance'], timelimit=timelimit_opt, cutting_planes=[2])\n",
    "    return res['y'], res['obj']\n",
    "\n",
    "for i, _ in data.iterrows():\n",
    "    train[i][[f'opt_y', f'opt_obj',]] = train[i].progress_apply(solve_instance, axis=1, result_type='expand')\n",
    "    test[i][[f'opt_y', f'opt_obj',]] = test[i].progress_apply(solve_instance, axis=1, result_type='expand')\n",
    "    \n",
    "    # compute optimal lane order for training instances (for imitation learning)\n",
    "    train[i]['opt_eta'] = train[i].apply(lambda x: lane_order(x['opt_y']), axis=1)"
   ]
  },
  {
   "cell_type": "markdown",
   "id": "5906907f-9582-43cb-82d0-12a9da7038d3",
   "metadata": {},
   "source": [
    "## Collect and report measurements"
   ]
  },
  {
   "cell_type": "markdown",
   "id": "d2be40c3-1f43-4df3-bfd1-64982695dc46",
   "metadata": {},
   "source": [
    "Run all the analyses at once, without any kind of checkpoints."
   ]
  },
  {
   "cell_type": "code",
   "execution_count": 46,
   "id": "3fed12c2-9b12-48d2-adf6-8d7deffb3073",
   "metadata": {},
   "outputs": [],
   "source": [
    "#data['threshold_obj'] = data.apply(lambda row: eval_threshold(train[row.name], test[row.name], row.name), axis=1)\n",
    "#data['threshold_train_time'] = threshold_train_times\n",
    "\n",
    "#data['neural_obj'] = data.apply(lambda row: eval_neural(train[row.name], test[row.name], row.name, Model=RecurrentEmbeddingModel), axis=1)\n",
    "#data['neural_train_time'] = neural_train_times\n",
    "\n",
    "data['opt_obj'] = data.apply(lambda row: test[row.name]['opt_obj'].mean(), axis=1)"
   ]
  },
  {
   "cell_type": "markdown",
   "id": "5dd3774b-7cd8-424c-875c-f3c011ec7466",
   "metadata": {
    "jp-MarkdownHeadingCollapsed": true
   },
   "source": [
    "### Threshold fit"
   ]
  },
  {
   "cell_type": "markdown",
   "id": "66a9e382-628d-436a-a3b3-5e9e52f41575",
   "metadata": {},
   "source": [
    "Plot the train scores for the various thresholds to verify the model fit."
   ]
  },
  {
   "cell_type": "code",
   "execution_count": 117,
   "id": "4f96b535-395e-4d66-9d67-9d5784bda665",
   "metadata": {},
   "outputs": [
    {
     "data": {
      "image/png": "[encoded data removed]",
      "text/plain": [
       "<Figure size 1000x1000 with 9 Axes>"
      ]
     },
     "metadata": {},
     "output_type": "display_data"
    }
   ],
   "source": [
    "fig = plt.figure(figsize=(10,10))\n",
    "gs = fig.add_gridspec(nrows=math.ceil(len(threshold_train_scores) / 3), ncols=3, hspace=0.3, wspace=0.3)\n",
    "axes = gs.subplots(sharey='row')\n",
    "for ax, train_scores in zip(axes.T.flatten(), theshold_train_scores):\n",
    "    ax.plot(taus, train_scores)\n",
    "    ax.set(xlabel='$\\\\tau$')\n",
    "\n",
    "for ax, label in zip(axes[:, 0], ['10', '30', '50']):\n",
    "    ax.set_ylabel(label, size=15)\n",
    "for ax, label in zip(axes[0, :], ['low', 'med', 'high']):\n",
    "    ax.set_title(label, size=15)\n",
    "plt.savefig(f'tau_fit.pdf')"
   ]
  },
  {
   "cell_type": "markdown",
   "id": "3fed25ed-fbb3-41f4-ae1d-cb8106a516df",
   "metadata": {
    "jp-MarkdownHeadingCollapsed": true
   },
   "source": [
    "### Neural heuristic fit"
   ]
  },
  {
   "cell_type": "markdown",
   "id": "79a2c17f-3fdf-4e8d-abe1-cff365eea7a6",
   "metadata": {},
   "source": [
    "Plot the loss during training."
   ]
  },
  {
   "cell_type": "code",
   "execution_count": 138,
   "id": "a81eaa00-855c-4137-9d6c-deb9e3a3299e",
   "metadata": {},
   "outputs": [
    {
     "data": {
      "image/png": "[encoded data removed]",
      "text/plain": [
       "<Figure size 1000x1000 with 9 Axes>"
      ]
     },
     "metadata": {},
     "output_type": "display_data"
    }
   ],
   "source": [
    "fig = plt.figure(figsize=(10,10))\n",
    "gs = fig.add_gridspec(nrows=math.ceil(len(neural_losses) / 3), ncols=3, hspace=0.3, wspace=0.3)\n",
    "axes = gs.subplots()\n",
    "for ax, losses in zip(axes.T.flatten(), neural_losses):\n",
    "    ax.plot(losses)\n",
    "    ax.set(xlabel='step')\n",
    "\n",
    "for ax, label in zip(axes[:, 0], ['10', '30', '50']):\n",
    "    ax.set_ylabel(label, size=15)\n",
    "for ax, label in zip(axes[0, :], ['low', 'med', 'high']):\n",
    "    ax.set_title(label, size=15)\n",
    "\n",
    "plt.savefig(f'neural_fit.pdf')"
   ]
  },
  {
   "cell_type": "markdown",
   "id": "73ef3bf6-844f-4a23-9d7c-4ab32807e28b",
   "metadata": {},
   "source": [
    "### Report and export"
   ]
  },
  {
   "cell_type": "markdown",
   "id": "509af954-0c6a-4c4f-be37-7a8f3dc994c8",
   "metadata": {},
   "source": [
    "Transform total crossing time to average delay per vehicle (so we divide by the \"size\" of the instance)."
   ]
  },
  {
   "cell_type": "code",
   "execution_count": 49,
   "id": "af18a6b7-555d-469e-b2a6-61bc522effe2",
   "metadata": {},
   "outputs": [],
   "source": [
    "for col in ['threshold_obj', 'neural_obj', 'opt_obj']:\n",
    "    data[col] = data.apply(lambda row: (row[col] - average_release(test[row.name])) / (row['n_vehicles'] * 2), axis=1)"
   ]
  },
  {
   "cell_type": "code",
   "execution_count": 50,
   "id": "8817631a-ca4e-4c0a-8fe6-bfe9fa3e3e2f",
   "metadata": {},
   "outputs": [
    {
     "data": {
      "text/html": [
       "<div>\n",
       "<style scoped>\n",
       "    .dataframe tbody tr th:only-of-type {\n",
       "        vertical-align: middle;\n",
       "    }\n",
       "\n",
       "    .dataframe tbody tr th {\n",
       "        vertical-align: top;\n",
       "    }\n",
       "\n",
       "    .dataframe thead th {\n",
       "        text-align: right;\n",
       "    }\n",
       "</style>\n",
       "<table border=\"1\" class=\"dataframe\">\n",
       "  <thead>\n",
       "    <tr style=\"text-align: right;\">\n",
       "      <th></th>\n",
       "      <th>n_vehicles</th>\n",
       "      <th>set_name</th>\n",
       "      <th>threshold_obj</th>\n",
       "      <th>threshold_train_time</th>\n",
       "      <th>neural_obj</th>\n",
       "      <th>neural_train_time</th>\n",
       "      <th>opt_obj</th>\n",
       "    </tr>\n",
       "    <tr>\n",
       "      <th>set_id</th>\n",
       "      <th></th>\n",
       "      <th></th>\n",
       "      <th></th>\n",
       "      <th></th>\n",
       "      <th></th>\n",
       "      <th></th>\n",
       "      <th></th>\n",
       "    </tr>\n",
       "  </thead>\n",
       "  <tbody>\n",
       "    <tr>\n",
       "      <th>0</th>\n",
       "      <td>10</td>\n",
       "      <td>low</td>\n",
       "      <td>9.678649</td>\n",
       "      <td>0.325938</td>\n",
       "      <td>30.409702</td>\n",
       "      <td>0.857920</td>\n",
       "      <td>4.660592</td>\n",
       "    </tr>\n",
       "    <tr>\n",
       "      <th>1</th>\n",
       "      <td>30</td>\n",
       "      <td>low</td>\n",
       "      <td>13.443424</td>\n",
       "      <td>1.749498</td>\n",
       "      <td>89.361939</td>\n",
       "      <td>2.592857</td>\n",
       "      <td>8.824522</td>\n",
       "    </tr>\n",
       "    <tr>\n",
       "      <th>2</th>\n",
       "      <td>50</td>\n",
       "      <td>low</td>\n",
       "      <td>11.909475</td>\n",
       "      <td>4.269822</td>\n",
       "      <td>167.287297</td>\n",
       "      <td>4.353840</td>\n",
       "      <td>8.195081</td>\n",
       "    </tr>\n",
       "    <tr>\n",
       "      <th>3</th>\n",
       "      <td>10</td>\n",
       "      <td>med</td>\n",
       "      <td>5.372980</td>\n",
       "      <td>0.322305</td>\n",
       "      <td>15.319813</td>\n",
       "      <td>0.845825</td>\n",
       "      <td>3.184564</td>\n",
       "    </tr>\n",
       "    <tr>\n",
       "      <th>4</th>\n",
       "      <td>30</td>\n",
       "      <td>med</td>\n",
       "      <td>11.513467</td>\n",
       "      <td>1.798540</td>\n",
       "      <td>97.181877</td>\n",
       "      <td>2.639786</td>\n",
       "      <td>8.396684</td>\n",
       "    </tr>\n",
       "    <tr>\n",
       "      <th>5</th>\n",
       "      <td>50</td>\n",
       "      <td>med</td>\n",
       "      <td>11.220314</td>\n",
       "      <td>4.298266</td>\n",
       "      <td>155.290134</td>\n",
       "      <td>4.355501</td>\n",
       "      <td>11.604158</td>\n",
       "    </tr>\n",
       "    <tr>\n",
       "      <th>6</th>\n",
       "      <td>10</td>\n",
       "      <td>high</td>\n",
       "      <td>5.423813</td>\n",
       "      <td>0.326130</td>\n",
       "      <td>14.279002</td>\n",
       "      <td>0.888417</td>\n",
       "      <td>3.952459</td>\n",
       "    </tr>\n",
       "    <tr>\n",
       "      <th>7</th>\n",
       "      <td>30</td>\n",
       "      <td>high</td>\n",
       "      <td>9.376740</td>\n",
       "      <td>1.769119</td>\n",
       "      <td>96.294489</td>\n",
       "      <td>2.618748</td>\n",
       "      <td>7.492145</td>\n",
       "    </tr>\n",
       "    <tr>\n",
       "      <th>8</th>\n",
       "      <td>50</td>\n",
       "      <td>high</td>\n",
       "      <td>8.825839</td>\n",
       "      <td>4.264454</td>\n",
       "      <td>155.099449</td>\n",
       "      <td>4.417252</td>\n",
       "      <td>7.038259</td>\n",
       "    </tr>\n",
       "  </tbody>\n",
       "</table>\n",
       "</div>"
      ],
      "text/plain": [
       "        n_vehicles set_name  threshold_obj  threshold_train_time  neural_obj  \\\n",
       "set_id                                                                         \n",
       "0               10      low       9.678649              0.325938   30.409702   \n",
       "1               30      low      13.443424              1.749498   89.361939   \n",
       "2               50      low      11.909475              4.269822  167.287297   \n",
       "3               10      med       5.372980              0.322305   15.319813   \n",
       "4               30      med      11.513467              1.798540   97.181877   \n",
       "5               50      med      11.220314              4.298266  155.290134   \n",
       "6               10     high       5.423813              0.326130   14.279002   \n",
       "7               30     high       9.376740              1.769119   96.294489   \n",
       "8               50     high       8.825839              4.264454  155.099449   \n",
       "\n",
       "        neural_train_time    opt_obj  \n",
       "set_id                                \n",
       "0                0.857920   4.660592  \n",
       "1                2.592857   8.824522  \n",
       "2                4.353840   8.195081  \n",
       "3                0.845825   3.184564  \n",
       "4                2.639786   8.396684  \n",
       "5                4.355501  11.604158  \n",
       "6                0.888417   3.952459  \n",
       "7                2.618748   7.492145  \n",
       "8                4.417252   7.038259  "
      ]
     },
     "execution_count": 50,
     "metadata": {},
     "output_type": "execute_result"
    }
   ],
   "source": [
    "data"
   ]
  },
  {
   "cell_type": "markdown",
   "id": "25df926a-cae1-4fb6-9e5b-5023aaf0529f",
   "metadata": {},
   "source": [
    "Save the results to `results.csv` to produce tables in the report."
   ]
  },
  {
   "cell_type": "code",
   "execution_count": 51,
   "id": "c316e3ad-def0-4bec-b402-de25b53eb89b",
   "metadata": {},
   "outputs": [],
   "source": [
    "data = data.drop('gen_id', axis=1, errors='ignore')\n",
    "data.round(2).to_csv('../report/data-comparison/results.csv', index=False)"
   ]
  },
  {
   "cell_type": "code",
   "execution_count": null,
   "id": "4ab7a950-a286-451e-b2c9-5b2c491c0bc9",
   "metadata": {},
   "outputs": [],
   "source": []
  }
 ],
 "metadata": {
  "kernelspec": {
   "display_name": "Python 3 (ipykernel)",
   "language": "python",
   "name": "python3"
  },
  "language_info": {
   "codemirror_mode": {
    "name": "ipython",
    "version": 3
   },
   "file_extension": ".py",
   "mimetype": "text/x-python",
   "name": "python",
   "nbconvert_exporter": "python",
   "pygments_lexer": "ipython3",
   "version": "3.12.3"
  }
 },
 "nbformat": 4,
 "nbformat_minor": 5
}
