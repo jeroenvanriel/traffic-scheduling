{
 "cells": [
  {
   "cell_type": "markdown",
   "id": "790f7877",
   "metadata": {},
   "source": [
    "\n",
    "> ⚠️ **Warning:** This notebook file is paired to a .py file with the same name, such that we can cleanly import the functionality from other notebooks. This is done using the facilities of the jupytext package. The cells in this notebook that are only meant as \"demonstration\" are marked with the cell tag \"active-ipynb\", which causes the jupytext synchronization command to ignore these when syncing to the .py file. This is our current way of doing \"literate programming\" with jupyter notebooks."
   ]
  },
  {
   "cell_type": "code",
   "execution_count": 8,
   "id": "7369338b",
   "metadata": {},
   "outputs": [
    {
     "name": "stdout",
     "output_type": "stream",
     "text": [
      "The autoreload extension is already loaded. To reload it, use:\n",
      "  %reload_ext autoreload\n"
     ]
    }
   ],
   "source": [
    "%load_ext autoreload\n",
    "%autoreload 2"
   ]
  },
  {
   "cell_type": "markdown",
   "id": "7b1001a7",
   "metadata": {},
   "source": [
    "## Imitation Learning"
   ]
  },
  {
   "cell_type": "markdown",
   "id": "ede473b1",
   "metadata": {},
   "source": [
    "Optional further refinements:\n",
    "- cache solved train instances across multiple instances of ImitationLearning class\n",
    "- separately measure time needed to solve train instances"
   ]
  },
  {
   "cell_type": "code",
   "execution_count": null,
   "id": "2db5dff6",
   "metadata": {},
   "outputs": [],
   "source": [
    "from exact import solve\n",
    "\n",
    "from mdp import SingleScheduleEnv, HorizonObservationWrapper, HorizonRollingWrapper\n",
    "\n",
    "import torch\n",
    "import torch.optim as optim\n",
    "from torch.nn.functional import binary_cross_entropy_with_logits\n",
    "from torch.utils.data import TensorDataset, DataLoader\n",
    "\n",
    "import numpy as np\n",
    "from tqdm import tqdm\n",
    "\n",
    "class ImitationLearning:\n",
    "\n",
    "    def train(self, gen):\n",
    "        # 1. obtain expert data\n",
    "        # this involves computing near-optimal solutions by solving MILPs,\n",
    "        # which becomes very expensive for larger instances\n",
    "        # (so we might share this step, if we want to test multiple \n",
    "        #  configurations of imitation learning)\n",
    "        N_train = 1\n",
    "        states, actions = self._generate_expert_demonstration(gen, N_train)\n",
    "\n",
    "        # 2. fit model to expert data state-action pairs\n",
    "        # TODO: apply appropriate transformation of observation/action wrappers\n",
    "\n",
    "        total_steps = 500\n",
    "        batch_size = 20\n",
    "\n",
    "        train_set = TensorDataset(torch.vstack(states), torch.vstack(actions))\n",
    "        train_loader = DataLoader(train_set, batch_size=batch_size, shuffle=True)\n",
    "\n",
    "        learning_rate = 5e-4\n",
    "        optimizer = optim.Adam(model.parameters(), lr=learning_rate)\n",
    "\n",
    "        train_losses = []\n",
    "        step = 0\n",
    "        with tqdm(total=total_steps, desc=f\"training\", leave=False) as pbar:\n",
    "            while True:\n",
    "                for s, a in train_loader:\n",
    "                    # perform a single training step\n",
    "                    model.train()\n",
    "                    optimizer.zero_grad()\n",
    "                    loss = binary_cross_entropy_with_logits(model(s), a)\n",
    "                    loss.backward()\n",
    "                    optimizer.step()\n",
    "                    train_losses.append(loss.item())\n",
    "\n",
    "                    step += 1\n",
    "                    pbar.update(1)\n",
    "\n",
    "                    if step >= total_steps: break # ...out of inner loop\n",
    "                if step >= total_steps: break # ...out of outer loop\n",
    "\n",
    "    def eval(self, gen):\n",
    "        return 1\n",
    "\n",
    "    def _generate_expert_demonstration(self, gen, N):\n",
    "        states, actions = [], []\n",
    "        for _ in tqdm(range(N), desc=\"Generating/solving train instances\"):\n",
    "            # 1a. generate training instance\n",
    "            s = gen()\n",
    "\n",
    "            # 1b. compute optimal solution\n",
    "            s.solve()\n",
    "\n",
    "            # 1c. compute route order (\"eta\")\n",
    "            ix = s.vehicle_indices\n",
    "            y = s.opt.y\n",
    "            vehicle_order = s.opt.vehicle_order        \n",
    "            route_order = s.opt.route_order\n",
    "\n",
    "            # 1c. play optimal route order on the MDP to extract expert demonstration\n",
    "            env = SingleScheduleEnv(instance_generator=lambda: s)\n",
    "            state, _ = env.reset()\n",
    "            done = False\n",
    "            eta = iter(route_order) # replay optimal route order\n",
    "            while not done:\n",
    "                # NOTE: currently just collecting ground states\n",
    "                # (so no observation/action wrapping yet)\n",
    "                # state = model.state_transform(automaton)\n",
    "                # action = model.inverse_action_transform(automaton, route)\n",
    "                action = next(eta)\n",
    "\n",
    "                # record current state + action\n",
    "                # (so note that we won't record the final state of this episode)\n",
    "                states.append(state)\n",
    "                actions.append(action)\n",
    "\n",
    "                state, _, done, _, _ = env.step(action)\n",
    "\n",
    "        return states, actions"
   ]
  },
  {
   "cell_type": "code",
   "execution_count": 11,
   "id": "52988267",
   "metadata": {},
   "outputs": [
    {
     "name": "stderr",
     "output_type": "stream",
     "text": [
      "Generating/solving train instances: 100%|██████████| 1/1 [00:00<00:00, 85.41it/s]\n"
     ]
    }
   ],
   "source": [
    "from instances import generate_simple_instance\n",
    "im = ImitationLearning()\n",
    "states, actions = im._generate_expert_demonstration(generate_simple_instance, 1)"
   ]
  },
  {
   "cell_type": "code",
   "execution_count": 17,
   "id": "7935029a",
   "metadata": {},
   "outputs": [
    {
     "data": {
      "text/plain": [
       "({'R': 2,\n",
       "  'n': [3, 3],\n",
       "  'k': [3, 3],\n",
       "  'vehicle_order': [],\n",
       "  'route_order': [],\n",
       "  'done': array([False, False]),\n",
       "  'lb': array([[0.        , 1.2       , 2.4       ],\n",
       "         [0.32268643, 1.97542373, 3.4063212 ]]),\n",
       "  'partial_makespan': 0},\n",
       " 0)"
      ]
     },
     "execution_count": 17,
     "metadata": {},
     "output_type": "execute_result"
    }
   ],
   "source": [
    "states[0], actions[0]"
   ]
  },
  {
   "cell_type": "code",
   "execution_count": 12,
   "id": "aa5d240f",
   "metadata": {},
   "outputs": [
    {
     "data": {
      "image/png": "[encoded data removed]",
      "text/plain": [
       "<Figure size 448.789x80 with 1 Axes>"
      ]
     },
     "metadata": {},
     "output_type": "display_data"
    }
   ],
   "source": [
    "from mdp import SingleScheduleEnv, HorizonObservationWrapper, HorizonRollingWrapper\n",
    "from mdp import visualize, draw_horizon_obs\n",
    "\n",
    "i = generate_simple_instance()\n",
    "visualize(i)"
   ]
  },
  {
   "cell_type": "code",
   "execution_count": 13,
   "id": "bf7fdddf",
   "metadata": {},
   "outputs": [
    {
     "data": {
      "image/png": "[encoded data removed]",
      "text/plain": [
       "<Figure size 448.789x80 with 1 Axes>"
      ]
     },
     "metadata": {},
     "output_type": "display_data"
    },
    {
     "data": {
      "image/png": "[encoded data removed]",
      "text/plain": [
       "<Figure size 523.121x80 with 1 Axes>"
      ]
     },
     "metadata": {},
     "output_type": "display_data"
    },
    {
     "data": {
      "image/png": "[encoded data removed]",
      "text/plain": [
       "<Figure size 460x200 with 1 Axes>"
      ]
     },
     "metadata": {},
     "output_type": "display_data"
    },
    {
     "data": {
      "image/png": "[encoded data removed]",
      "text/plain": [
       "<Figure size 523.121x80 with 1 Axes>"
      ]
     },
     "metadata": {},
     "output_type": "display_data"
    },
    {
     "data": {
      "image/png": "[encoded data removed]",
      "text/plain": [
       "<Figure size 460x200 with 1 Axes>"
      ]
     },
     "metadata": {},
     "output_type": "display_data"
    }
   ],
   "source": [
    "options = { 'render_roll': False }\n",
    "normal_env = SingleScheduleEnv(instance_generator=lambda: i, options=options)\n",
    "normal_env = HorizonObservationWrapper(normal_env)\n",
    "\n",
    "cycle_env = SingleScheduleEnv(instance_generator=lambda: i, options=options)\n",
    "cycle_env = HorizonObservationWrapper(cycle_env)\n",
    "cycle_env = HorizonRollingWrapper(cycle_env)\n",
    "\n",
    "h, _ = normal_env.reset()\n",
    "h_cycled, _ = cycle_env.reset()\n",
    "\n",
    "def render(h, h_cycled):\n",
    "    normal_env.render()\n",
    "    draw_horizon_obs(h)\n",
    "\n",
    "    cycle_env.render()\n",
    "    draw_horizon_obs(h_cycled)\n",
    "\n",
    "normal_env.render() # initial state is the same anyway\n",
    "\n",
    "h, *_ = normal_env.step(1)\n",
    "h_cycled, *_ = cycle_env.step(1)\n",
    "\n",
    "render(h, h_cycled)"
   ]
  },
  {
   "cell_type": "code",
   "execution_count": 14,
   "id": "482ba4a4",
   "metadata": {},
   "outputs": [
    {
     "data": {
      "text/plain": [
       "{'horizon': array([[0.5889217, 2.4708447, 0.       ],\n",
       "        [1.       , 2.2      , 3.4      ]], dtype=float32),\n",
       " 'h_lengths': array([2, 3], dtype=int16)}"
      ]
     },
     "execution_count": 14,
     "metadata": {},
     "output_type": "execute_result"
    }
   ],
   "source": [
    "h_cycled"
   ]
  },
  {
   "cell_type": "code",
   "execution_count": 15,
   "id": "25b2dcdf",
   "metadata": {},
   "outputs": [
    {
     "data": {
      "text/plain": [
       "{'horizon': array([[1.       , 2.2      , 3.4      ],\n",
       "        [0.5889217, 2.4708447, 0.       ]], dtype=float32),\n",
       " 'h_lengths': array([3, 2], dtype=int16)}"
      ]
     },
     "execution_count": 15,
     "metadata": {},
     "output_type": "execute_result"
    }
   ],
   "source": [
    "h"
   ]
  },
  {
   "cell_type": "code",
   "execution_count": null,
   "id": "75aae592",
   "metadata": {},
   "outputs": [],
   "source": []
  }
 ],
 "metadata": {
  "jupytext": {
   "formats": "ipynb,py:percent"
  },
  "kernelspec": {
   "display_name": "traffic",
   "language": "python",
   "name": "python3"
  },
  "language_info": {
   "codemirror_mode": {
    "name": "ipython",
    "version": 3
   },
   "file_extension": ".py",
   "mimetype": "text/x-python",
   "name": "python",
   "nbconvert_exporter": "python",
   "pygments_lexer": "ipython3",
   "version": "3.12.3"
  }
 },
 "nbformat": 4,
 "nbformat_minor": 5
}
