{
 "cells": [
  {
   "cell_type": "code",
   "execution_count": 4,
   "id": "cbfa66ff-283e-42c6-a412-cdd4ba1b9183",
   "metadata": {},
   "outputs": [],
   "source": [
    "import pandas as pd\n",
    "import numpy as np\n",
    "import time\n",
    "import re\n",
    "import csv\n",
    "import math\n",
    "from tqdm.notebook import tqdm\n",
    "tqdm.pandas()\n",
    "\n",
    "from exact import solve\n",
    "from util import lane_order"
   ]
  },
  {
   "cell_type": "markdown",
   "id": "7e98e08f-b0f2-403e-b4b5-fc6846d6a0fb",
   "metadata": {},
   "source": [
    "Solving with each setting of cutting planes."
   ]
  },
  {
   "cell_type": "code",
   "execution_count": 11,
   "id": "e95fc252-d24b-49ef-8641-057fca8642b8",
   "metadata": {},
   "outputs": [],
   "source": [
    "def eval_exact(data):\n",
    "    def solve_instance(x, cut):\n",
    "        start = time.time()\n",
    "        y = solve(x['instance'], cutting_planes=cut)\n",
    "        return y['y'], y['obj'], time.time() - start\n",
    "\n",
    "    for cut in [0,1,2]:\n",
    "        # apply branch-and-bound with different cutting planes active\n",
    "        data[[f'opt_y_{cut}', f'opt_obj_{cut}', f'running_time_{cut}']] = \\\n",
    "            data.progress_apply(lambda x: solve_instance(x, cut), axis=1, result_type='expand')\n",
    "\n",
    "    # we verify the cutting planes by comparing objectives\n",
    "    data['matching1'] = data.apply(\n",
    "        lambda x: math.isclose(x['opt_obj_0'], x['opt_obj_1'], rel_tol=1e-04), axis=1)\n",
    "    data['matching2'] = data.apply(\n",
    "        lambda x: math.isclose(x['opt_obj_0'], x['opt_obj_2'], rel_tol=1e-04), axis=1)\n",
    "    assert data['matching1'].all() and data['matching2'].all()\n",
    "\n",
    "    # rename and remove columns\n",
    "    data['opt_y'] = data['opt_y_1']\n",
    "    data['opt_obj'] = data['opt_obj_1']\n",
    "    data = data.drop([\n",
    "            'opt_y_0', 'opt_obj_0',\n",
    "            'opt_y_1', 'opt_obj_1',\n",
    "            'opt_y_2', 'opt_obj_2',\n",
    "            'matching1', 'matching2'\n",
    "       ], axis=1, errors='ignore')\n",
    "\n",
    "    # store schedules with their lane order\n",
    "    data['opt_eta'] = data.apply(lambda x: lane_order(x['opt_y']), axis=1)\n",
    "\n",
    "    return data"
   ]
  },
  {
   "cell_type": "markdown",
   "id": "43cc7bdf-b3b8-44cf-b3a9-1fa6abeae376",
   "metadata": {},
   "source": [
    "Solve optimally for the given instances."
   ]
  },
  {
   "cell_type": "code",
   "execution_count": 12,
   "id": "ca27900e-cbf5-4b2a-9e9f-f54aa9a056f7",
   "metadata": {},
   "outputs": [
    {
     "name": "stdout",
     "output_type": "stream",
     "text": [
      "processing data/test_5.pkl\n",
      "branch-and-bound\n"
     ]
    },
    {
     "data": {
      "application/vnd.jupyter.widget-view+json": {
       "model_id": "9d6229a45c064a8fb87648179ed6a065",
       "version_major": 2,
       "version_minor": 0
      },
      "text/plain": [
       "  0%|          | 0/100 [00:00<?, ?it/s]"
      ]
     },
     "metadata": {},
     "output_type": "display_data"
    },
    {
     "data": {
      "application/vnd.jupyter.widget-view+json": {
       "model_id": "b735e2075b004dfb87475b308e2d919f",
       "version_major": 2,
       "version_minor": 0
      },
      "text/plain": [
       "  0%|          | 0/100 [00:00<?, ?it/s]"
      ]
     },
     "metadata": {},
     "output_type": "display_data"
    },
    {
     "data": {
      "application/vnd.jupyter.widget-view+json": {
       "model_id": "f854114cb67d4abab638565896e8fb3c",
       "version_major": 2,
       "version_minor": 0
      },
      "text/plain": [
       "  0%|          | 0/100 [00:00<?, ?it/s]"
      ]
     },
     "metadata": {},
     "output_type": "display_data"
    },
    {
     "name": "stdout",
     "output_type": "stream",
     "text": [
      "processing data/test_6.pkl\n",
      "branch-and-bound\n"
     ]
    },
    {
     "data": {
      "application/vnd.jupyter.widget-view+json": {
       "model_id": "e3abe1c6bcd9468eab4880dc32ce3bfe",
       "version_major": 2,
       "version_minor": 0
      },
      "text/plain": [
       "  0%|          | 0/100 [00:00<?, ?it/s]"
      ]
     },
     "metadata": {},
     "output_type": "display_data"
    },
    {
     "data": {
      "application/vnd.jupyter.widget-view+json": {
       "model_id": "55c75bf22b584fef897b3771aa4f889c",
       "version_major": 2,
       "version_minor": 0
      },
      "text/plain": [
       "  0%|          | 0/100 [00:00<?, ?it/s]"
      ]
     },
     "metadata": {},
     "output_type": "display_data"
    },
    {
     "data": {
      "application/vnd.jupyter.widget-view+json": {
       "model_id": "6d71e388c2934c269479dc8496599624",
       "version_major": 2,
       "version_minor": 0
      },
      "text/plain": [
       "  0%|          | 0/100 [00:00<?, ?it/s]"
      ]
     },
     "metadata": {},
     "output_type": "display_data"
    }
   ],
   "source": [
    "sets = [1,2,3,4,5,6]\n",
    "files = [f\"data/test_{i}.pkl\" for i in sets]\n",
    "\n",
    "for file in files:\n",
    "    print(f\"processing {file}\")\n",
    "    data = pd.read_pickle(file)\n",
    "\n",
    "    print('branch-and-bound')\n",
    "    data = eval_exact(data)\n",
    "\n",
    "    # save everything with pickle\n",
    "    data.to_pickle(file)"
   ]
  },
  {
   "cell_type": "code",
   "execution_count": null,
   "id": "92a6c331-448e-4e72-bba0-eeea298e1923",
   "metadata": {},
   "outputs": [],
   "source": []
  }
 ],
 "metadata": {
  "kernelspec": {
   "display_name": "Python 3 (ipykernel)",
   "language": "python",
   "name": "python3"
  },
  "language_info": {
   "codemirror_mode": {
    "name": "ipython",
    "version": 3
   },
   "file_extension": ".py",
   "mimetype": "text/x-python",
   "name": "python",
   "nbconvert_exporter": "python",
   "pygments_lexer": "ipython3",
   "version": "3.12.3"
  }
 },
 "nbformat": 4,
 "nbformat_minor": 5
}
