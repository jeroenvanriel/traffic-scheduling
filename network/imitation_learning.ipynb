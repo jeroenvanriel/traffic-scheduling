{
 "cells": [
  {
   "cell_type": "code",
   "execution_count": 21,
   "id": "2d82cbba-7986-4a0f-b63f-8900776794a8",
   "metadata": {},
   "outputs": [
    {
     "name": "stdout",
     "output_type": "stream",
     "text": [
      "/home/jeroen/repos/traffic-scheduling/network\n"
     ]
    }
   ],
   "source": [
    "import pandas as pd\n",
    "import numpy as np\n",
    "import networkx as nx\n",
    "import torch\n",
    "import torch.nn as nn\n",
    "import math, time\n",
    "import matplotlib.pyplot as plt\n",
    "from tqdm.notebook import tqdm, trange\n",
    "tqdm.pandas()\n",
    "%cd /home/jeroen/repos/traffic-scheduling/network/\n",
    "from generate import generate_grid_network, generate_simple_instance\n",
    "from automaton import Automaton\n",
    "from exact import solve"
   ]
  },
  {
   "cell_type": "markdown",
   "id": "f7809528-4a28-4b28-8e76-dd516f0abed9",
   "metadata": {},
   "source": [
    "We can load the train and test data sets from disk. Skip the next computations in sections \"Generate training data\" and \"Compute optimal solutions\" when the optimal solutions have already been computed previously."
   ]
  },
  {
   "cell_type": "code",
   "execution_count": 22,
   "id": "96dc246c-ad37-4817-8650-e49f34064de0",
   "metadata": {},
   "outputs": [],
   "source": [
    "data = pd.read_pickle('data/data.pkl')\n",
    "train, test = {}, {}\n",
    "for i, row in data.iterrows():\n",
    "    train[i] = pd.read_pickle(f'data/train_{i}.pkl')\n",
    "    test[i] = pd.read_pickle(f'data/test_{i}.pkl')"
   ]
  },
  {
   "cell_type": "markdown",
   "id": "a06da948-e939-48b1-aec3-c07ea27fbcbb",
   "metadata": {},
   "source": [
    "# Crossing time scheduling in network of intersections"
   ]
  },
  {
   "cell_type": "markdown",
   "id": "f66e51aa-76cb-4f27-b363-cb9215bc6463",
   "metadata": {},
   "source": [
    "We analyze the efficiency of constructive (auto-regressive) heuristics for the crossing time scheduling problem in grid networks (like Manhattan) of intersections."
   ]
  },
  {
   "cell_type": "markdown",
   "id": "0a099e18-4699-423a-beda-c54300912813",
   "metadata": {
    "jp-MarkdownHeadingCollapsed": true
   },
   "source": [
    "## Generate training data"
   ]
  },
  {
   "cell_type": "markdown",
   "id": "2ad5f0b3-610a-4a00-a4f5-fd1de2e5abac",
   "metadata": {},
   "source": [
    "Generate a small grid network and some instances with a fixed number of arrivals per route. In the next section, we solve these instances to optimality using mixed-integer linear programming, from which we later extract the expert demonstration as observation-action pairs. We use the term observations because it is the result of a static non-parameterized transformation on which the parameterized model is then fitted."
   ]
  },
  {
   "cell_type": "code",
   "execution_count": 6,
   "id": "2edcc52e-5cb7-4171-9a73-827312b01bea",
   "metadata": {},
   "outputs": [],
   "source": [
    "data = pd.DataFrame([\n",
    "    [5, 2, 1],\n",
    "    [5, 3, 1],\n",
    "    [5, 3, 2],\n",
    "], columns=['n_arrivals', 'grid_m', 'grid_n'])"
   ]
  },
  {
   "cell_type": "markdown",
   "id": "1a035a81-5759-42e7-9cfb-05be80317896",
   "metadata": {},
   "source": [
    "Generate some grid networks and store it together with the routes."
   ]
  },
  {
   "cell_type": "code",
   "execution_count": 8,
   "id": "e1570bd3-9339-48fa-8839-8631703d8d9c",
   "metadata": {},
   "outputs": [],
   "source": [
    "data[['G', 'routes']] = data.apply(lambda row: generate_grid_network(row['grid_m'], row['grid_n']), axis=1, result_type='expand')\n",
    "data.to_pickle('data/data.pkl')"
   ]
  },
  {
   "cell_type": "markdown",
   "id": "4f96f58d-9d55-4f8d-8753-7383769435b9",
   "metadata": {},
   "source": [
    "For each specification, we generate some training instances and some test instances that will be used in the final optimality evaluation."
   ]
  },
  {
   "cell_type": "code",
   "execution_count": 6,
   "id": "66d28f63-e1a5-4c43-bc7b-021703738fd0",
   "metadata": {},
   "outputs": [],
   "source": [
    "N_train, N_test = 500, 100\n",
    "train, test = {}, {}\n",
    "for i, row in data.iterrows():\n",
    "    f = lambda: generate_simple_instance(row['G'], row['routes'], arrivals_per_route=row['n_arrivals'])\n",
    "    train[i] = pd.DataFrame(zip([f() for _ in range(N_train)]), columns=['instance'])\n",
    "    test[i] = pd.DataFrame(zip([f() for _ in range(N_test)]), columns=['instance'])"
   ]
  },
  {
   "cell_type": "markdown",
   "id": "7743614c-f91b-4295-92a4-65ccdcc9e29c",
   "metadata": {
    "jp-MarkdownHeadingCollapsed": true
   },
   "source": [
    "## Compute optimal solutions"
   ]
  },
  {
   "cell_type": "markdown",
   "id": "f9779b05-614b-4838-b1cb-b53448bbbe1c",
   "metadata": {},
   "source": [
    "We solve each instance in the training and test set to optimality, using a Mixed-Integer Linear Programming (MILP) solver."
   ]
  },
  {
   "cell_type": "code",
   "execution_count": 8,
   "id": "674f7e4f-4fbe-413f-b1dd-ecc9c8735b22",
   "metadata": {},
   "outputs": [
    {
     "name": "stdout",
     "output_type": "stream",
     "text": [
      "set 5, grid size 2 x 1\n"
     ]
    },
    {
     "data": {
      "application/vnd.jupyter.widget-view+json": {
       "model_id": "1c1361c613404daa818d2053c03e30f6",
       "version_major": 2,
       "version_minor": 0
      },
      "text/plain": [
       "  0%|          | 0/500 [00:00<?, ?it/s]"
      ]
     },
     "metadata": {},
     "output_type": "display_data"
    },
    {
     "data": {
      "application/vnd.jupyter.widget-view+json": {
       "model_id": "a48bbbbec8c3446f8737c5365daab08d",
       "version_major": 2,
       "version_minor": 0
      },
      "text/plain": [
       "  0%|          | 0/100 [00:00<?, ?it/s]"
      ]
     },
     "metadata": {},
     "output_type": "display_data"
    },
    {
     "name": "stdout",
     "output_type": "stream",
     "text": [
      "set 5, grid size 3 x 1\n"
     ]
    },
    {
     "data": {
      "application/vnd.jupyter.widget-view+json": {
       "model_id": "6f7fa48e61b94b3d8a512fcb47ed1a0c",
       "version_major": 2,
       "version_minor": 0
      },
      "text/plain": [
       "  0%|          | 0/500 [00:00<?, ?it/s]"
      ]
     },
     "metadata": {},
     "output_type": "display_data"
    },
    {
     "data": {
      "application/vnd.jupyter.widget-view+json": {
       "model_id": "d7aa8edbb76444acbf523be552c296cb",
       "version_major": 2,
       "version_minor": 0
      },
      "text/plain": [
       "  0%|          | 0/100 [00:00<?, ?it/s]"
      ]
     },
     "metadata": {},
     "output_type": "display_data"
    },
    {
     "name": "stdout",
     "output_type": "stream",
     "text": [
      "set 5, grid size 3 x 2\n"
     ]
    },
    {
     "data": {
      "application/vnd.jupyter.widget-view+json": {
       "model_id": "4f85d698acc142858e3608edd40c1308",
       "version_major": 2,
       "version_minor": 0
      },
      "text/plain": [
       "  0%|          | 0/500 [00:00<?, ?it/s]"
      ]
     },
     "metadata": {},
     "output_type": "display_data"
    },
    {
     "data": {
      "application/vnd.jupyter.widget-view+json": {
       "model_id": "2ba0a2e8c8a94adaa57378002b7bae38",
       "version_major": 2,
       "version_minor": 0
      },
      "text/plain": [
       "  0%|          | 0/100 [00:00<?, ?it/s]"
      ]
     },
     "metadata": {},
     "output_type": "display_data"
    },
    {
     "name": "stdout",
     "output_type": "stream",
     "text": [
      "total computation time: 1030.4407222270966\n"
     ]
    }
   ],
   "source": [
    "timelimit_opt = 60\n",
    "\n",
    "def solve_instance(x):\n",
    "    res = solve(x['instance'], timelimit=timelimit_opt)\n",
    "    return res['y'], res['obj'], res['done'], res['gap'], res['time']\n",
    "\n",
    "start = time.time()\n",
    "for i, row in data.iterrows():\n",
    "    print(f\"set {row['n_arrivals']}, grid size {row['grid_m']} x {row['grid_n']}\")\n",
    "    cols = ['opt_y', 'opt_obj', 'opt_done', 'opt_gap', 'opt_time']\n",
    "    train[i][[*cols]] = train[i].progress_apply(solve_instance, axis=1, result_type='expand')\n",
    "    test[i][[*cols]] = test[i].progress_apply(solve_instance, axis=1, result_type='expand')\n",
    "\n",
    "    # save to disk\n",
    "    train[i].to_pickle(f'data/train_{i}.pkl')\n",
    "    test[i].to_pickle(f'data/test_{i}.pkl')\n",
    "print(f'total computation time: {time.time() - start}')"
   ]
  },
  {
   "cell_type": "markdown",
   "id": "96eb2a0e-2a79-4149-9a0f-20d763089007",
   "metadata": {},
   "source": [
    "Next, we use the optimal crossing time schedules to backtrack the actions for the automaton that lead to this optimal schedule."
   ]
  },
  {
   "cell_type": "code",
   "execution_count": 9,
   "id": "edfdcc0c-02e5-4a7c-8b16-bd7c2ac7e3f3",
   "metadata": {},
   "outputs": [],
   "source": [
    "def compute_route_order(row):\n",
    "    \"\"\"Compute the order in which vehicles pass each intersection\n",
    "    based on the order of the route to which the vehicles belong.\"\"\"\n",
    "    instance = row['instance']\n",
    "    schedule = row['opt_y']\n",
    "    route_order = {}\n",
    "    indices = schedule.keys() # (r, k, v) tuples\n",
    "    for v in instance['G'].intersections:\n",
    "        route_order[v] = sorted(filter(lambda x: x[2] == v, indices), key=lambda i: schedule[i])\n",
    "        route_order[v] = list(map(lambda x: x[0], route_order[v])) # take route index r\n",
    "    return [route_order] # to prevent unpacking in DataFrame\n",
    "\n",
    "for i, row in data.iterrows():\n",
    "    train[i][['opt_route_order']] = train[i].apply(compute_route_order, axis=1, result_type='expand')\n",
    "    train[i].to_pickle(f'data/train_{i}.pkl')"
   ]
  },
  {
   "cell_type": "markdown",
   "id": "bd74718d-fa17-4dd2-96ac-c134df629d4f",
   "metadata": {
    "jp-MarkdownHeadingCollapsed": true
   },
   "source": [
    "## Exhaustive policy"
   ]
  },
  {
   "cell_type": "code",
   "execution_count": 26,
   "id": "4bc5280f-c7ac-406c-92d0-6cb8657dd0a8",
   "metadata": {},
   "outputs": [],
   "source": [
    "def earliest_route(automaton, v):\n",
    "    \"\"\"Get the route with the earliest arrival at intersection v.\"\"\"\n",
    "    first_vehicles = { r: automaton.D.nodes[r, k, v]['LB']\n",
    "                      for r in automaton.routes_at_intersection[v]\n",
    "                      for k in automaton.order_indices[r] }\n",
    "    return min(first_vehicles, key=first_vehicles.get)"
   ]
  },
  {
   "cell_type": "code",
   "execution_count": 27,
   "id": "6013f66e-f9c2-4805-8004-616b4ec9b9c4",
   "metadata": {},
   "outputs": [],
   "source": [
    "def threshold_heuristic(instance, threshold=0):\n",
    "    automaton = Automaton(instance)\n",
    "\n",
    "    # visit intersections in topological order\n",
    "    # execute exhaustive policy at intersection v\n",
    "    G = instance['G']\n",
    "    for v in nx.topological_sort(G.subgraph(G.intersections)):\n",
    "        routes = automaton.routes_at_intersection[v].copy()\n",
    "\n",
    "        # start with the route with the earliest vehicle\n",
    "        r = earliest_route(automaton, v)\n",
    "        automaton.step(r, v)\n",
    "        while v in automaton.pending_intersections:\n",
    "            # next route candidate\n",
    "            r_next = routes[(routes.index(r) + 1) % len(routes)]\n",
    "            \n",
    "            # next vehicle exists on current route\n",
    "            if (r, v) in automaton.pending_crossings:\n",
    "                k = automaton.last_order[r, v]\n",
    "                # earliest crossing time of next vehicle on this route\n",
    "                LB_next = automaton.D.nodes[r, k + 1, v]['LB']\n",
    "                # check threshold condition\n",
    "                if automaton.D.nodes[r, k, v]['LB'] + instance['rho'] + threshold >= LB_next:\n",
    "                    # continue on this route\n",
    "                    automaton.step(r, v)\n",
    "                    continue\n",
    "            else:\n",
    "                routes.remove(r)\n",
    "\n",
    "            r = r_next\n",
    "            automaton.step(r, v)\n",
    "\n",
    "    return automaton.get_obj()"
   ]
  },
  {
   "cell_type": "code",
   "execution_count": 28,
   "id": "9c3eddd4-0793-49e3-adda-caedc4cd7f05",
   "metadata": {},
   "outputs": [],
   "source": [
    "def eval_exhaustive(test, set_id):\n",
    "    tqdm.pandas(desc=f\"{set_id} evaluating\")\n",
    "    return test.progress_apply(lambda x: threshold_heuristic(x['instance'], threshold=0), axis=1).mean()"
   ]
  },
  {
   "cell_type": "code",
   "execution_count": 29,
   "id": "683b9465-80a0-4834-8dd4-f3b75093591f",
   "metadata": {},
   "outputs": [
    {
     "data": {
      "application/vnd.jupyter.widget-view+json": {
       "model_id": "08a0d06200634e1b9e37703b6b5b9d4c",
       "version_major": 2,
       "version_minor": 0
      },
      "text/plain": [
       "0 evaluating:   0%|          | 0/100 [00:00<?, ?it/s]"
      ]
     },
     "metadata": {},
     "output_type": "display_data"
    },
    {
     "data": {
      "application/vnd.jupyter.widget-view+json": {
       "model_id": "8d084e0676fc4be189d7e1ad88ebe691",
       "version_major": 2,
       "version_minor": 0
      },
      "text/plain": [
       "1 evaluating:   0%|          | 0/100 [00:00<?, ?it/s]"
      ]
     },
     "metadata": {},
     "output_type": "display_data"
    },
    {
     "data": {
      "application/vnd.jupyter.widget-view+json": {
       "model_id": "d94df89ef14a469c924305bf128e0024",
       "version_major": 2,
       "version_minor": 0
      },
      "text/plain": [
       "2 evaluating:   0%|          | 0/100 [00:00<?, ?it/s]"
      ]
     },
     "metadata": {},
     "output_type": "display_data"
    }
   ],
   "source": [
    "data['exhaustive_obj'] = data.apply(lambda row: eval_exhaustive(test[row.name], row.name), axis=1)"
   ]
  },
  {
   "cell_type": "markdown",
   "id": "759d7f7a-e3f6-459c-bb56-522e10cfea84",
   "metadata": {
    "jp-MarkdownHeadingCollapsed": true
   },
   "source": [
    "## GNN heuristic"
   ]
  },
  {
   "cell_type": "markdown",
   "id": "02ad92a8-05ca-4a68-a858-17c5c6cc2e68",
   "metadata": {},
   "source": [
    "### Model definition"
   ]
  },
  {
   "cell_type": "markdown",
   "id": "8c043617-81b8-4ba8-a5fc-a0a946b18445",
   "metadata": {},
   "source": [
    "For the observations of the GNN model, we **copy the whole disjunctive graph** for each state. Alternatively, we could use some sort of masking for non-final states."
   ]
  },
  {
   "cell_type": "code",
   "execution_count": null,
   "id": "61b56bb8-1053-4266-8ee5-2c5b72e7f122",
   "metadata": {},
   "outputs": [],
   "source": [
    "from torch.nn.functional import relu\n",
    "from torch.nn import Sequential, Linear, ReLU, BatchNorm1d\n",
    "from torch_geometric.nn import GINConv\n",
    "\n",
    "class GNNModel(nn.Module):\n",
    "\n",
    "    def __init__(self):\n",
    "        super().__init__()\n",
    "        # we need a separate layer for the first iteration, because the initial\n",
    "        # feature dimension in different from the node embedding dimension\n",
    "        lin0 = Sequential(Linear(1, 16), ReLU(), Linear(16, 32), ReLU(), BatchNorm1d(32))\n",
    "        self.gin0 = GINConv(lin0, train_eps=True)\n",
    "\n",
    "        lin1 = Sequential(Linear(32, 32), ReLU(), Linear(32, 32), ReLU(), BatchNorm1d(32))\n",
    "        self.gin1 = GINConv(lin1, train_eps=True)\n",
    "\n",
    "        lin2 = Sequential(Linear(32, 32), ReLU(), Linear(32, 32), ReLU(), BatchNorm1d(32))\n",
    "        self.gin2 = GINConv(lin2, train_eps=True)\n",
    "        \n",
    "        self.lin1 = Linear(32, 32)\n",
    "        self.lin2 = Linear(32, 16)\n",
    "        self.lin3 = Linear(16, 1)\n",
    "\n",
    "    def forward(self, data):\n",
    "        x, edge_index = data.x, data.edge_index\n",
    "\n",
    "        x = self.gin0(x, edge_index)\n",
    "        x = self.gin1(x, edge_index)\n",
    "        #x = self.gin2(x, edge_index)\n",
    "\n",
    "        x = self.lin1(x)\n",
    "        x = relu(x)\n",
    "        x = self.lin2(x)\n",
    "        x = relu(x)\n",
    "        x = self.lin3(x)\n",
    "\n",
    "        return x.squeeze()\n",
    "    \n",
    "    def state_transform(self, automaton):\n",
    "        state = automaton.D.copy()\n",
    "        # remove all edges connecting to or from nodes that are done\n",
    "        state.remove_done_edges()\n",
    "        return state\n",
    "\n",
    "    def  inverse_action_transform(self, automaton, r, v):\n",
    "        # Instead of (r, v) pairs, which are used in the automaton, we\n",
    "        # use the full (r, k, v) tuple, like in Zhang et al., where they\n",
    "        # use the full operation a_t = O_{ij} as action.\n",
    "        k = automaton.unscheduled[r, v][0]\n",
    "        return r, k, v\n",
    "\n",
    "gnn_model = GNNModel()"
   ]
  },
  {
   "cell_type": "markdown",
   "id": "487fafd8-0799-45d5-89f6-f63af9aa7ab7",
   "metadata": {},
   "source": [
    "### Training"
   ]
  },
  {
   "cell_type": "markdown",
   "id": "5a39d0e9-b51c-494a-9bf2-5f81815a7c0e",
   "metadata": {},
   "source": [
    "Collect all the state-action pairs in a single dataset to support mini-batching via the `DataLoader` class."
   ]
  },
  {
   "cell_type": "code",
   "execution_count": 152,
   "id": "4e2c6c63-5ac0-44f1-a994-133c9747f018",
   "metadata": {},
   "outputs": [],
   "source": [
    "from torch_geometric.loader import DataLoader\n",
    "from torch_geometric.utils.convert import from_networkx\n",
    "from util import vehicle_indices, route_indices\n",
    "\n",
    "# force double during conversion\n",
    "torch.set_default_dtype(torch.float32)\n",
    "\n",
    "instance = generate_simple_instance(G, routes, arrivals_per_route=A)\n",
    "automaton = Automaton(instance)\n",
    "# actions are all vehicle-intersection pairs\n",
    "valid_gnn_actions = list(automaton.D.nodes)\n",
    "\n",
    "def generate_graphs(G, routes):\n",
    "    \"\"\"Generate a set of graphs based on optimal schedules.\"\"\"\n",
    "    graphs = []\n",
    "    for instance, y in train_data:\n",
    "        states, actions, _ = collect_state_action_pairs(instance, y, model)\n",
    "        for state, action in zip(states, actions):        \n",
    "            graph = from_networkx(state, group_node_attrs=['LB'])\n",
    "            graph.action = valid_gnn_actions.index(action) # map to integers indices\n",
    "            graphs.append(graph)\n",
    "    return graphs"
   ]
  },
  {
   "cell_type": "markdown",
   "id": "249123d5-180a-47d6-97d5-55f985b5cf88",
   "metadata": {},
   "source": [
    "What are the following attributes:\n",
    "\n",
    "- label\n",
    "- weight\n",
    "- batch: index of graph to which this node belongs\n",
    "- ptr"
   ]
  },
  {
   "cell_type": "markdown",
   "id": "7acda4ba-85df-477e-a6be-1d168dd269af",
   "metadata": {},
   "source": [
    "**Assumption**: node order (see `batch.label`) is the same among all state graphs."
   ]
  },
  {
   "cell_type": "code",
   "execution_count": null,
   "id": "2fe94ad9-c23c-4ab4-875f-55bf82d60e07",
   "metadata": {},
   "outputs": [],
   "source": [
    "def stacked_batch(batch, indices):\n",
    "    \"\"\"Transform a 'flat batch' of dimension (N*B), where N is number of graphs\n",
    "    in batch and B is number of nodes per graph, to a 'stacked batch' of\n",
    "    dimension (N, B), based on batch indices `batch.batch`.\"\"\"\n",
    "    unique = torch.unique(indices)\n",
    "    return torch.vstack([batch[indices == i] for i in unique])\n",
    "\n",
    "data_train = DataLoader(generate_data(G, routes, N), batch_size=10, shuffle=True)"
   ]
  },
  {
   "cell_type": "markdown",
   "id": "aee8c003-9dc7-4712-b197-b14ef48b9eb2",
   "metadata": {},
   "source": [
    "We now have the following classification task: map disjunctive **graph** to an **action** (route-intersection pair). We use a GIN to compute an embedding for each node, which is fed through an MLP and softmax to produce a probability over nodes. In Zhang et al., each action corresponds to a unique node, encoding the operations that is dispatched next. However, we only really need to provide a route-intersection pair, but **how to exploit this in the policy model**?"
   ]
  },
  {
   "cell_type": "markdown",
   "id": "80dbc2f0-a4c3-49dc-9250-87a9fb566150",
   "metadata": {},
   "source": [
    "The GNN computes node embeddings, which are mapped to a score for each node. We compute the softmax over the scores of the nodes and then compute the negative log likelihood loss for backpropagation."
   ]
  },
  {
   "cell_type": "code",
   "execution_count": null,
   "id": "30fd4a6e-dcd1-4381-b342-dabb21891cc0",
   "metadata": {
    "scrolled": true
   },
   "outputs": [],
   "source": [
    "from torch.nn.functional import cross_entropy\n",
    "\n",
    "learning_rate = 1e-5\n",
    "optimizer = torch.optim.Adam(model.parameters(), lr=learning_rate)\n",
    "epochs = 20\n",
    "print(\"\\ntraining model\\n\")\n",
    "model.train()\n",
    "for i in range(epochs):\n",
    "    loss_total = 0\n",
    "    print(f'epoch: {i}')\n",
    "    for batch in data_train:\n",
    "        optimizer.zero_grad()\n",
    "        # compute node scores\n",
    "        y = model(batch)\n",
    "        y = y.masked_fill(~batch.action_mask.bool(), -torch.inf) # ignore invalid\n",
    "        # restack for loss calculation\n",
    "        pred = stacked_batch(y, batch.batch)\n",
    "        target = batch.action\n",
    "        loss = cross_entropy(pred, target)\n",
    "        loss.backward()\n",
    "        loss_total += loss\n",
    "        optimizer.step()\n",
    "    print(f\"loss: {loss_total.item()}\")"
   ]
  },
  {
   "cell_type": "markdown",
   "id": "ba12de3f-c53e-450f-a104-d65ef4c48991",
   "metadata": {},
   "source": [
    "### Evaluate imitation of GNN policy"
   ]
  },
  {
   "cell_type": "code",
   "execution_count": null,
   "id": "e2531231-394c-4fbf-92d9-243fd9dd4f71",
   "metadata": {},
   "outputs": [],
   "source": [
    "from torch import argmax\n",
    "\n",
    "def evaluate_imitation(model, N=100):\n",
    "    \"\"\"Measure accuracy based on unseen expert demonstration state-action pairs.\"\"\"\n",
    "    model.eval()\n",
    "    print(\"\\ngenerating test data\\n\")\n",
    "    data_test = DataLoader(generate_data(G, routes, N))\n",
    "    total_correct = 0\n",
    "    print(\"\\nevaluating imitation accuracy\\n\")\n",
    "    for batch in tqdm(data_test):\n",
    "        # compute node scores\n",
    "        y = model(batch)\n",
    "        # mask invalid actions (set to -inf)\n",
    "        y = y.masked_fill(~batch.action_mask.bool(), -torch.inf)\n",
    "        # restack for loss calculation\n",
    "        pred = stacked_batch(y, batch.batch)\n",
    "        pred = argmax(pred, dim=1)\n",
    "        target = batch.action\n",
    "        total_correct += pred == target\n",
    "    print(f\"accuracy: {total_correct.item() / len(data_test)}\")"
   ]
  },
  {
   "cell_type": "code",
   "execution_count": null,
   "id": "a1897aef-dc6e-4306-ba23-51d944e82e05",
   "metadata": {},
   "outputs": [],
   "source": [
    "evaluate_imitation(model)"
   ]
  },
  {
   "cell_type": "markdown",
   "id": "895bd144-8972-4f42-9c17-1385e74f13d9",
   "metadata": {},
   "source": [
    "### Evaluate scheduling of GNN policy"
   ]
  },
  {
   "cell_type": "markdown",
   "id": "8af7f05b-9379-4e89-9d93-b9e881af3515",
   "metadata": {},
   "source": [
    "Current definition of objective in `exact.py` is total sum of crossing times, including at exit points."
   ]
  },
  {
   "cell_type": "code",
   "execution_count": null,
   "id": "d2f61be9-2fd6-4adb-882c-08824aea8e47",
   "metadata": {},
   "outputs": [],
   "source": [
    "from torch import masked_select\n",
    "\n",
    "def evaluate_scheduling(model, N=100):\n",
    "    \"\"\"Evaluate average objective when executing the policy over full\n",
    "    unseen problem instances compared to average optimal objective.\"\"\"\n",
    "    print(\"\\nevaluating policy\\n\")\n",
    "    model.eval()\n",
    "    obj_opt = 0\n",
    "    obj_model = 0\n",
    "    for _ in trange(N):\n",
    "        instance = generate_simple_instance(G, routes, arrivals_per_route=A)\n",
    "\n",
    "        # solve optimally\n",
    "        y, obj = solve(instance)\n",
    "        obj_opt += obj\n",
    "\n",
    "        # TEST objective definition\n",
    "        # _, actions, _ = collect_state_action_pairs(instance, y)\n",
    "\n",
    "        # execute learned heuristic\n",
    "        automaton = Automaton(instance)\n",
    "        while not automaton.done:\n",
    "            state = automaton.D\n",
    "            graph = from_networkx(state, group_node_attrs=['LB'])\n",
    "            # compute node scores\n",
    "            y = model(graph)\n",
    "            # mask invalid actions (set to -inf)\n",
    "            y = y.masked_fill(~graph.action_mask.bool(), -torch.inf)\n",
    "            y = argmax(y)\n",
    "            # translate index back to actual action\n",
    "            action = valid_gnn_actions[y]\n",
    "            r, k, v = action\n",
    "            # execute action on automaton\n",
    "            automaton.step(r, v)\n",
    "\n",
    "        # TEST objective definition\n",
    "        # for action in actions:\n",
    "        #     r, k, v = action\n",
    "        #     automaton.step(r, v)\n",
    "\n",
    "        # compute obj from automaton\n",
    "        obj_model += automaton.get_obj()\n",
    "\n",
    "    print(f\"obj_opt={obj_opt / N} vs obj_model={obj_model / N}\")\n",
    "    print(f\"approximation ratio={obj_model / obj_opt}\")"
   ]
  },
  {
   "cell_type": "code",
   "execution_count": null,
   "id": "45cd41aa-95e0-4da4-828e-41a6ed3e6c21",
   "metadata": {},
   "outputs": [],
   "source": [
    "evaluate_scheduling(model)"
   ]
  },
  {
   "cell_type": "markdown",
   "id": "b110a5b8-84f2-4512-9eb7-70634a6c2aa0",
   "metadata": {},
   "source": [
    "## RNN heuristics"
   ]
  },
  {
   "cell_type": "markdown",
   "id": "f0cd81cf-7078-4a08-816f-59425d3ca66d",
   "metadata": {
    "jp-MarkdownHeadingCollapsed": true
   },
   "source": [
    "### Extract expert demonstration"
   ]
  },
  {
   "cell_type": "markdown",
   "id": "770ce421-f8e7-42eb-8a17-c74bb78b4afb",
   "metadata": {},
   "source": [
    "The observations for the RNN model are the collection of _horizons_ for each route-intersection pair and flags that indicate which route was served during the last step of the automaton. We truncate the horizons and store them in reverse order, as required by the RNN embedding."
   ]
  },
  {
   "cell_type": "code",
   "execution_count": 8,
   "id": "7cc29bef-28e6-4cd4-a4db-2ebcc084311b",
   "metadata": {},
   "outputs": [],
   "source": [
    "def state_transform(automaton, max_horizon=5):\n",
    "    # compute minimum LB across all unscheduled nodes in disjunctive graph\n",
    "    LBs = []\n",
    "    for _, data in automaton.D.nodes(data=True):\n",
    "        if not data['done']:\n",
    "            LBs.append(data['LB'])\n",
    "    min_LB = min(LBs)\n",
    "\n",
    "    n_crossings = len(automaton.crossing_indices)\n",
    "\n",
    "    # flag: crossing done\n",
    "    done = torch.zeros((n_crossings, 1))\n",
    "    # flag: last scheduled route at intersection (0 before first action)\n",
    "    last = torch.zeros((n_crossings, 1))\n",
    "    # (truncated) horizon\n",
    "    length = torch.zeros((n_crossings, 1))\n",
    "    obs = torch.zeros((n_crossings, max_horizon))\n",
    "\n",
    "    for i, (r, v) in enumerate(automaton.crossing_indices):\n",
    "        done[i] = (r, v) not in automaton.pending_crossings\n",
    "        if automaton.last_route[v] is not None:\n",
    "            last[i] = int(automaton.last_route[v] == r)\n",
    "            \n",
    "        horizon_length = min(len(automaton.unscheduled[r, v]), max_horizon)\n",
    "        length[i] = horizon_length\n",
    "        if horizon_length > 0:\n",
    "            full_horizon = [automaton.D.nodes[r, k, v]['LB'] for k in automaton.unscheduled[r, v]]\n",
    "            # subtract minimal LB and truncate to max_horizon in reverse order\n",
    "            obs[i, :horizon_length] = torch.tensor(list(reversed(full_horizon[:horizon_length]))) - min_LB\n",
    "\n",
    "    # first bool is \"done flag\", second bool is \"last route flag\",\n",
    "    # third number indicates length of the horizon, rest is padded horizon\n",
    "    return torch.hstack([done, last, length, obs])"
   ]
  },
  {
   "cell_type": "markdown",
   "id": "55c3374b-5b43-4a64-a97d-6a5536b96583",
   "metadata": {},
   "source": [
    "Backtrack state-action pairs from optimal schedules. We could also say \"observation\"-action pairs, because the above static transformation is applied. Note that the global order of actions is not unique: the order in which intersections are considered does not matter for the final schedule. Therefore, we can pick any or multiple sequences of intersections and replay the corresponding sequence of actions on the automaton to generate the corresponding sequence of observation-action pairs that act as the expert demonstration. More precisely, we use the single action lookahead strategy to generate state-actions pairs. At every state, we store for each intersection the local route index for the route in the optimal local order. The function `intersection_order` determines at which intersection the action is actually taken to move to the next state."
   ]
  },
  {
   "cell_type": "code",
   "execution_count": 47,
   "id": "438b1ae0-3226-4914-ac38-8596dfe00488",
   "metadata": {},
   "outputs": [],
   "source": [
    "def extract_state_action_pairs(instance, opt_route_order, intersection_order):\n",
    "    \"\"\"Backtrack observations and actions for the optimal schedule.\"\"\"\n",
    "    states, actions = [], []\n",
    "    # deep copy of route_order with reversed lists to use as stacks\n",
    "    route_order = { v: list(reversed(opt_route_order[v])) for v in opt_route_order }\n",
    "    automaton = Automaton(instance)\n",
    "    while not automaton.done:\n",
    "        states.append(state_transform(automaton))\n",
    "\n",
    "        # add all valid action indices: index of next local route at each intersection\n",
    "        action = torch.full([len(automaton.G.intersections)], -1) # -1 is \"ignore_index\"\n",
    "        for v in automaton.pending_intersections:\n",
    "            r = route_order[v][-1]\n",
    "            r_index = automaton.routes_at_intersection[v].index(r)\n",
    "            action[automaton.G.intersections.index(v)] = r_index\n",
    "        actions.append(action)\n",
    "\n",
    "        # pick a single action that is actually executed\n",
    "        v = intersection_order(automaton)\n",
    "        r = route_order[v].pop()\n",
    "        automaton.step(r, v)\n",
    "\n",
    "    return states, actions"
   ]
  },
  {
   "cell_type": "markdown",
   "id": "1de99b05-466b-44bd-91e0-a6d70de41cb1",
   "metadata": {},
   "source": [
    "We define some fixed procedures to visit intersection during the state-action generation.\n",
    "\n",
    "1. Randomly pick some pending intersection to visit next.\n",
    "2. Keep visiting the same intersection until it is done, then move to the next. When state-action trajectories are visualized in a grid, these ones appear on the \"boundary\" of this state-action grid.\n",
    "3. Alternate between intersection to keep the number of scheduled vehicles balanced among them. These appear near the \"diagonal\" of the state-action grid."
   ]
  },
  {
   "cell_type": "code",
   "execution_count": 43,
   "id": "f39c7a00-0333-4cb7-b926-c120cbf60473",
   "metadata": {},
   "outputs": [],
   "source": [
    "from random import choice\n",
    "\n",
    "def alternate_intersection_order(automaton):\n",
    "    if automaton.last_intersection in automaton.pending_intersections and len(automaton.pending_intersections) >= 2:\n",
    "        # visit next intersection\n",
    "        i = automaton.pending_intersections.index(automaton.last_intersection)\n",
    "        return automaton.pending_intersections[(i + 1) % len(automaton.pending_intersections)]\n",
    "    else:\n",
    "        return automaton.pending_intersections[0]\n",
    "\n",
    "intersection_orders = {\n",
    "    'random': lambda automaton: choice(automaton.pending_intersections),\n",
    "    'boundary': lambda automaton: automaton.pending_intersections[0],\n",
    "    'alternate': alternate_intersection_order,\n",
    "}"
   ]
  },
  {
   "cell_type": "markdown",
   "id": "d0537624-bef0-4413-b44c-a9a480d7f4c1",
   "metadata": {},
   "source": [
    "Collect all the state-action pairs for the training instances, using different sampling strategies. We store the tuple of (states, actions) as an object in a pandas DataFrame cell for convenient access."
   ]
  },
  {
   "cell_type": "code",
   "execution_count": 56,
   "id": "cdf526a1-18ad-4560-9855-41fa8606e84b",
   "metadata": {},
   "outputs": [
    {
     "data": {
      "application/vnd.jupyter.widget-view+json": {
       "model_id": "f6e5a8ec6ae048a8b23242a11d0ac3d1",
       "version_major": 2,
       "version_minor": 0
      },
      "text/plain": [
       "extracting 0 random:   0%|          | 0/500 [00:00<?, ?it/s]"
      ]
     },
     "metadata": {},
     "output_type": "display_data"
    },
    {
     "data": {
      "application/vnd.jupyter.widget-view+json": {
       "model_id": "e6303b25ec31476eb54fd3ca8bc2e9d1",
       "version_major": 2,
       "version_minor": 0
      },
      "text/plain": [
       "extracting 0 boundary:   0%|          | 0/500 [00:00<?, ?it/s]"
      ]
     },
     "metadata": {},
     "output_type": "display_data"
    },
    {
     "data": {
      "application/vnd.jupyter.widget-view+json": {
       "model_id": "c9655a72b66b463e89a3ff98d8b7cab1",
       "version_major": 2,
       "version_minor": 0
      },
      "text/plain": [
       "extracting 0 alternate:   0%|          | 0/500 [00:00<?, ?it/s]"
      ]
     },
     "metadata": {},
     "output_type": "display_data"
    },
    {
     "data": {
      "application/vnd.jupyter.widget-view+json": {
       "model_id": "82cd8a670d7e4e8fabf317b775ab3592",
       "version_major": 2,
       "version_minor": 0
      },
      "text/plain": [
       "extracting 1 random:   0%|          | 0/500 [00:00<?, ?it/s]"
      ]
     },
     "metadata": {},
     "output_type": "display_data"
    },
    {
     "data": {
      "application/vnd.jupyter.widget-view+json": {
       "model_id": "65a0ce4c673a4688a77d852c951fb706",
       "version_major": 2,
       "version_minor": 0
      },
      "text/plain": [
       "extracting 1 boundary:   0%|          | 0/500 [00:00<?, ?it/s]"
      ]
     },
     "metadata": {},
     "output_type": "display_data"
    },
    {
     "data": {
      "application/vnd.jupyter.widget-view+json": {
       "model_id": "1677c1989e6a422fb2fc2b4e7534caf6",
       "version_major": 2,
       "version_minor": 0
      },
      "text/plain": [
       "extracting 1 alternate:   0%|          | 0/500 [00:00<?, ?it/s]"
      ]
     },
     "metadata": {},
     "output_type": "display_data"
    },
    {
     "data": {
      "application/vnd.jupyter.widget-view+json": {
       "model_id": "80c3eb85362145c59a5401918b671d16",
       "version_major": 2,
       "version_minor": 0
      },
      "text/plain": [
       "extracting 2 random:   0%|          | 0/500 [00:00<?, ?it/s]"
      ]
     },
     "metadata": {},
     "output_type": "display_data"
    },
    {
     "data": {
      "application/vnd.jupyter.widget-view+json": {
       "model_id": "79b888132c2944ea8d2698bae74c1fc0",
       "version_major": 2,
       "version_minor": 0
      },
      "text/plain": [
       "extracting 2 boundary:   0%|          | 0/500 [00:00<?, ?it/s]"
      ]
     },
     "metadata": {},
     "output_type": "display_data"
    },
    {
     "data": {
      "application/vnd.jupyter.widget-view+json": {
       "model_id": "196689d9ab924ed9b3a3dcfd1f89d460",
       "version_major": 2,
       "version_minor": 0
      },
      "text/plain": [
       "extracting 2 alternate:   0%|          | 0/500 [00:00<?, ?it/s]"
      ]
     },
     "metadata": {},
     "output_type": "display_data"
    }
   ],
   "source": [
    "states_actions = pd.DataFrame(dtype=object, columns=intersection_orders.keys())\n",
    "for set_id in data.index:\n",
    "    for order_name, order in intersection_orders.items():\n",
    "        states, actions = [], []\n",
    "        for _, row in tqdm(train[set_id].iterrows(), desc=f\"extracting {set_id} {order_name}\", total=train[set_id].shape[0]):\n",
    "            ss, aa = extract_state_action_pairs(row['instance'], row['opt_route_order'], order)\n",
    "            states.extend(ss), actions.extend(aa)\n",
    "        states_actions.at[set_id, order_name] = (states, actions)\n",
    "\n",
    "states_actions.to_pickle(f'data/states_actions.pkl')"
   ]
  },
  {
   "cell_type": "markdown",
   "id": "31f15cc2-ef0f-4ef8-9a12-5ea752b43fa1",
   "metadata": {},
   "source": [
    "As a sanity check, we replay the actions for a single instance in the 'boundary' order and verify whether we end up with the same objective."
   ]
  },
  {
   "cell_type": "code",
   "execution_count": 57,
   "id": "b97a5c7f-0cf5-4596-ae81-19ff751212a5",
   "metadata": {},
   "outputs": [],
   "source": [
    "set_id = 0\n",
    "\n",
    "# actions were stored sorted, so the first few belong to the first training instance\n",
    "row = train[set_id].iloc[0] # first training instance\n",
    "_, actions = states_actions['boundary'][set_id]\n",
    "actions = iter(actions)\n",
    "\n",
    "# replay actions\n",
    "automaton = Automaton(row['instance'])\n",
    "while not automaton.done:\n",
    "    action = next(actions)\n",
    "    v = automaton.pending_intersections[0] # 'boundary'\n",
    "    ri = action[automaton.G.intersections.index(v)]\n",
    "    r = automaton.routes_at_intersection[v][ri]\n",
    "    automaton.step(r, v)\n",
    "\n",
    "opt_y = row['opt_y'] # check with optimal schedule\n",
    "for node, LB in automaton.D.nodes.data('LB'):\n",
    "    assert math.isclose(LB, opt_y[node]), \"crossing times do not match\"\n",
    "\n",
    "assert automaton.done, \"automaton not done\"\n",
    "assert math.isclose(row['opt_obj'], automaton.get_obj()), \"final objectives do not match\""
   ]
  },
  {
   "cell_type": "markdown",
   "id": "690978c9-d1d7-4b1a-ac48-5e73fa5ff31c",
   "metadata": {},
   "source": [
    "Load stored expert demonstration from disk."
   ]
  },
  {
   "cell_type": "code",
   "execution_count": 855,
   "id": "2fa5bc04-3cfc-4dad-a394-9bca26c0cf09",
   "metadata": {},
   "outputs": [],
   "source": [
    "states_actions = pd.read_pickle(f'data/states_actions.pkl')"
   ]
  },
  {
   "cell_type": "markdown",
   "id": "532b5584-510a-4ae9-8ffe-08a43d2f44e7",
   "metadata": {
    "jp-MarkdownHeadingCollapsed": true
   },
   "source": [
    "### Model definition"
   ]
  },
  {
   "cell_type": "code",
   "execution_count": 58,
   "id": "30b622a0-4331-460d-8441-d0fe648b5c52",
   "metadata": {},
   "outputs": [],
   "source": [
    "def packed_last_items(pack, lengths):\n",
    "    \"\"\"Obtain the last item for each sequence in a batch of packed sequences `pack`.\"\"\"\n",
    "    # see: https://discuss.pytorch.org/t/get-each-sequences-last-item-from-packed-sequence/41118/7\n",
    "    sum_batch_sizes = torch.cat((\n",
    "        torch.zeros(2, dtype=torch.int64),\n",
    "        torch.cumsum(pack.batch_sizes, 0)\n",
    "    ))\n",
    "    sorted_lengths = lengths[pack.sorted_indices.cpu()]\n",
    "    last_seq_idxs = sum_batch_sizes[sorted_lengths] + torch.arange(lengths.size(0))\n",
    "    last_seq_items = pack.data[last_seq_idxs]\n",
    "    last_seq_items = last_seq_items[pack.unsorted_indices]\n",
    "    return last_seq_items"
   ]
  },
  {
   "cell_type": "code",
   "execution_count": 59,
   "id": "56aacf5a-2b65-4ea7-a185-6e61d8a5c85a",
   "metadata": {},
   "outputs": [],
   "source": [
    "from torch.nn.utils.rnn import pack_padded_sequence\n",
    "\n",
    "class RnnGridModel(nn.Module):\n",
    "    def __init__(self, n_intersections):\n",
    "        super().__init__()\n",
    "        self.n_intersections = n_intersections\n",
    "        self.n_crossings = 2 * n_intersections\n",
    "        \n",
    "        self.d1 = self.n_intersections  # number of labels to predict\n",
    "        self.C = 2                      # number of classes\n",
    "\n",
    "        self.rnn_out = 16\n",
    "        self.rnns = nn.ModuleList([\n",
    "            nn.RNN(1, self.rnn_out, batch_first=True) for _ in range(self.n_crossings)\n",
    "        ])\n",
    "        self.network = nn.Sequential(\n",
    "            nn.Linear(self.n_crossings * (2 + self.rnn_out), 128),\n",
    "            nn.BatchNorm1d(128),\n",
    "            nn.ReLU(),\n",
    "            nn.Linear(128, 64),\n",
    "            nn.BatchNorm1d(64),\n",
    "            nn.ReLU(),\n",
    "            nn.Linear(64, self.n_crossings),\n",
    "        )\n",
    "\n",
    "    @property\n",
    "    def device(self):\n",
    "        return next(self.parameters()).device\n",
    "\n",
    "    def forward(self, obs):\n",
    "        batch_size = obs.size()[0]\n",
    "        rnn_embeds = []\n",
    "\n",
    "        if batch_size == 1: # single batch processing (use for faster non-parallelized evaluation)\n",
    "            for c in range(self.n_crossings):\n",
    "                length = int(obs[0, c, 2].item())\n",
    "                if length == 0:\n",
    "                    rnn_embeds.append(torch.zeros((1, self.rnn_out)))\n",
    "                else:\n",
    "                    horizon = obs[0, c, 3:3+length]\n",
    "                    out, _ = self.rnns[c](horizon.unsqueeze(1)) # add dimension as required by RNN\n",
    "                    rnn_embeds.append(out[-1].unsqueeze(0))\n",
    "        \n",
    "        else: # batch processing (use while training)\n",
    "            for c in range(self.n_crossings):\n",
    "                lengths = obs[:, c, 2].cpu().int()\n",
    "                seq = obs[:, c, 3:].unsqueeze(-1)\n",
    "                # clamp lengths to 1 to deal with empty sequences (as suggested at https://github.com/pytorch/pytorch/issues/4582#issuecomment-589905631)\n",
    "                packed = pack_padded_sequence(seq, lengths.clamp(min=1), batch_first=True, enforce_sorted=False)\n",
    "                out, _ = self.rnns[c](packed)\n",
    "                # get hidden output at last t for each sequence\n",
    "                last_seq_items = packed_last_items(out, lengths)\n",
    "                # set outputs zero for empty sequences (as suggested at https://github.com/pytorch/pytorch/issues/4582#issuecomment-589905631)\n",
    "                last_seq_items.masked_fill_((lengths == 0).view(-1, 1).to(self.device), 0)\n",
    "                rnn_embeds.append(last_seq_items)\n",
    "\n",
    "        # stack at dimension of crossings\n",
    "        rnn_embed = torch.stack(rnn_embeds, dim=1)\n",
    "        embedding = torch.cat([obs[:, :, 0:2], rnn_embed], dim=2)\n",
    "        embedding = torch.flatten(embedding, 1, 2)\n",
    "\n",
    "        out = self.network(embedding)\n",
    "        return torch.reshape(out, (batch_size, self.d1, self.C))\n",
    "\n",
    "    def action_transform(self, automaton, out, v):\n",
    "        batch_size = out.size()[0]\n",
    "        assert batch_size == 1, \"Currently supports only single batches.\"\n",
    "\n",
    "        # get intersection index\n",
    "        vi = automaton.G.intersections.index(v)\n",
    "        out = out[0, vi, :]\n",
    "\n",
    "        # mask crossings that are done\n",
    "        for r in automaton.routes_at_intersection[v]:\n",
    "            if (r, v) not in automaton.pending_crossings:\n",
    "                ri = automaton.routes_at_intersection[v].index(r)\n",
    "                out[ri] = -torch.inf\n",
    "\n",
    "        ri = torch.argmax(out) # greedy inference\n",
    "        # translate index back to actual action\n",
    "        r = automaton.routes_at_intersection[v][ri]\n",
    "        return r, v\n",
    "\n",
    "    def heuristic(self, automaton, v):\n",
    "        s = state_transform(automaton).unsqueeze(0).to(self.device)\n",
    "        return self.action_transform(automaton, self.forward(s), v)"
   ]
  },
  {
   "cell_type": "markdown",
   "id": "867788e2-3cbf-4d6e-8e91-bae60def2052",
   "metadata": {},
   "source": [
    "### Training and reporting"
   ]
  },
  {
   "cell_type": "code",
   "execution_count": 60,
   "id": "8b913336-40ae-4ab2-967a-0b2808e400d5",
   "metadata": {},
   "outputs": [],
   "source": [
    "from torch.utils.data import TensorDataset, DataLoader\n",
    "from torch.nn.functional import cross_entropy\n",
    "\n",
    "neural_train_losses = []\n",
    "\n",
    "total_steps = 3000  # = total number of batches\n",
    "\n",
    "def train_rnn(train, model, set_id):    \n",
    "    # load expert demonstration data onto CPU/GPU\n",
    "    states, actions = states_actions['alternate'][set_id]\n",
    "    states = torch.stack(states).to(model.device)\n",
    "    actions = torch.stack(actions).to(model.device)\n",
    "\n",
    "    batch_size = 40\n",
    "    train_set = TensorDataset(states, actions)    \n",
    "    train_loader = DataLoader(train_set, batch_size=batch_size, shuffle=True)\n",
    "\n",
    "    learning_rate = 1e-4\n",
    "    optimizer = torch.optim.Adam(model.parameters(), lr=learning_rate)\n",
    "\n",
    "    train_losses = []\n",
    "    with tqdm(total=total_steps, desc=f\"{set_id} training\", leave=False) as pbar:\n",
    "        step = 0\n",
    "        model.train()\n",
    "        while True:\n",
    "            for s, a in train_loader:\n",
    "                optimizer.zero_grad()\n",
    "                # model outputs (N, d1, C), but cross_entropy() expects (N, C, d1)\n",
    "                out = model(s).transpose(1, 2)\n",
    "                loss = cross_entropy(out, a, ignore_index=-1)\n",
    "                loss.backward()\n",
    "                optimizer.step()\n",
    "                train_losses.append(loss.item())\n",
    "\n",
    "                step += 1\n",
    "                pbar.update(1)\n",
    "\n",
    "                if step >= total_steps: break # ...out of inner loop\n",
    "            if step >= total_steps: break # ...out of outer loop\n",
    "\n",
    "    neural_train_losses.append(train_losses)\n",
    "\n",
    "    return model"
   ]
  },
  {
   "cell_type": "code",
   "execution_count": 61,
   "id": "81ec30f0-e8cd-4b59-810a-0cfc4c96aa7b",
   "metadata": {},
   "outputs": [],
   "source": [
    "def eval_rnn(train, test, set_id):\n",
    "    n_intersections = data['grid_n'][set_id] * data['grid_m'][set_id]\n",
    "    model = RnnGridModel(n_intersections).cpu()\n",
    "    model = train_rnn(train, model, set_id)\n",
    "    model.eval().cpu() # avoid passing data back-and-forth between cpu and gpu\n",
    "\n",
    "    def eval_scheduling(row):\n",
    "        automaton = Automaton(row['instance'])\n",
    "        while not automaton.done:       \n",
    "            v = intersection_orders['alternate'](automaton)\n",
    "            automaton.step(*model.heuristic(automaton, v))\n",
    "        return automaton.get_obj()\n",
    "\n",
    "    tqdm.pandas(desc=f\"{set_id} evaluating\")\n",
    "    return test.progress_apply(eval_scheduling, axis=1, result_type='expand').mean()"
   ]
  },
  {
   "cell_type": "code",
   "execution_count": 62,
   "id": "3dc6cea7-8b11-4fe2-a08a-2ca5d2f100e3",
   "metadata": {},
   "outputs": [
    {
     "data": {
      "application/vnd.jupyter.widget-view+json": {
       "model_id": "",
       "version_major": 2,
       "version_minor": 0
      },
      "text/plain": [
       "0 training:   0%|          | 0/3000 [00:00<?, ?it/s]"
      ]
     },
     "metadata": {},
     "output_type": "display_data"
    },
    {
     "data": {
      "application/vnd.jupyter.widget-view+json": {
       "model_id": "cf48a0bf51c14187907d72c44c6189b1",
       "version_major": 2,
       "version_minor": 0
      },
      "text/plain": [
       "0 evaluating:   0%|          | 0/100 [00:00<?, ?it/s]"
      ]
     },
     "metadata": {},
     "output_type": "display_data"
    },
    {
     "data": {
      "application/vnd.jupyter.widget-view+json": {
       "model_id": "",
       "version_major": 2,
       "version_minor": 0
      },
      "text/plain": [
       "1 training:   0%|          | 0/3000 [00:00<?, ?it/s]"
      ]
     },
     "metadata": {},
     "output_type": "display_data"
    },
    {
     "data": {
      "application/vnd.jupyter.widget-view+json": {
       "model_id": "14f2b9e91ad34386bfbf8540e850a9b7",
       "version_major": 2,
       "version_minor": 0
      },
      "text/plain": [
       "1 evaluating:   0%|          | 0/100 [00:00<?, ?it/s]"
      ]
     },
     "metadata": {},
     "output_type": "display_data"
    },
    {
     "data": {
      "application/vnd.jupyter.widget-view+json": {
       "model_id": "",
       "version_major": 2,
       "version_minor": 0
      },
      "text/plain": [
       "2 training:   0%|          | 0/3000 [00:00<?, ?it/s]"
      ]
     },
     "metadata": {},
     "output_type": "display_data"
    },
    {
     "data": {
      "application/vnd.jupyter.widget-view+json": {
       "model_id": "54d6db0596de4f828702199089edc7bb",
       "version_major": 2,
       "version_minor": 0
      },
      "text/plain": [
       "2 evaluating:   0%|          | 0/100 [00:00<?, ?it/s]"
      ]
     },
     "metadata": {},
     "output_type": "display_data"
    }
   ],
   "source": [
    "for set_id in [0, 1, 2]:\n",
    "    data.loc[set_id, 'rnn_obj'] = eval_rnn(train[set_id], test[set_id], set_id)"
   ]
  },
  {
   "cell_type": "code",
   "execution_count": 63,
   "id": "417013b6-3797-4c08-939f-d2cec5ba3763",
   "metadata": {},
   "outputs": [],
   "source": [
    "# take mean objective and running time over all test instances\n",
    "data['opt_obj'] = data.apply(lambda row: test[row.name]['opt_obj'].mean(), axis=1)\n",
    "data['opt_time'] = data.apply(lambda row: test[row.name]['opt_time'].mean(), axis=1)\n",
    "\n",
    "# compute (relative) approximation ratio\n",
    "data['rnn_gap'] = data.apply(lambda row: row['rnn_obj'] / row['opt_obj'], axis=1)\n",
    "data['exhaustive_gap'] = data.apply(lambda row: row['exhaustive_obj'] / row['opt_obj'], axis=1)"
   ]
  },
  {
   "cell_type": "code",
   "execution_count": 64,
   "id": "9c2e9f4f-e19b-4e3c-87e1-ea1c4c741c17",
   "metadata": {},
   "outputs": [
    {
     "data": {
      "text/html": [
       "<div>\n",
       "<style scoped>\n",
       "    .dataframe tbody tr th:only-of-type {\n",
       "        vertical-align: middle;\n",
       "    }\n",
       "\n",
       "    .dataframe tbody tr th {\n",
       "        vertical-align: top;\n",
       "    }\n",
       "\n",
       "    .dataframe thead th {\n",
       "        text-align: right;\n",
       "    }\n",
       "</style>\n",
       "<table border=\"1\" class=\"dataframe\">\n",
       "  <thead>\n",
       "    <tr style=\"text-align: right;\">\n",
       "      <th></th>\n",
       "      <th>n_arrivals</th>\n",
       "      <th>grid_m</th>\n",
       "      <th>grid_n</th>\n",
       "      <th>exhaustive_gap</th>\n",
       "      <th>rnn_gap</th>\n",
       "    </tr>\n",
       "  </thead>\n",
       "  <tbody>\n",
       "    <tr>\n",
       "      <th>0</th>\n",
       "      <td>5</td>\n",
       "      <td>2</td>\n",
       "      <td>1</td>\n",
       "      <td>1.114453</td>\n",
       "      <td>1.011592</td>\n",
       "    </tr>\n",
       "    <tr>\n",
       "      <th>1</th>\n",
       "      <td>5</td>\n",
       "      <td>3</td>\n",
       "      <td>1</td>\n",
       "      <td>1.154376</td>\n",
       "      <td>1.017044</td>\n",
       "    </tr>\n",
       "    <tr>\n",
       "      <th>2</th>\n",
       "      <td>5</td>\n",
       "      <td>3</td>\n",
       "      <td>2</td>\n",
       "      <td>1.183186</td>\n",
       "      <td>1.022486</td>\n",
       "    </tr>\n",
       "  </tbody>\n",
       "</table>\n",
       "</div>"
      ],
      "text/plain": [
       "   n_arrivals  grid_m  grid_n  exhaustive_gap   rnn_gap\n",
       "0           5       2       1        1.114453  1.011592\n",
       "1           5       3       1        1.154376  1.017044\n",
       "2           5       3       2        1.183186  1.022486"
      ]
     },
     "execution_count": 64,
     "metadata": {},
     "output_type": "execute_result"
    }
   ],
   "source": [
    "data[['n_arrivals', 'grid_m', 'grid_n', 'exhaustive_gap', 'rnn_gap']]"
   ]
  },
  {
   "cell_type": "code",
   "execution_count": 65,
   "id": "9cdd80f4-d48b-41d0-b7d7-2d8b66d63c56",
   "metadata": {},
   "outputs": [
    {
     "data": {
      "image/png": "[encoded data removed]",
      "text/plain": [
       "<Figure size 1000x1000 with 3 Axes>"
      ]
     },
     "metadata": {},
     "output_type": "display_data"
    }
   ],
   "source": [
    "fig = plt.figure(figsize=(10,10))\n",
    "gs = fig.add_gridspec(nrows=len(neural_train_losses), ncols=1, hspace=0.1, wspace=0.1)\n",
    "axes = gs.subplots(sharex=True, sharey=True)\n",
    "\n",
    "for ax, train_losses in zip(axes.T.flatten(), neural_train_losses):\n",
    "    ax.plot(train_losses, alpha=0.8, label='training')\n",
    "    \n",
    "for ax, label in zip(axes, ['0', '1', '2']):\n",
    "    ax.set_ylabel(label, size=15)\n",
    "\n",
    "plt.savefig(f'neural_fit.pdf')\n",
    "plt.show()"
   ]
  },
  {
   "cell_type": "code",
   "execution_count": null,
   "id": "c99ab726-4f74-4b1d-a68c-989a5a075899",
   "metadata": {},
   "outputs": [],
   "source": []
  }
 ],
 "metadata": {
  "kernelspec": {
   "display_name": "Python 3 (ipykernel)",
   "language": "python",
   "name": "python3"
  },
  "language_info": {
   "codemirror_mode": {
    "name": "ipython",
    "version": 3
   },
   "file_extension": ".py",
   "mimetype": "text/x-python",
   "name": "python",
   "nbconvert_exporter": "python",
   "pygments_lexer": "ipython3",
   "version": "3.12.3"
  }
 },
 "nbformat": 4,
 "nbformat_minor": 5
}
