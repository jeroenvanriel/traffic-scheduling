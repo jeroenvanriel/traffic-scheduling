{
 "cells": [
  {
   "cell_type": "markdown",
   "id": "44b7b6fc-7d10-4c4c-b875-507547670f19",
   "metadata": {},
   "source": [
    "## Vehicle update order"
   ]
  },
  {
   "cell_type": "markdown",
   "id": "60b98974-fe1a-4b43-abd0-072632783fc8",
   "metadata": {},
   "source": [
    "Suppose we want to perform a discrete-event simulation with online (re)planning of crossing times upon new arrivals to the network. In that case, we need to be careful in which order we move the vehicles forward such that the follow constraints are satisfied at all times. This roughly means that the vehicle furthest on a route needs to be processed before all other vehicles on that route. All these types of precedence constraints give rise to a certain \"vehicle update order\", which can be directly computed from the disjunctive graph, when available, but we can also use the schedule times y and the routes in the network to implicitly reconstruct the disjunctive graph. We do not return any representation of the disjunctive graph at this point, so we compute the vehicle order from the crossing times. Once we have a suitable way to encode the disjunctive graph, we can use the following code to test the implementation."
   ]
  },
  {
   "cell_type": "code",
   "execution_count": 1,
   "id": "2f5046a6-336a-4661-a24b-1dc84d7d69c1",
   "metadata": {},
   "outputs": [],
   "source": [
    "def edge_order(G, routes):\n",
    "    \"\"\"Compute the order in which edges should be visited for processesing vehicles.\"\"\"    \n",
    "    # Generate list of tuples (order, v, w) where order is the number of edges of\n",
    "    # the longest path to the last edge of some route.\n",
    "    # This implementation just keeps taking maximum values along routes until\n",
    "    # the path-lengths (number of edges) does not change anymore, so it can be\n",
    "    # done more efficiently.\n",
    "    edges = {}\n",
    "    changed = True\n",
    "    while changed:\n",
    "        changed = False\n",
    "        for route in routes:\n",
    "            for order in range(len(route) - 1):\n",
    "                i = len(route) - order - 1\n",
    "                v, w = route[i-1], route[i]\n",
    "    \n",
    "                if order > 0: # >= (preceding edge order) + 1\n",
    "                    order = max(order, edges[route[i], route[i+1]] + 1)\n",
    "                if (v, w) in edges: # >= (order of edge for other route)\n",
    "                    order = max(order, edges[v, w])\n",
    "    \n",
    "                if (v,w) not in edges or edges[v, w] != order:\n",
    "                    changed = True\n",
    "                edges[v, w] = order\n",
    "\n",
    "    # sort by order\n",
    "    return [edge for edge, order in sorted(edges.items(), key=lambda item: item[1])]\n",
    "\n",
    "def vehicle_order(G, routes, positions):\n",
    "    \"\"\"Compute the order in which vehicles should be processed.\"\"\"\n",
    "    vehicles = []\n",
    "    for edge in edge_order(G, routes):\n",
    "        # get vehicles in this edge\n",
    "        edge_vehicles = []\n",
    "        for vehicle, position in positions.items():\n",
    "            l, k = vehicle\n",
    "            v, w, rel_pos = current_edge(G, routes[l], position)\n",
    "            if (v, w) == edge:\n",
    "                edge_vehicles.append((rel_pos, vehicle))\n",
    "        \n",
    "        # sort according to relative position and add to global list\n",
    "        vehicles.extend([vehicle for rel_pos, vehicle in reversed(sorted(edge_vehicles, key=lambda x: x[0]))])\n",
    "\n",
    "    return vehicles"
   ]
  }
 ],
 "metadata": {
  "kernelspec": {
   "display_name": "Python 3 (ipykernel)",
   "language": "python",
   "name": "python3"
  },
  "language_info": {
   "codemirror_mode": {
    "name": "ipython",
    "version": 3
   },
   "file_extension": ".py",
   "mimetype": "text/x-python",
   "name": "python",
   "nbconvert_exporter": "python",
   "pygments_lexer": "ipython3",
   "version": "3.12.3"
  }
 },
 "nbformat": 4,
 "nbformat_minor": 5
}
