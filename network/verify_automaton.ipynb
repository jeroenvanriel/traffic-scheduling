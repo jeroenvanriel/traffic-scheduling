{
 "cells": [
  {
   "cell_type": "code",
   "execution_count": 1,
   "id": "ee9f76ae-10db-4703-b08e-bb9d21151760",
   "metadata": {},
   "outputs": [
    {
     "name": "stdout",
     "output_type": "stream",
     "text": [
      "/home/jeroen/repos/traffic-scheduling/network\n"
     ]
    }
   ],
   "source": [
    "import numpy as np\n",
    "%cd /home/jeroen/repos/traffic-scheduling/network/\n",
    "from generate_network import generate_simple_instance\n",
    "from util import draw_network, plot_schedule"
   ]
  },
  {
   "cell_type": "markdown",
   "id": "b70eceeb-6296-47b4-a678-2c5a17046c20",
   "metadata": {},
   "source": [
    "## Instance generation"
   ]
  },
  {
   "cell_type": "code",
   "execution_count": 2,
   "id": "a6e33987-b595-44dd-8c35-6f9db61842be",
   "metadata": {},
   "outputs": [
    {
     "data": {
      "image/png": "[encoded data removed]",
      "text/plain": [
       "<Figure size 640x480 with 1 Axes>"
      ]
     },
     "metadata": {},
     "output_type": "display_data"
    }
   ],
   "source": [
    "instance = generate_simple_instance()\n",
    "draw_network(instance['G'])"
   ]
  },
  {
   "cell_type": "markdown",
   "id": "961d5477-d743-4a0c-b23c-ead1fb0370d9",
   "metadata": {},
   "source": [
    "## Verfication"
   ]
  },
  {
   "cell_type": "markdown",
   "id": "64db29ac-de77-4784-989c-4bd7ecb4f1bd",
   "metadata": {},
   "source": [
    "We implement an independent checker that verifies that every constraint holds on the calculated crossing time lower bounds. Note that it can thus also be used to verify a complete schedule."
   ]
  },
  {
   "cell_type": "code",
   "execution_count": 3,
   "id": "e070fbb3-1d9f-4843-8306-daa57faaf55a",
   "metadata": {},
   "outputs": [],
   "source": [
    "from itertools import combinations\n",
    "from util import vehicle_indices, dist\n",
    "\n",
    "def verify_LB(instance, LB, order):\n",
    "    G = instance['G']\n",
    "    route = instance['route']\n",
    "    vmax = instance['vmax']\n",
    "\n",
    "    indices = vehicle_indices(instance)\n",
    "    \n",
    "    # release dates\n",
    "    for r, k in indices:\n",
    "        v0 = route[r][0]\n",
    "        assert instance['release'][r][k] <= LB[r, k, v0]\n",
    "\n",
    "    # conjunctive constraints\n",
    "    for r, k in indices:\n",
    "        for v in route[r]:\n",
    "            if k > 0:\n",
    "                assert LB[r, k - 1, v] + instance['length'] / vmax <= LB[r, k, v]\n",
    "    \n",
    "    # travel constraints\n",
    "    for r, k in indices:\n",
    "        for l in range(1, len(route[r])):\n",
    "            v = route[r][l - 1]\n",
    "            w = route[r][l]\n",
    "            assert LB[r, k, v] + dist(G, v, w) / vmax <= LB[r, k, w]\n",
    "\n",
    "    # buffer constraints\n",
    "    for r, k1 in indices: # i = (r,k1)\n",
    "        for l in range(1, len(route[r])):\n",
    "            v = route[r][l - 1]\n",
    "            w = route[r][l]\n",
    "            k2 = k1 + G[v][w]['capacity'] # j = (r,k2)\n",
    "            if (r, k2) in indices: # (i,j,v,w) \\in \\mathcal{F}\n",
    "                rho = G[v][w]['capacity'] * instance['length'] / vmax - G[v][w]['dist'] / vmax\n",
    "                assert LB[r, k1, w] + rho <= LB[r, k2, v]\n",
    "\n",
    "    # disjunctive constraints\n",
    "    sigma = (instance['length'] + instance['width']) / instance['vmax']\n",
    "    for node, node_order in order.items():\n",
    "        for (r1, k1), (r2, k2) in combinations(node_order, 2):\n",
    "            if r1 != r2:\n",
    "                # disjunctive constraint\n",
    "                assert LB[r1, k1, node] + sigma <= LB[r2, k2, node]"
   ]
  },
  {
   "cell_type": "markdown",
   "id": "b6428a31-7482-48d6-aae2-ae8fbc7444cd",
   "metadata": {},
   "source": [
    "## Automaton"
   ]
  },
  {
   "cell_type": "markdown",
   "id": "54bbc304-ff5d-4cb1-8991-35c4e09d55a6",
   "metadata": {},
   "source": [
    "We assume that routes are edge-disjoint, which allows us to treat every route in isolation."
   ]
  },
  {
   "cell_type": "code",
   "execution_count": 4,
   "id": "6c3be3f9-327b-488a-bd32-6e275d76e438",
   "metadata": {},
   "outputs": [],
   "source": [
    "from automaton import Automaton\n",
    "from networkx import get_node_attributes"
   ]
  },
  {
   "cell_type": "code",
   "execution_count": 9,
   "id": "ce7021b7-e97d-4572-86b2-4840a283d6bc",
   "metadata": {},
   "outputs": [],
   "source": [
    "automaton = Automaton(instance)"
   ]
  },
  {
   "cell_type": "code",
   "execution_count": 10,
   "id": "736efcb4-cc3c-47bc-83a5-f51ddf77d31f",
   "metadata": {},
   "outputs": [],
   "source": [
    "LB0 = get_node_attributes(automaton.D, 'LB')\n",
    "verify_LB(instance, LB0, automaton.order)"
   ]
  },
  {
   "cell_type": "code",
   "execution_count": 11,
   "id": "72a862ba-7c5b-41f8-b907-580c389c2990",
   "metadata": {},
   "outputs": [],
   "source": [
    "automaton.step(0, (1, 1))\n",
    "automaton.step(0, (1, 1))\n",
    "automaton.step(2, (1, 1))\n",
    "automaton.step(2, (2, 1))"
   ]
  },
  {
   "cell_type": "code",
   "execution_count": 12,
   "id": "ab974d28-e742-425c-9b65-c49319906765",
   "metadata": {},
   "outputs": [],
   "source": [
    "LB1 = get_node_attributes(automaton.D, 'LB')\n",
    "verify_LB(instance, LB1, automaton.order)"
   ]
  },
  {
   "cell_type": "code",
   "execution_count": 13,
   "id": "5cbbfb52-9100-4e77-9ff6-4867e97c404a",
   "metadata": {},
   "outputs": [
    {
     "data": {
      "text/plain": [
       "{(1, 1): [(0, 0), (0, 1), (2, 0)], (2, 1): [(2, 0)]}"
      ]
     },
     "execution_count": 13,
     "metadata": {},
     "output_type": "execute_result"
    }
   ],
   "source": [
    "automaton.order"
   ]
  },
  {
   "cell_type": "code",
   "execution_count": 14,
   "id": "eb99cb21-167e-45df-937f-256e48101861",
   "metadata": {},
   "outputs": [
    {
     "data": {
      "text/plain": [
       "{(0, (1, 1)): [2],\n",
       " (1, (2, 1)): [0, 1, 2],\n",
       " (2, (1, 1)): [1, 2],\n",
       " (2, (2, 1)): [1, 2]}"
      ]
     },
     "execution_count": 14,
     "metadata": {},
     "output_type": "execute_result"
    }
   ],
   "source": [
    "automaton.unscheduled"
   ]
  },
  {
   "cell_type": "code",
   "execution_count": 15,
   "id": "e97a834a-4617-488f-aeeb-08fd19b1fcb7",
   "metadata": {},
   "outputs": [
    {
     "data": {
      "text/plain": [
       "{(0, (1, 1)): 1, (1, (2, 1)): None, (2, (1, 1)): 0, (2, (2, 1)): 0}"
      ]
     },
     "execution_count": 15,
     "metadata": {},
     "output_type": "execute_result"
    }
   ],
   "source": [
    "automaton.last_order"
   ]
  },
  {
   "cell_type": "markdown",
   "id": "f7ba6aa7-0f42-444a-8c84-8c59794834d2",
   "metadata": {},
   "source": [
    "### Random policy"
   ]
  },
  {
   "cell_type": "code",
   "execution_count": 21,
   "id": "451c0c36-41f7-431d-a8fc-71a54cba30cf",
   "metadata": {},
   "outputs": [],
   "source": [
    "from random import choice\n",
    "from itertools import chain\n",
    "\n",
    "while not automaton.done:\n",
    "    candidates = [(r, k, node) for (r, node), values in automaton.unscheduled.items() for k in values]\n",
    "    r, k, node = choice(candidates)\n",
    "    automaton.step(r, node)"
   ]
  },
  {
   "cell_type": "code",
   "execution_count": 22,
   "id": "d8c1c438-157b-4ec8-938d-670fab14f59f",
   "metadata": {},
   "outputs": [
    {
     "data": {
      "text/plain": [
       "{(1, 1): [(0, 0), (0, 1), (2, 0), (2, 1), (0, 2), (2, 2)],\n",
       " (2, 1): [(2, 0), (1, 0), (1, 1), (1, 2), (2, 1), (2, 2)]}"
      ]
     },
     "execution_count": 22,
     "metadata": {},
     "output_type": "execute_result"
    }
   ],
   "source": [
    "automaton.order"
   ]
  },
  {
   "cell_type": "code",
   "execution_count": 23,
   "id": "e517fdde-64b4-42ed-a07a-04a34c6ac1ca",
   "metadata": {},
   "outputs": [
    {
     "data": {
      "image/png": "[encoded data removed]",
      "text/plain": [
       "<Figure size 640x480 with 1 Axes>"
      ]
     },
     "metadata": {},
     "output_type": "display_data"
    }
   ],
   "source": [
    "LB = get_node_attributes(automaton.D, 'LB')\n",
    "plot_schedule(instance, LB)"
   ]
  },
  {
   "cell_type": "code",
   "execution_count": null,
   "id": "851074e0-592c-4b33-b49e-9db184270521",
   "metadata": {},
   "outputs": [],
   "source": []
  }
 ],
 "metadata": {
  "kernelspec": {
   "display_name": "Python 3 (ipykernel)",
   "language": "python",
   "name": "python3"
  },
  "language_info": {
   "codemirror_mode": {
    "name": "ipython",
    "version": 3
   },
   "file_extension": ".py",
   "mimetype": "text/x-python",
   "name": "python",
   "nbconvert_exporter": "python",
   "pygments_lexer": "ipython3",
   "version": "3.12.3"
  }
 },
 "nbformat": 4,
 "nbformat_minor": 5
}
