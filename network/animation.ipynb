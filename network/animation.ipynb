{
 "cells": [
  {
   "cell_type": "code",
   "execution_count": 1,
   "id": "9ff4598c-9e1c-4967-a46d-00a31b51e013",
   "metadata": {},
   "outputs": [
    {
     "name": "stdout",
     "output_type": "stream",
     "text": [
      "/home/jeroen/repos/traffic-scheduling\n"
     ]
    }
   ],
   "source": [
    "import numpy as np\n",
    "import matplotlib.pyplot as plt\n",
    "%cd /home/jeroen/repos/traffic-scheduling/\n",
    "from network.generate_network import generate_grid_network\n",
    "from network.util import draw_network, plot_schedule\n",
    "from network.exact import solve"
   ]
  },
  {
   "cell_type": "markdown",
   "id": "822ae4f5-9a4e-44af-b78c-de7d2f2d7288",
   "metadata": {},
   "source": [
    "Generate a grid-like network with routes from west to east and from south to north (to align with the usual x-y coordinate system)."
   ]
  },
  {
   "cell_type": "code",
   "execution_count": 2,
   "id": "4483b064-ed6f-4b73-a563-6f5dd74bed1a",
   "metadata": {},
   "outputs": [
    {
     "data": {
      "image/png": "[encoded data removed]",
      "text/plain": [
       "<Figure size 640x480 with 1 Axes>"
      ]
     },
     "metadata": {},
     "output_type": "display_data"
    }
   ],
   "source": [
    "G, routes = generate_grid_network(1, 1)\n",
    "draw_network(G)"
   ]
  },
  {
   "cell_type": "markdown",
   "id": "af9c19c3-873b-4c6f-a915-d851240ac0e5",
   "metadata": {},
   "source": [
    "Randomly generate vehicle arrivals and vehicle lengths."
   ]
  },
  {
   "cell_type": "code",
   "execution_count": 3,
   "id": "44c2de62-cb50-45c7-96f2-56e6b10738b7",
   "metadata": {},
   "outputs": [],
   "source": [
    "vehicle_l = 2\n",
    "vehicle_w = 1\n",
    "\n",
    "N = len(routes)\n",
    "n = [15 for _ in range(N)]\n",
    "\n",
    "gap1 = 2\n",
    "gap2 = 4\n",
    "\n",
    "rng = np.random.default_rng()\n",
    "\n",
    "def lane(n):\n",
    "    length = np.repeat(vehicle_l, n)\n",
    "    gaps = rng.uniform(gap1, gap2, size=(n))\n",
    "    \n",
    "    shifted = np.roll(length, 1); shifted[0] = 0\n",
    "    release = np.cumsum(gaps + shifted)\n",
    "    return release, length\n",
    "\n",
    "releases, lengths = [], []\n",
    "for l in range(N):\n",
    "    rs, ls = lane(n[l])\n",
    "    releases.append(rs); lengths.append(ls)\n",
    "\n",
    "instance = {\n",
    "    'G': G,\n",
    "    'route': routes,\n",
    "    'switch': vehicle_l - vehicle_w,\n",
    "    'release': releases,\n",
    "    'length': lengths,\n",
    "}"
   ]
  },
  {
   "cell_type": "markdown",
   "id": "6e2f8878-4bce-41af-86f8-473eca3cbf54",
   "metadata": {},
   "source": [
    "Compute the optimal crossing times schedule by solving the network MILP."
   ]
  },
  {
   "cell_type": "code",
   "execution_count": 4,
   "id": "41c519b8-1905-4d9d-bb57-acfaac740a37",
   "metadata": {},
   "outputs": [
    {
     "name": "stdout",
     "output_type": "stream",
     "text": [
      "Set parameter Username\n",
      "Academic license - for non-commercial use only - expires 2025-01-22\n",
      "Set parameter MIPGap to value 0\n",
      "Gurobi Optimizer version 11.0.3 build v11.0.3rc0 (linux64 - \"Ubuntu 22.04.4 LTS\")\n",
      "\n",
      "CPU model: 13th Gen Intel(R) Core(TM) i5-13600K, instruction set [SSE2|AVX|AVX2]\n",
      "Thread count: 20 physical cores, 20 logical processors, using up to 20 threads\n",
      "\n",
      "Optimize a model with 566 rows, 285 columns and 1552 nonzeros\n",
      "Model fingerprint: 0x3c665251\n",
      "Variable types: 60 continuous, 225 integer (225 binary)\n",
      "Coefficient statistics:\n",
      "  Matrix range     [1e+00, 1e+03]\n",
      "  Objective range  [1e+00, 1e+00]\n",
      "  Bounds range     [1e+00, 1e+00]\n",
      "  RHS range        [2e+00, 1e+03]\n",
      "Presolve removed 32 rows and 2 columns\n",
      "Presolve time: 0.00s\n",
      "Presolved: 534 rows, 283 columns, 1518 nonzeros\n",
      "Variable types: 58 continuous, 225 integer (225 binary)\n",
      "Found heuristic solution: objective 4663.2740487\n",
      "\n",
      "Root relaxation: objective 3.138745e+03, 117 iterations, 0.00 seconds (0.00 work units)\n",
      "\n",
      "    Nodes    |    Current Node    |     Objective Bounds      |     Work\n",
      " Expl Unexpl |  Obj  Depth IntInf | Incumbent    BestBd   Gap | It/Node Time\n",
      "\n",
      "     0     0 3138.74497    0   16 4663.27405 3138.74497  32.7%     -    0s\n",
      "H    0     0                    3618.0946951 3138.74497  13.2%     -    0s\n",
      "H    0     0                    3614.0946951 3138.74497  13.2%     -    0s\n",
      "H    0     0                    3330.1256944 3138.74497  5.75%     -    0s\n",
      "     0     0 3191.11808    0   16 3330.12569 3191.11808  4.17%     -    0s\n",
      "     0     0 3194.49417    0   15 3330.12569 3194.49417  4.07%     -    0s\n",
      "H    0     0                    3326.1256944 3202.64718  3.71%     -    0s\n",
      "     0     0 3202.64718    0   22 3326.12569 3202.64718  3.71%     -    0s\n",
      "     0     0 3204.56950    0   22 3326.12569 3204.56950  3.65%     -    0s\n",
      "     0     0 3204.56950    0   22 3326.12569 3204.56950  3.65%     -    0s\n",
      "     0     0 3215.00782    0   17 3326.12569 3215.00782  3.34%     -    0s\n",
      "H    0     0                    3318.8800850 3215.42580  3.12%     -    0s\n",
      "     0     0 3216.46419    0   16 3318.88008 3216.46419  3.09%     -    0s\n",
      "     0     0 3216.69860    0   16 3318.88008 3216.69860  3.08%     -    0s\n",
      "     0     0 3216.70675    0   16 3318.88008 3216.70675  3.08%     -    0s\n",
      "     0     0 3223.92550    0   12 3318.88008 3223.92550  2.86%     -    0s\n",
      "H    0     0                    3318.3970348 3224.35700  2.83%     -    0s\n",
      "H    0     0                    3314.2874748 3224.35700  2.71%     -    0s\n",
      "     0     0 3225.13328    0   15 3314.28747 3225.13328  2.69%     -    0s\n",
      "     0     0 3225.19958    0   15 3314.28747 3225.19958  2.69%     -    0s\n",
      "     0     0 3226.11353    0   22 3314.28747 3226.11353  2.66%     -    0s\n",
      "     0     0 3226.28370    0   22 3314.28747 3226.28370  2.66%     -    0s\n",
      "     0     0 3226.79981    0   18 3314.28747 3226.79981  2.64%     -    0s\n",
      "     0     0 3226.80895    0   18 3314.28747 3226.80895  2.64%     -    0s\n",
      "     0     0 3227.03718    0   17 3314.28747 3227.03718  2.63%     -    0s\n",
      "H    0     0                    3314.1336787 3227.05187  2.63%     -    0s\n",
      "     0     0 3227.08361    0   17 3314.13368 3227.08361  2.63%     -    0s\n",
      "     0     0 3227.08361    0   18 3314.13368 3227.08361  2.63%     -    0s\n",
      "     0     0 3227.49106    0   21 3314.13368 3227.49106  2.61%     -    0s\n",
      "     0     0 3227.54937    0   17 3314.13368 3227.54937  2.61%     -    0s\n",
      "     0     0 3227.72225    0   17 3314.13368 3227.72225  2.61%     -    0s\n",
      "     0     0 3227.76273    0   17 3314.13368 3227.76273  2.61%     -    0s\n",
      "     0     0 3227.91027    0   19 3314.13368 3227.91027  2.60%     -    0s\n",
      "     0     0 3227.91087    0   18 3314.13368 3227.91087  2.60%     -    0s\n",
      "     0     0 3227.92379    0   18 3314.13368 3227.92379  2.60%     -    0s\n",
      "     0     0 3228.50282    0   18 3314.13368 3228.50282  2.58%     -    0s\n",
      "H    0     0                    3283.5556114 3228.93027  1.66%     -    0s\n",
      "     0     0 3228.93027    0   18 3283.55561 3228.93027  1.66%     -    0s\n",
      "     0     0 3228.93027    0   17 3283.55561 3228.93027  1.66%     -    0s\n",
      "     0     0 3228.93027    0   16 3283.55561 3228.93027  1.66%     -    0s\n",
      "H    0     0                    3279.5556114 3228.93027  1.54%     -    0s\n",
      "     0     0 3228.93027    0   17 3279.55561 3228.93027  1.54%     -    0s\n",
      "     0     0 3228.93027    0   14 3279.55561 3228.93027  1.54%     -    0s\n",
      "     0     0 3228.93027    0   17 3279.55561 3228.93027  1.54%     -    0s\n",
      "     0     0 3228.93027    0   15 3279.55561 3228.93027  1.54%     -    0s\n",
      "     0     0 3228.93027    0   16 3279.55561 3228.93027  1.54%     -    0s\n",
      "     0     0 3229.31139    0   15 3279.55561 3229.31139  1.53%     -    0s\n",
      "     0     0 3230.25443    0   15 3279.55561 3230.25443  1.50%     -    0s\n",
      "     0     0 3230.25443    0   18 3279.55561 3230.25443  1.50%     -    0s\n",
      "     0     0 3233.40506    0   18 3279.55561 3233.40506  1.41%     -    0s\n",
      "     0     0 3233.63353    0   18 3279.55561 3233.63353  1.40%     -    0s\n",
      "     0     0 3233.63353    0   18 3279.55561 3233.63353  1.40%     -    0s\n",
      "     0     0 3233.67235    0   17 3279.55561 3233.67235  1.40%     -    0s\n",
      "     0     0 3233.73956    0   18 3279.55561 3233.73956  1.40%     -    0s\n",
      "     0     0 3233.75398    0   18 3279.55561 3233.75398  1.40%     -    0s\n",
      "     0     0 3235.03578    0   15 3279.55561 3235.03578  1.36%     -    0s\n",
      "     0     0 3236.09862    0   16 3279.55561 3236.09862  1.33%     -    0s\n",
      "     0     0 3236.17765    0   16 3279.55561 3236.17765  1.32%     -    0s\n",
      "     0     0 3236.17800    0   16 3279.55561 3236.17800  1.32%     -    0s\n",
      "     0     0 3236.28660    0   17 3279.55561 3236.28660  1.32%     -    0s\n",
      "     0     0 3236.38725    0   16 3279.55561 3236.38725  1.32%     -    0s\n",
      "H    0     0                    3270.4461894 3236.38801  1.04%     -    0s\n",
      "     0     0 3236.38801    0   16 3270.44619 3236.38801  1.04%     -    0s\n",
      "     0     0 3236.80618    0   17 3270.44619 3236.80618  1.03%     -    0s\n",
      "     0     0 3237.05363    0   15 3270.44619 3237.05363  1.02%     -    0s\n",
      "     0     0 3237.06692    0   15 3270.44619 3237.06692  1.02%     -    0s\n",
      "     0     0 3237.19869    0   16 3270.44619 3237.19869  1.02%     -    0s\n",
      "     0     0 3237.38140    0   17 3270.44619 3237.38140  1.01%     -    0s\n",
      "     0     0 3237.38821    0   16 3270.44619 3237.38821  1.01%     -    0s\n",
      "     0     0 3237.39137    0   15 3270.44619 3237.39137  1.01%     -    0s\n",
      "     0     0 3237.44371    0   16 3270.44619 3237.44371  1.01%     -    0s\n",
      "     0     0 3237.44695    0   16 3270.44619 3237.44695  1.01%     -    0s\n",
      "     0     2 3237.44695    0   16 3270.44619 3237.44695  1.01%     -    0s\n",
      "H  153   149                    3268.2261380 3241.52083  0.82%   8.6    0s\n",
      "H  167   149                    3267.7803949 3241.52083  0.80%   8.4    0s\n",
      "\n",
      "Cutting planes:\n",
      "  Learned: 1\n",
      "  Gomory: 2\n",
      "  Implied bound: 41\n",
      "  MIR: 63\n",
      "  Inf proof: 3\n",
      "  RLT: 9\n",
      "  Relax-and-lift: 34\n",
      "\n",
      "Explored 1639 nodes (13747 simplex iterations) in 0.28 seconds (0.20 work units)\n",
      "Thread count was 20 (of 20 available processors)\n",
      "\n",
      "Solution count 10: 3267.78 3268.23 3270.45 ... 3326.13\n",
      "\n",
      "Optimal solution found (tolerance 0.00e+00)\n",
      "Best objective 3.267780394916e+03, best bound 3.267780394916e+03, gap 0.0000%\n"
     ]
    },
    {
     "ename": "ValueError",
     "evalue": "setting an array element with a sequence. The requested array has an inhomogeneous shape after 1 dimensions. The detected shape was (4,) + inhomogeneous part.",
     "output_type": "error",
     "traceback": [
      "\u001b[0;31m---------------------------------------------------------------------------\u001b[0m",
      "\u001b[0;31mValueError\u001b[0m                                Traceback (most recent call last)",
      "Cell \u001b[0;32mIn[4], line 2\u001b[0m\n\u001b[1;32m      1\u001b[0m y, obj \u001b[38;5;241m=\u001b[39m solve(instance, consolelog\u001b[38;5;241m=\u001b[39m\u001b[38;5;28;01mTrue\u001b[39;00m, gap\u001b[38;5;241m=\u001b[39m\u001b[38;5;241m0.00\u001b[39m)\n\u001b[0;32m----> 2\u001b[0m \u001b[43mplot_schedule\u001b[49m\u001b[43m(\u001b[49m\u001b[43minstance\u001b[49m\u001b[43m,\u001b[49m\u001b[43m \u001b[49m\u001b[43my\u001b[49m\u001b[43m)\u001b[49m\n",
      "File \u001b[0;32m~/repos/traffic-scheduling/network/util.py:29\u001b[0m, in \u001b[0;36mplot_schedule\u001b[0;34m(instance, y)\u001b[0m\n\u001b[1;32m     27\u001b[0m     \u001b[38;5;28;01mfor\u001b[39;00m r \u001b[38;5;129;01min\u001b[39;00m instance[\u001b[38;5;124m'\u001b[39m\u001b[38;5;124mrelease\u001b[39m\u001b[38;5;124m'\u001b[39m][l]:\n\u001b[1;32m     28\u001b[0m         row \u001b[38;5;241m=\u001b[39m nodes\u001b[38;5;241m.\u001b[39mindex(v0) \u001b[38;5;241m+\u001b[39m \u001b[38;5;241m1\u001b[39m\n\u001b[0;32m---> 29\u001b[0m         \u001b[43max\u001b[49m\u001b[38;5;241;43m.\u001b[39;49m\u001b[43madd_patch\u001b[49m\u001b[43m(\u001b[49m\u001b[43mRectangle\u001b[49m\u001b[43m(\u001b[49m\u001b[43m(\u001b[49m\u001b[43mr\u001b[49m\u001b[43m,\u001b[49m\u001b[43m \u001b[49m\u001b[43mnr_nodes\u001b[49m\u001b[38;5;241;43m-\u001b[39;49m\u001b[43mrow\u001b[49m\u001b[43m \u001b[49m\u001b[38;5;241;43m-\u001b[39;49m\u001b[43m \u001b[49m\u001b[43mheight\u001b[49m\u001b[43m \u001b[49m\u001b[38;5;241;43m/\u001b[39;49m\u001b[43m \u001b[49m\u001b[38;5;241;43m2\u001b[39;49m\u001b[43m)\u001b[49m\u001b[43m,\u001b[49m\u001b[43m \u001b[49m\u001b[43mwidth\u001b[49m\u001b[38;5;241;43m=\u001b[39;49m\u001b[43mp\u001b[49m\u001b[43m,\u001b[49m\u001b[43m \u001b[49m\u001b[43mheight\u001b[49m\u001b[38;5;241;43m=\u001b[39;49m\u001b[43mheight\u001b[49m\u001b[43m,\u001b[49m\n\u001b[1;32m     30\u001b[0m \u001b[43m                            \u001b[49m\u001b[43mlinewidth\u001b[49m\u001b[38;5;241;43m=\u001b[39;49m\u001b[38;5;241;43m1\u001b[39;49m\u001b[43m,\u001b[49m\u001b[43m \u001b[49m\u001b[43mfacecolor\u001b[49m\u001b[38;5;241;43m=\u001b[39;49m\u001b[43mcmap\u001b[49m\u001b[43m(\u001b[49m\u001b[43ml\u001b[49m\u001b[43m)\u001b[49m\u001b[43m,\u001b[49m\u001b[43m \u001b[49m\u001b[43medgecolor\u001b[49m\u001b[38;5;241;43m=\u001b[39;49m\u001b[38;5;124;43m'\u001b[39;49m\u001b[38;5;124;43mk\u001b[39;49m\u001b[38;5;124;43m'\u001b[39;49m\u001b[43m)\u001b[49m\u001b[43m)\u001b[49m\n\u001b[1;32m     32\u001b[0m \u001b[38;5;66;03m# schedule\u001b[39;00m\n\u001b[1;32m     33\u001b[0m \u001b[38;5;28;01mfor\u001b[39;00m l \u001b[38;5;129;01min\u001b[39;00m \u001b[38;5;28mrange\u001b[39m(N):\n",
      "File \u001b[0;32m~/.local/share/miniforge3/envs/traffic/lib/python3.12/site-packages/matplotlib/axes/_base.py:2414\u001b[0m, in \u001b[0;36m_AxesBase.add_patch\u001b[0;34m(self, p)\u001b[0m\n\u001b[1;32m   2412\u001b[0m \u001b[38;5;28;01mif\u001b[39;00m p\u001b[38;5;241m.\u001b[39mget_clip_path() \u001b[38;5;129;01mis\u001b[39;00m \u001b[38;5;28;01mNone\u001b[39;00m:\n\u001b[1;32m   2413\u001b[0m     p\u001b[38;5;241m.\u001b[39mset_clip_path(\u001b[38;5;28mself\u001b[39m\u001b[38;5;241m.\u001b[39mpatch)\n\u001b[0;32m-> 2414\u001b[0m \u001b[38;5;28;43mself\u001b[39;49m\u001b[38;5;241;43m.\u001b[39;49m\u001b[43m_update_patch_limits\u001b[49m\u001b[43m(\u001b[49m\u001b[43mp\u001b[49m\u001b[43m)\u001b[49m\n\u001b[1;32m   2415\u001b[0m \u001b[38;5;28mself\u001b[39m\u001b[38;5;241m.\u001b[39m_children\u001b[38;5;241m.\u001b[39mappend(p)\n\u001b[1;32m   2416\u001b[0m p\u001b[38;5;241m.\u001b[39m_remove_method \u001b[38;5;241m=\u001b[39m \u001b[38;5;28mself\u001b[39m\u001b[38;5;241m.\u001b[39m_children\u001b[38;5;241m.\u001b[39mremove\n",
      "File \u001b[0;32m~/.local/share/miniforge3/envs/traffic/lib/python3.12/site-packages/matplotlib/axes/_base.py:2445\u001b[0m, in \u001b[0;36m_AxesBase._update_patch_limits\u001b[0;34m(self, patch)\u001b[0m\n\u001b[1;32m   2442\u001b[0m \u001b[38;5;28;01mif\u001b[39;00m \u001b[38;5;28mlen\u001b[39m(vertices):\n\u001b[1;32m   2443\u001b[0m     vertices \u001b[38;5;241m=\u001b[39m np\u001b[38;5;241m.\u001b[39mvstack(vertices)\n\u001b[0;32m-> 2445\u001b[0m patch_trf \u001b[38;5;241m=\u001b[39m \u001b[43mpatch\u001b[49m\u001b[38;5;241;43m.\u001b[39;49m\u001b[43mget_transform\u001b[49m\u001b[43m(\u001b[49m\u001b[43m)\u001b[49m\n\u001b[1;32m   2446\u001b[0m updatex, updatey \u001b[38;5;241m=\u001b[39m patch_trf\u001b[38;5;241m.\u001b[39mcontains_branch_seperately(\u001b[38;5;28mself\u001b[39m\u001b[38;5;241m.\u001b[39mtransData)\n\u001b[1;32m   2447\u001b[0m \u001b[38;5;28;01mif\u001b[39;00m \u001b[38;5;129;01mnot\u001b[39;00m (updatex \u001b[38;5;129;01mor\u001b[39;00m updatey):\n",
      "File \u001b[0;32m~/.local/share/miniforge3/envs/traffic/lib/python3.12/site-packages/matplotlib/patches.py:308\u001b[0m, in \u001b[0;36mPatch.get_transform\u001b[0;34m(self)\u001b[0m\n\u001b[1;32m    306\u001b[0m \u001b[38;5;28;01mdef\u001b[39;00m \u001b[38;5;21mget_transform\u001b[39m(\u001b[38;5;28mself\u001b[39m):\n\u001b[1;32m    307\u001b[0m \u001b[38;5;250m    \u001b[39m\u001b[38;5;124;03m\"\"\"Return the `~.transforms.Transform` applied to the `Patch`.\"\"\"\u001b[39;00m\n\u001b[0;32m--> 308\u001b[0m     \u001b[38;5;28;01mreturn\u001b[39;00m \u001b[38;5;28;43mself\u001b[39;49m\u001b[38;5;241;43m.\u001b[39;49m\u001b[43mget_patch_transform\u001b[49m\u001b[43m(\u001b[49m\u001b[43m)\u001b[49m \u001b[38;5;241m+\u001b[39m artist\u001b[38;5;241m.\u001b[39mArtist\u001b[38;5;241m.\u001b[39mget_transform(\u001b[38;5;28mself\u001b[39m)\n",
      "File \u001b[0;32m~/.local/share/miniforge3/envs/traffic/lib/python3.12/site-packages/matplotlib/patches.py:795\u001b[0m, in \u001b[0;36mRectangle.get_patch_transform\u001b[0;34m(self)\u001b[0m\n\u001b[1;32m    790\u001b[0m \u001b[38;5;28;01mdef\u001b[39;00m \u001b[38;5;21mget_patch_transform\u001b[39m(\u001b[38;5;28mself\u001b[39m):\n\u001b[1;32m    791\u001b[0m     \u001b[38;5;66;03m# Note: This cannot be called until after this has been added to\u001b[39;00m\n\u001b[1;32m    792\u001b[0m     \u001b[38;5;66;03m# an Axes, otherwise unit conversion will fail. This makes it very\u001b[39;00m\n\u001b[1;32m    793\u001b[0m     \u001b[38;5;66;03m# important to call the accessor method and not directly access the\u001b[39;00m\n\u001b[1;32m    794\u001b[0m     \u001b[38;5;66;03m# transformation member variable.\u001b[39;00m\n\u001b[0;32m--> 795\u001b[0m     bbox \u001b[38;5;241m=\u001b[39m \u001b[38;5;28;43mself\u001b[39;49m\u001b[38;5;241;43m.\u001b[39;49m\u001b[43mget_bbox\u001b[49m\u001b[43m(\u001b[49m\u001b[43m)\u001b[49m\n\u001b[1;32m    796\u001b[0m     \u001b[38;5;28;01mif\u001b[39;00m \u001b[38;5;28mself\u001b[39m\u001b[38;5;241m.\u001b[39mrotation_point \u001b[38;5;241m==\u001b[39m \u001b[38;5;124m'\u001b[39m\u001b[38;5;124mcenter\u001b[39m\u001b[38;5;124m'\u001b[39m:\n\u001b[1;32m    797\u001b[0m         width, height \u001b[38;5;241m=\u001b[39m bbox\u001b[38;5;241m.\u001b[39mx1 \u001b[38;5;241m-\u001b[39m bbox\u001b[38;5;241m.\u001b[39mx0, bbox\u001b[38;5;241m.\u001b[39my1 \u001b[38;5;241m-\u001b[39m bbox\u001b[38;5;241m.\u001b[39my0\n",
      "File \u001b[0;32m~/.local/share/miniforge3/envs/traffic/lib/python3.12/site-packages/matplotlib/patches.py:926\u001b[0m, in \u001b[0;36mRectangle.get_bbox\u001b[0;34m(self)\u001b[0m\n\u001b[1;32m    924\u001b[0m \u001b[38;5;28;01mdef\u001b[39;00m \u001b[38;5;21mget_bbox\u001b[39m(\u001b[38;5;28mself\u001b[39m):\n\u001b[1;32m    925\u001b[0m \u001b[38;5;250m    \u001b[39m\u001b[38;5;124;03m\"\"\"Return the `.Bbox`.\"\"\"\u001b[39;00m\n\u001b[0;32m--> 926\u001b[0m     \u001b[38;5;28;01mreturn\u001b[39;00m \u001b[43mtransforms\u001b[49m\u001b[38;5;241;43m.\u001b[39;49m\u001b[43mBbox\u001b[49m\u001b[38;5;241;43m.\u001b[39;49m\u001b[43mfrom_extents\u001b[49m\u001b[43m(\u001b[49m\u001b[38;5;241;43m*\u001b[39;49m\u001b[38;5;28;43mself\u001b[39;49m\u001b[38;5;241;43m.\u001b[39;49m\u001b[43m_convert_units\u001b[49m\u001b[43m(\u001b[49m\u001b[43m)\u001b[49m\u001b[43m)\u001b[49m\n",
      "File \u001b[0;32m~/.local/share/miniforge3/envs/traffic/lib/python3.12/site-packages/matplotlib/transforms.py:830\u001b[0m, in \u001b[0;36mBbox.from_extents\u001b[0;34m(minpos, *args)\u001b[0m\n\u001b[1;32m    814\u001b[0m \u001b[38;5;129m@staticmethod\u001b[39m\n\u001b[1;32m    815\u001b[0m \u001b[38;5;28;01mdef\u001b[39;00m \u001b[38;5;21mfrom_extents\u001b[39m(\u001b[38;5;241m*\u001b[39margs, minpos\u001b[38;5;241m=\u001b[39m\u001b[38;5;28;01mNone\u001b[39;00m):\n\u001b[1;32m    816\u001b[0m \u001b[38;5;250m    \u001b[39m\u001b[38;5;124;03m\"\"\"\u001b[39;00m\n\u001b[1;32m    817\u001b[0m \u001b[38;5;124;03m    Create a new Bbox from *left*, *bottom*, *right* and *top*.\u001b[39;00m\n\u001b[1;32m    818\u001b[0m \n\u001b[0;32m   (...)\u001b[0m\n\u001b[1;32m    828\u001b[0m \u001b[38;5;124;03m        scales where negative bounds result in floating point errors.\u001b[39;00m\n\u001b[1;32m    829\u001b[0m \u001b[38;5;124;03m    \"\"\"\u001b[39;00m\n\u001b[0;32m--> 830\u001b[0m     bbox \u001b[38;5;241m=\u001b[39m Bbox(\u001b[43mnp\u001b[49m\u001b[38;5;241;43m.\u001b[39;49m\u001b[43mreshape\u001b[49m\u001b[43m(\u001b[49m\u001b[43margs\u001b[49m\u001b[43m,\u001b[49m\u001b[43m \u001b[49m\u001b[43m(\u001b[49m\u001b[38;5;241;43m2\u001b[39;49m\u001b[43m,\u001b[49m\u001b[43m \u001b[49m\u001b[38;5;241;43m2\u001b[39;49m\u001b[43m)\u001b[49m\u001b[43m)\u001b[49m)\n\u001b[1;32m    831\u001b[0m     \u001b[38;5;28;01mif\u001b[39;00m minpos \u001b[38;5;129;01mis\u001b[39;00m \u001b[38;5;129;01mnot\u001b[39;00m \u001b[38;5;28;01mNone\u001b[39;00m:\n\u001b[1;32m    832\u001b[0m         bbox\u001b[38;5;241m.\u001b[39m_minpos[:] \u001b[38;5;241m=\u001b[39m minpos\n",
      "File \u001b[0;32m~/.local/share/miniforge3/envs/traffic/lib/python3.12/site-packages/numpy/_core/fromnumeric.py:328\u001b[0m, in \u001b[0;36mreshape\u001b[0;34m(a, shape, order, newshape, copy)\u001b[0m\n\u001b[1;32m    326\u001b[0m \u001b[38;5;28;01mif\u001b[39;00m copy \u001b[38;5;129;01mis\u001b[39;00m \u001b[38;5;129;01mnot\u001b[39;00m \u001b[38;5;28;01mNone\u001b[39;00m:\n\u001b[1;32m    327\u001b[0m     \u001b[38;5;28;01mreturn\u001b[39;00m _wrapfunc(a, \u001b[38;5;124m'\u001b[39m\u001b[38;5;124mreshape\u001b[39m\u001b[38;5;124m'\u001b[39m, shape, order\u001b[38;5;241m=\u001b[39morder, copy\u001b[38;5;241m=\u001b[39mcopy)\n\u001b[0;32m--> 328\u001b[0m \u001b[38;5;28;01mreturn\u001b[39;00m \u001b[43m_wrapfunc\u001b[49m\u001b[43m(\u001b[49m\u001b[43ma\u001b[49m\u001b[43m,\u001b[49m\u001b[43m \u001b[49m\u001b[38;5;124;43m'\u001b[39;49m\u001b[38;5;124;43mreshape\u001b[39;49m\u001b[38;5;124;43m'\u001b[39;49m\u001b[43m,\u001b[49m\u001b[43m \u001b[49m\u001b[43mshape\u001b[49m\u001b[43m,\u001b[49m\u001b[43m \u001b[49m\u001b[43morder\u001b[49m\u001b[38;5;241;43m=\u001b[39;49m\u001b[43morder\u001b[49m\u001b[43m)\u001b[49m\n",
      "File \u001b[0;32m~/.local/share/miniforge3/envs/traffic/lib/python3.12/site-packages/numpy/_core/fromnumeric.py:54\u001b[0m, in \u001b[0;36m_wrapfunc\u001b[0;34m(obj, method, *args, **kwds)\u001b[0m\n\u001b[1;32m     52\u001b[0m bound \u001b[38;5;241m=\u001b[39m \u001b[38;5;28mgetattr\u001b[39m(obj, method, \u001b[38;5;28;01mNone\u001b[39;00m)\n\u001b[1;32m     53\u001b[0m \u001b[38;5;28;01mif\u001b[39;00m bound \u001b[38;5;129;01mis\u001b[39;00m \u001b[38;5;28;01mNone\u001b[39;00m:\n\u001b[0;32m---> 54\u001b[0m     \u001b[38;5;28;01mreturn\u001b[39;00m \u001b[43m_wrapit\u001b[49m\u001b[43m(\u001b[49m\u001b[43mobj\u001b[49m\u001b[43m,\u001b[49m\u001b[43m \u001b[49m\u001b[43mmethod\u001b[49m\u001b[43m,\u001b[49m\u001b[43m \u001b[49m\u001b[38;5;241;43m*\u001b[39;49m\u001b[43margs\u001b[49m\u001b[43m,\u001b[49m\u001b[43m \u001b[49m\u001b[38;5;241;43m*\u001b[39;49m\u001b[38;5;241;43m*\u001b[39;49m\u001b[43mkwds\u001b[49m\u001b[43m)\u001b[49m\n\u001b[1;32m     56\u001b[0m \u001b[38;5;28;01mtry\u001b[39;00m:\n\u001b[1;32m     57\u001b[0m     \u001b[38;5;28;01mreturn\u001b[39;00m bound(\u001b[38;5;241m*\u001b[39margs, \u001b[38;5;241m*\u001b[39m\u001b[38;5;241m*\u001b[39mkwds)\n",
      "File \u001b[0;32m~/.local/share/miniforge3/envs/traffic/lib/python3.12/site-packages/numpy/_core/fromnumeric.py:42\u001b[0m, in \u001b[0;36m_wrapit\u001b[0;34m(obj, method, *args, **kwds)\u001b[0m\n\u001b[1;32m     41\u001b[0m \u001b[38;5;28;01mdef\u001b[39;00m \u001b[38;5;21m_wrapit\u001b[39m(obj, method, \u001b[38;5;241m*\u001b[39margs, \u001b[38;5;241m*\u001b[39m\u001b[38;5;241m*\u001b[39mkwds):\n\u001b[0;32m---> 42\u001b[0m     conv \u001b[38;5;241m=\u001b[39m \u001b[43m_array_converter\u001b[49m\u001b[43m(\u001b[49m\u001b[43mobj\u001b[49m\u001b[43m)\u001b[49m\n\u001b[1;32m     43\u001b[0m     \u001b[38;5;66;03m# As this already tried the method, subok is maybe quite reasonable here\u001b[39;00m\n\u001b[1;32m     44\u001b[0m     \u001b[38;5;66;03m# but this follows what was done before. TODO: revisit this.\u001b[39;00m\n\u001b[1;32m     45\u001b[0m     arr, \u001b[38;5;241m=\u001b[39m conv\u001b[38;5;241m.\u001b[39mas_arrays(subok\u001b[38;5;241m=\u001b[39m\u001b[38;5;28;01mFalse\u001b[39;00m)\n",
      "\u001b[0;31mValueError\u001b[0m: setting an array element with a sequence. The requested array has an inhomogeneous shape after 1 dimensions. The detected shape was (4,) + inhomogeneous part."
     ]
    },
    {
     "data": {
      "image/png": "[encoded data removed]",
      "text/plain": [
       "<Figure size 640x480 with 1 Axes>"
      ]
     },
     "metadata": {},
     "output_type": "display_data"
    }
   ],
   "source": [
    "y, obj = solve(instance, consolelog=True, gap=0.00)\n",
    "plot_schedule(instance, y)"
   ]
  },
  {
   "cell_type": "markdown",
   "id": "c142b623-ed53-4fd0-ae63-84a554ad8c81",
   "metadata": {},
   "source": [
    "Calculate the corresponding trajectories using the multi-checkpoint MotionSynthesize procedure and use these to generate a simple animation of the vehicle movements."
   ]
  },
  {
   "cell_type": "code",
   "execution_count": 5,
   "id": "17171d1f-9cb3-4bdb-9f17-420bf4500c09",
   "metadata": {},
   "outputs": [],
   "source": [
    "%%capture\n",
    "from motion.motion import generate_trajectories\n",
    "params = dict(vmax=1, umax=0.3, l=vehicle_l, dt=0.5)\n",
    "trajectories = generate_trajectories(instance, y, params)"
   ]
  },
  {
   "cell_type": "code",
   "execution_count": 7,
   "id": "1b71fd3a-327f-45d3-a4a5-53551a8a20d2",
   "metadata": {},
   "outputs": [
    {
     "ename": "NameError",
     "evalue": "name 'G' is not defined",
     "output_type": "error",
     "traceback": [
      "\u001b[0;31m---------------------------------------------------------------------------\u001b[0m",
      "\u001b[0;31mNameError\u001b[0m                                 Traceback (most recent call last)",
      "Cell \u001b[0;32mIn[7], line 4\u001b[0m\n\u001b[1;32m      2\u001b[0m plt\u001b[38;5;241m.\u001b[39mrcParams[\u001b[38;5;124m\"\u001b[39m\u001b[38;5;124manimation.html\u001b[39m\u001b[38;5;124m\"\u001b[39m] \u001b[38;5;241m=\u001b[39m \u001b[38;5;124m\"\u001b[39m\u001b[38;5;124mjshtml\u001b[39m\u001b[38;5;124m\"\u001b[39m\n\u001b[1;32m      3\u001b[0m plt\u001b[38;5;241m.\u001b[39mioff();\n\u001b[0;32m----> 4\u001b[0m ani \u001b[38;5;241m=\u001b[39m \u001b[43manimate\u001b[49m\u001b[43m(\u001b[49m\u001b[43minstance\u001b[49m\u001b[43m,\u001b[49m\u001b[43m \u001b[49m\u001b[43mtrajectories\u001b[49m\u001b[43m,\u001b[49m\u001b[43m \u001b[49m\u001b[43mparams\u001b[49m\u001b[43m[\u001b[49m\u001b[38;5;124;43m'\u001b[39;49m\u001b[38;5;124;43mdt\u001b[39;49m\u001b[38;5;124;43m'\u001b[39;49m\u001b[43m]\u001b[49m\u001b[43m,\u001b[49m\u001b[43m \u001b[49m\u001b[43mvehicle_l\u001b[49m\u001b[38;5;241;43m=\u001b[39;49m\u001b[43mvehicle_l\u001b[49m\u001b[43m)\u001b[49m\n\u001b[1;32m      5\u001b[0m ani\u001b[38;5;241m.\u001b[39msave(filename\u001b[38;5;241m=\u001b[39m\u001b[38;5;124m\"\u001b[39m\u001b[38;5;124mgrid.mp4\u001b[39m\u001b[38;5;124m\"\u001b[39m, writer\u001b[38;5;241m=\u001b[39m\u001b[38;5;124m\"\u001b[39m\u001b[38;5;124mffmpeg\u001b[39m\u001b[38;5;124m\"\u001b[39m)\n",
      "File \u001b[0;32m~/repos/traffic-scheduling/motion/animation.py:7\u001b[0m, in \u001b[0;36manimate\u001b[0;34m(instance, trajectories, dt, vehicle_l, vehicle_w)\u001b[0m\n\u001b[1;32m      5\u001b[0m \u001b[38;5;28;01mdef\u001b[39;00m \u001b[38;5;21manimate\u001b[39m(instance, trajectories, dt, vehicle_l\u001b[38;5;241m=\u001b[39m\u001b[38;5;241m2\u001b[39m, vehicle_w\u001b[38;5;241m=\u001b[39m\u001b[38;5;241m1\u001b[39m):\n\u001b[0;32m----> 7\u001b[0m     rects \u001b[38;5;241m=\u001b[39m draw_vehicles(\u001b[43mG\u001b[49m, route, positions)\n\u001b[1;32m      9\u001b[0m     \u001b[38;5;28;01mdef\u001b[39;00m \u001b[38;5;21mupdate\u001b[39m(frame):\n\u001b[1;32m     10\u001b[0m         \u001b[38;5;28;01mfor\u001b[39;00m l \u001b[38;5;129;01min\u001b[39;00m \u001b[38;5;28mrange\u001b[39m(N):\n",
      "\u001b[0;31mNameError\u001b[0m: name 'G' is not defined"
     ]
    }
   ],
   "source": [
    "from motion.animation import animate\n",
    "plt.rcParams[\"animation.html\"] = \"jshtml\"\n",
    "plt.ioff();\n",
    "ani = animate(instance, trajectories, params['dt'], vehicle_l=vehicle_l)\n",
    "ani.save(filename=\"grid.mp4\", writer=\"ffmpeg\")"
   ]
  },
  {
   "cell_type": "code",
   "execution_count": 12,
   "id": "c6d7db9a-60d5-46e3-8766-fca95e0998de",
   "metadata": {},
   "outputs": [
    {
     "data": {
      "text/plain": [
       "np.float64(7.865021891201846)"
      ]
     },
     "execution_count": 12,
     "metadata": {},
     "output_type": "execute_result"
    }
   ],
   "source": [
    "trajectories[0][1][0]"
   ]
  },
  {
   "cell_type": "code",
   "execution_count": null,
   "id": "8fb44572-44c6-43d0-b172-695eb450d98b",
   "metadata": {},
   "outputs": [],
   "source": [
    "from network.util import draw_vehicles\n",
    "\n",
    "draw_vehicles(G, routes, trajectories)"
   ]
  }
 ],
 "metadata": {
  "kernelspec": {
   "display_name": "Python 3 (ipykernel)",
   "language": "python",
   "name": "python3"
  },
  "language_info": {
   "codemirror_mode": {
    "name": "ipython",
    "version": 3
   },
   "file_extension": ".py",
   "mimetype": "text/x-python",
   "name": "python",
   "nbconvert_exporter": "python",
   "pygments_lexer": "ipython3",
   "version": "3.12.3"
  }
 },
 "nbformat": 4,
 "nbformat_minor": 5
}
