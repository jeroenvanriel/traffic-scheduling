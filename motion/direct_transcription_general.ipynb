{
 "cells": [
  {
   "cell_type": "code",
   "execution_count": 1,
   "id": "a4449693-6d29-4808-af16-2019c84eb128",
   "metadata": {},
   "outputs": [
    {
     "name": "stdout",
     "output_type": "stream",
     "text": [
      "/home/jeroen/repos/traffic-scheduling\n"
     ]
    }
   ],
   "source": [
    "from amplpy import AMPL\n",
    "import matplotlib.pyplot as plt\n",
    "import numpy as np\n",
    "import pandas as pd\n",
    "%cd /home/jeroen/repos/traffic-scheduling/"
   ]
  },
  {
   "cell_type": "markdown",
   "id": "c4939b16-ae45-4369-9f75-3ebfd6ea3111",
   "metadata": {},
   "source": [
    "## Direct transcription for general objectives"
   ]
  },
  {
   "cell_type": "markdown",
   "id": "5acac1f2-d7ae-469f-9847-da483d8156a9",
   "metadata": {},
   "source": [
    "Given some general score function for trajectories (e.g., in terms of delay or energy or some combination of these), the optimal trajectories for a set of vehicles can be computed by considering discrete time steps. The forward Euler integration scheme is used to discretize the differential equations $\\dot{x} = v, \\ddot{x} = u$. The collision-avoidance constraints are imposed at each time step."
   ]
  },
  {
   "cell_type": "code",
   "execution_count": 30,
   "id": "df771e6e-0e5a-42ba-84fb-e318e35a1af9",
   "metadata": {},
   "outputs": [
    {
     "name": "stdout",
     "output_type": "stream",
     "text": [
      "SCIP 9.0.1: WARNING: No dual information available when presolving was performed.\n",
      "SCIP 9.0.1: optimal solution; objective 1601.544618\n",
      "46567 simplex iterations\n",
      "38 branching nodes\n",
      " \n",
      "------------ WARNINGS ------------\n",
      "WARNING:  \"Tolerance violations\"\n",
      "  Type                         MaxAbs [Name]   MaxRel [Name]\n",
      "* variable bounds              5E-06           2E-06         \n",
      "*: Using the solver's aux variable values.\n",
      "Documentation: mp.ampl.com/modeling-tools.html#automatic-solution-check.\n"
     ]
    }
   ],
   "source": [
    "ampl = AMPL()\n",
    "ampl.eval(r\"\"\"\n",
    "param N; # number of lanes\n",
    "param n {1..N}; # number of vehicles per lane\n",
    "param nmax = max {l in 1..N} n[l];\n",
    "set Ns = { l in 1..N, k in 1..nmax : k <= n[l] }; # vehicle indices\n",
    "\n",
    "param T; # number of discrete time steps\n",
    "param dt; # discrete time step size\n",
    "set Ts = 0..T; # step indices\n",
    "\n",
    "param eps; # minimum control input\n",
    "\n",
    "# objective parameters\n",
    "param Q;\n",
    "param R;\n",
    "param vd;\n",
    "\n",
    "# intersection and follow distances\n",
    "param L;\n",
    "param H;\n",
    "param P;\n",
    "\n",
    "# state and control variables\n",
    "var p {Ns, Ts}; # position\n",
    "var v {Ns, Ts}; # velocity\n",
    "var u {Ns, Ts}; # control (acceleration)\n",
    "\n",
    "param p0 {Ns}; # initial position\n",
    "param v0 {Ns}; # initial velocity\n",
    "\n",
    "# conjunctive/disjunctive pairs\n",
    "set C = {(l1,k1) in Ns, (l2,k2) in Ns: l1 == l2 and k2 = k1 + 1};\n",
    "set D = {(l1,k1) in Ns, (l2,k2) in Ns: l1 <> l2};\n",
    "\n",
    "# decision variables for the disjunctive constraints\n",
    "var delta {Ns, Ts} binary;\n",
    "var gamma {Ns, Ts} binary;\n",
    "\n",
    "# big-M\n",
    "param M;\n",
    "\n",
    "var f {(i,k) in Ns, t in Ts} = Q*(vd - v[i, k, t])^2 + R*(u[i, k, t]);\n",
    "minimize Objective: sum {(i,k) in Ns} dt*(0.5*f[i, k, 0] + 0.5*f[i, k, T] + (sum {t in 1..T-1} f[i, k, t]));\n",
    "\n",
    "subject to p_initial {(i,k) in Ns}: p[i, k, 0] = p0[i, k];\n",
    "subject to v_initial {(i,k) in Ns}: v[i, k, 0] = v0[i, k];\n",
    "\n",
    "subject to u_bounds {(i,k) in Ns, t in Ts}: -3 <= u[i, k, t] <= 3;\n",
    "subject to v_min {(i,k) in Ns, t in Ts}: v[i, k, t] >= eps;\n",
    "\n",
    "# forward Euler\n",
    "subject to integrate_p {(i,k) in Ns, t in 0..T-1}: p[i, k, t+1] = p[i, k, t] + dt*v[i, k, t];\n",
    "subject to integrate_v {(i,k) in Ns, t in 0..T-1}: v[i, k, t+1] = v[i, k, t] + dt*u[i, k, t];\n",
    "\n",
    "# disjunctive constraints\n",
    "subject to disjunctive_1 {(i,k) in Ns, t in 0..T}: p[i, k, t] <= L + delta[i, k, t] * M;\n",
    "subject to disjunctive_2 {(i,k) in Ns, t in 0..T}: H - gamma[i, k, t] * M <= p[i, k, t];\n",
    "subject to disjunctive_3 {(i1,k1,i2,k2) in D, t in 0..T}: delta[i1,k1, t] + delta[i2,k2, t] + gamma[i1,k1, t] + gamma[i2,k2, t] <= 3;\n",
    "\n",
    "# follow constraints\n",
    "subject to follow {(i1,k1,i2,k2) in C, t in 0..T}: p[i1,k1, t] - p[i2,k2, t] >= P;\n",
    "\"\"\")\n",
    "\n",
    "instance = {\n",
    "    'p0': [[15, 10,  0], [10,  0]],\n",
    "    'v0': [[10, 10,  6], [12, 10]],\n",
    "    'L': 30,\n",
    "    'H': 40,\n",
    "}\n",
    "\n",
    "N = len(instance['p0'])\n",
    "ampl.param[\"N\"] = N\n",
    "ampl.param[\"n\"] = [len(instance['p0'][i]) for i in range(N)]\n",
    "\n",
    "# initial positions\n",
    "ampl.param[\"p0\"] = [x for xs in instance['p0'] for x in xs]\n",
    "ampl.param[\"v0\"] = [x for xs in instance['v0'] for x in xs]\n",
    "\n",
    "# intersection intervals\n",
    "ampl.param[\"L\"] = instance[\"L\"]\n",
    "ampl.param[\"H\"] = instance[\"H\"]\n",
    "ampl.param[\"P\"] = 5\n",
    "\n",
    "ampl.param[\"T\"] = 120\n",
    "ampl.param[\"dt\"] = 0.1\n",
    "ampl.param[\"eps\"] = 0.01\n",
    "ampl.param[\"Q\"] = 1\n",
    "ampl.param[\"R\"] = 1\n",
    "ampl.param[\"vd\"] = 20\n",
    "\n",
    "# big-M\n",
    "ampl.param[\"M\"] = 1000\n",
    "\n",
    "ampl.solve(solver=\"scip\")\n",
    "assert ampl.solve_result == \"solved\"\n",
    "\n",
    "p = ampl.get_variable(\"p\").to_pandas()"
   ]
  },
  {
   "cell_type": "markdown",
   "id": "2654023a-fcee-44ae-8069-b17299b60836",
   "metadata": {},
   "source": [
    "Make a \"split\" plot, where the vehicle trajectories from two incoming lanes are shown incoming from above and below a central marked intersection area."
   ]
  },
  {
   "cell_type": "code",
   "execution_count": 31,
   "id": "036f4184-e4d5-4769-beaa-a3b4a821103c",
   "metadata": {},
   "outputs": [
    {
     "data": {
      "image/png": "[encoded data removed]",
      "text/plain": [
       "<Figure size 640x480 with 1 Axes>"
      ]
     },
     "metadata": {},
     "output_type": "display_data"
    }
   ],
   "source": [
    "fig, ax = plt.subplots()\n",
    "ax.set_xlabel('t')\n",
    "ax.set_ylabel('x(t)')\n",
    "# plot the intersection region\n",
    "plt.axhspan(instance['L'], instance['H'], alpha=0.2)\n",
    "\n",
    "# split axis and invert ticks\n",
    "step = 10\n",
    "ticks = np.arange(0, instance['L'], step)\n",
    "double_ticks = np.concat([ticks, instance['H'] + step + np.flip(ticks)])\n",
    "labels = np.concat([ticks, ticks])\n",
    "plt.yticks(ticks=double_ticks, labels=labels)\n",
    "\n",
    "for index, df in p.groupby(['index0', 'index1']):\n",
    "    l = index[0]\n",
    "    k = index[1]\n",
    "    if l == 2:\n",
    "        plt.plot(df[df < instance['H']].to_numpy(), color='r')\n",
    "    elif l == 1:\n",
    "        offset = (instance['H'] + instance['L']) / 2\n",
    "        plt.plot(2*offset - df[df < instance['H']].to_numpy(), color='g')\n",
    "\n",
    "plt.savefig('motion/trajectories_general.pdf')\n",
    "plt.show()"
   ]
  },
  {
   "cell_type": "code",
   "execution_count": null,
   "id": "effc5199-24a7-4ef4-ae02-a83d68dd9281",
   "metadata": {},
   "outputs": [],
   "source": []
  }
 ],
 "metadata": {
  "kernelspec": {
   "display_name": "Python 3 (ipykernel)",
   "language": "python",
   "name": "python3"
  },
  "language_info": {
   "codemirror_mode": {
    "name": "ipython",
    "version": 3
   },
   "file_extension": ".py",
   "mimetype": "text/x-python",
   "name": "python",
   "nbconvert_exporter": "python",
   "pygments_lexer": "ipython3",
   "version": "3.12.3"
  }
 },
 "nbformat": 4,
 "nbformat_minor": 5
}
